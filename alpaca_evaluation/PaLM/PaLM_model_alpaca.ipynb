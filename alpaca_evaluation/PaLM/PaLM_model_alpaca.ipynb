{
 "cells": [
  {
   "cell_type": "code",
   "execution_count": 1,
   "id": "07534965-4e85-416b-9326-d4e869e8aadb",
   "metadata": {},
   "outputs": [],
   "source": [
    "!pip install google-cloud-aiplatform --upgrade --user --quiet"
   ]
  },
  {
   "cell_type": "code",
   "execution_count": null,
   "id": "adda0f28-00d2-4edd-9860-af87cbadcd95",
   "metadata": {},
   "outputs": [],
   "source": [
    "!pip install datasets"
   ]
  },
  {
   "cell_type": "code",
   "execution_count": 2,
   "id": "44f8aa80-b475-4ed3-bb50-6a417c60c91d",
   "metadata": {},
   "outputs": [
    {
     "name": "stderr",
     "output_type": "stream",
     "text": [
      "2023-09-14 15:25:57.179687: I tensorflow/core/platform/cpu_feature_guard.cc:193] This TensorFlow binary is optimized with oneAPI Deep Neural Network Library (oneDNN) to use the following CPU instructions in performance-critical operations:  AVX2 FMA\n",
      "To enable them in other operations, rebuild TensorFlow with the appropriate compiler flags.\n",
      "2023-09-14 15:25:58.247257: W tensorflow/compiler/xla/stream_executor/platform/default/dso_loader.cc:64] Could not load dynamic library 'libnvinfer.so.7'; dlerror: libnvinfer.so.7: cannot open shared object file: No such file or directory; LD_LIBRARY_PATH: /usr/local/cuda/lib64:/usr/local/nccl2/lib:/usr/local/cuda/extras/CUPTI/lib64\n",
      "2023-09-14 15:25:58.247384: W tensorflow/compiler/xla/stream_executor/platform/default/dso_loader.cc:64] Could not load dynamic library 'libnvinfer_plugin.so.7'; dlerror: libnvinfer_plugin.so.7: cannot open shared object file: No such file or directory; LD_LIBRARY_PATH: /usr/local/cuda/lib64:/usr/local/nccl2/lib:/usr/local/cuda/extras/CUPTI/lib64\n",
      "2023-09-14 15:25:58.247394: W tensorflow/compiler/tf2tensorrt/utils/py_utils.cc:38] TF-TRT Warning: Cannot dlopen some TensorRT libraries. If you would like to use Nvidia GPU with TensorRT, please make sure the missing libraries mentioned above are installed properly.\n"
     ]
    }
   ],
   "source": [
    "import pandas as pd\n",
    "from IPython.display import Markdown, display\n",
    "from vertexai.language_models import TextGenerationModel"
   ]
  },
  {
   "cell_type": "code",
   "execution_count": 3,
   "id": "8e8d4372-c5f9-41cf-a8a6-4f724bce1b51",
   "metadata": {},
   "outputs": [],
   "source": [
    "generation_model = TextGenerationModel.from_pretrained(\"text-bison@001\")"
   ]
  },
  {
   "cell_type": "code",
   "execution_count": 12,
   "id": "2525d046-53db-4188-954e-7493348c4ebb",
   "metadata": {},
   "outputs": [],
   "source": [
    "def query_model(prompt, model_predictor):    \n",
    "    response = model_predictor.predict(\n",
    "        prompt=prompt\n",
    "    )\n",
    "    \n",
    "    return {'output': response.text} "
   ]
  },
  {
   "cell_type": "code",
   "execution_count": 1,
   "id": "5575d202-c288-4a7e-b1b3-d4e4dd8e95f1",
   "metadata": {},
   "outputs": [],
   "source": [
    "import datasets\n",
    "\n",
    "eval_set = datasets.load_dataset(\"tatsu-lab/alpaca_eval\", \"alpaca_eval\")[\"eval\"]"
   ]
  },
  {
   "cell_type": "code",
   "execution_count": 4,
   "id": "ec063fda-cd59-4c3c-8a8d-38d0d4c0a704",
   "metadata": {},
   "outputs": [
    {
     "data": {
      "text/plain": [
       "{'instruction': 'What are the names of some famous actors that started their careers on Broadway?',\n",
       " 'output': 'Some famous actors that started their careers on Broadway include: \\n1. Hugh Jackman \\n2. Meryl Streep \\n3. Denzel Washington \\n4. Julia Roberts \\n5. Christopher Walken \\n6. Anthony Rapp \\n7. Audra McDonald \\n8. Nathan Lane \\n9. Sarah Jessica Parker \\n10. Lin-Manuel Miranda',\n",
       " 'generator': 'text_davinci_003',\n",
       " 'dataset': 'helpful_base'}"
      ]
     },
     "execution_count": 4,
     "metadata": {},
     "output_type": "execute_result"
    }
   ],
   "source": [
    "eval_set[0]"
   ]
  },
  {
   "cell_type": "code",
   "execution_count": 8,
   "id": "6999e479-3792-47b2-a22d-db936ab4a061",
   "metadata": {},
   "outputs": [
    {
     "data": {
      "text/plain": [
       "805"
      ]
     },
     "execution_count": 8,
     "metadata": {},
     "output_type": "execute_result"
    }
   ],
   "source": [
    "len(eval_set)"
   ]
  },
  {
   "cell_type": "code",
   "execution_count": 19,
   "id": "fc4ae078-146b-45a6-995d-69a55c1d4240",
   "metadata": {},
   "outputs": [
    {
     "data": {
      "text/html": [
       "<div>\n",
       "<style scoped>\n",
       "    .dataframe tbody tr th:only-of-type {\n",
       "        vertical-align: middle;\n",
       "    }\n",
       "\n",
       "    .dataframe tbody tr th {\n",
       "        vertical-align: top;\n",
       "    }\n",
       "\n",
       "    .dataframe thead th {\n",
       "        text-align: right;\n",
       "    }\n",
       "</style>\n",
       "<table border=\"1\" class=\"dataframe\">\n",
       "  <thead>\n",
       "    <tr style=\"text-align: right;\">\n",
       "      <th></th>\n",
       "      <th>output</th>\n",
       "    </tr>\n",
       "  </thead>\n",
       "  <tbody>\n",
       "    <tr>\n",
       "      <th>0</th>\n",
       "      <td>* Meryl Streep\\n* Marlon Brando\\n* James Dean\\...</td>\n",
       "    </tr>\n",
       "    <tr>\n",
       "      <th>1</th>\n",
       "      <td>The names of the 50 US states come from a vari...</td>\n",
       "    </tr>\n",
       "    <tr>\n",
       "      <th>2</th>\n",
       "      <td>Kickball is a game that is played with a ball ...</td>\n",
       "    </tr>\n",
       "    <tr>\n",
       "      <th>3</th>\n",
       "      <td>* \"The Charleston\" by James P. Johnson\\n* \"Ain...</td>\n",
       "    </tr>\n",
       "    <tr>\n",
       "      <th>4</th>\n",
       "      <td>1. **Choose the right wrapping paper.** The si...</td>\n",
       "    </tr>\n",
       "    <tr>\n",
       "      <th>...</th>\n",
       "      <td>...</td>\n",
       "    </tr>\n",
       "    <tr>\n",
       "      <th>800</th>\n",
       "      <td>**Intro**\\n\\nJazz is a music genre that origin...</td>\n",
       "    </tr>\n",
       "    <tr>\n",
       "      <th>801</th>\n",
       "      <td>**A Trip to Hawaii: The Cultural Experience**\\...</td>\n",
       "    </tr>\n",
       "    <tr>\n",
       "      <th>802</th>\n",
       "      <td>The new science fiction film \"Interstellar\" is...</td>\n",
       "    </tr>\n",
       "    <tr>\n",
       "      <th>803</th>\n",
       "      <td>**Intro**\\n\\nWelcome to the first episode of o...</td>\n",
       "    </tr>\n",
       "    <tr>\n",
       "      <th>804</th>\n",
       "      <td>The San Francisco Symphony Orchestra gave a ma...</td>\n",
       "    </tr>\n",
       "  </tbody>\n",
       "</table>\n",
       "<p>805 rows × 1 columns</p>\n",
       "</div>"
      ],
      "text/plain": [
       "                                                output\n",
       "0    * Meryl Streep\\n* Marlon Brando\\n* James Dean\\...\n",
       "1    The names of the 50 US states come from a vari...\n",
       "2    Kickball is a game that is played with a ball ...\n",
       "3    * \"The Charleston\" by James P. Johnson\\n* \"Ain...\n",
       "4    1. **Choose the right wrapping paper.** The si...\n",
       "..                                                 ...\n",
       "800  **Intro**\\n\\nJazz is a music genre that origin...\n",
       "801  **A Trip to Hawaii: The Cultural Experience**\\...\n",
       "802  The new science fiction film \"Interstellar\" is...\n",
       "803  **Intro**\\n\\nWelcome to the first episode of o...\n",
       "804  The San Francisco Symphony Orchestra gave a ma...\n",
       "\n",
       "[805 rows x 1 columns]"
      ]
     },
     "execution_count": 19,
     "metadata": {},
     "output_type": "execute_result"
    }
   ],
   "source": [
    "import time\n",
    "\n",
    "# Create an empty list to store the results\n",
    "results_list = []\n",
    "\n",
    "for i in range(len(eval_set)):\n",
    "    example = eval_set[i]\n",
    "    result = query_model(prompt = example[\"instruction\"], model_predictor = generation_model)\n",
    "    results_list.append(result)\n",
    "    if i % 60 == 0:\n",
    "        time.sleep(60)\n",
    "    \n",
    "# Create a new DataFrame from the results list\n",
    "results_list = pd.DataFrame(results_list)\n",
    "\n",
    "results_list"
   ]
  },
  {
   "cell_type": "code",
   "execution_count": 20,
   "id": "9cea2128-ad82-4c50-9120-0318a830e975",
   "metadata": {},
   "outputs": [],
   "source": [
    "results_list.to_json('palm_alpaca_eval.json')"
   ]
  },
  {
   "cell_type": "code",
   "execution_count": 21,
   "id": "b640e733-1c78-47fb-ae5f-300cd80e6c7b",
   "metadata": {},
   "outputs": [
    {
     "data": {
      "text/html": [
       "<div>\n",
       "<style scoped>\n",
       "    .dataframe tbody tr th:only-of-type {\n",
       "        vertical-align: middle;\n",
       "    }\n",
       "\n",
       "    .dataframe tbody tr th {\n",
       "        vertical-align: top;\n",
       "    }\n",
       "\n",
       "    .dataframe thead th {\n",
       "        text-align: right;\n",
       "    }\n",
       "</style>\n",
       "<table border=\"1\" class=\"dataframe\">\n",
       "  <thead>\n",
       "    <tr style=\"text-align: right;\">\n",
       "      <th></th>\n",
       "      <th>output</th>\n",
       "    </tr>\n",
       "  </thead>\n",
       "  <tbody>\n",
       "    <tr>\n",
       "      <th>0</th>\n",
       "      <td>* Meryl Streep\\n* Marlon Brando\\n* James Dean\\...</td>\n",
       "    </tr>\n",
       "    <tr>\n",
       "      <th>1</th>\n",
       "      <td>The names of the 50 US states come from a vari...</td>\n",
       "    </tr>\n",
       "    <tr>\n",
       "      <th>10</th>\n",
       "      <td>Retinoids are a class of drugs that are used t...</td>\n",
       "    </tr>\n",
       "    <tr>\n",
       "      <th>100</th>\n",
       "      <td>Ingredients:\\n\\n* 1 pound (450g) dried tofu, c...</td>\n",
       "    </tr>\n",
       "    <tr>\n",
       "      <th>101</th>\n",
       "      <td>* A zombie: This is a classic Halloween costum...</td>\n",
       "    </tr>\n",
       "  </tbody>\n",
       "</table>\n",
       "</div>"
      ],
      "text/plain": [
       "                                                output\n",
       "0    * Meryl Streep\\n* Marlon Brando\\n* James Dean\\...\n",
       "1    The names of the 50 US states come from a vari...\n",
       "10   Retinoids are a class of drugs that are used t...\n",
       "100  Ingredients:\\n\\n* 1 pound (450g) dried tofu, c...\n",
       "101  * A zombie: This is a classic Halloween costum..."
      ]
     },
     "execution_count": 21,
     "metadata": {},
     "output_type": "execute_result"
    }
   ],
   "source": [
    "palm_alpaca_eval_df = pd.read_json('palm_alpaca_eval.json')\n",
    "palm_alpaca_eval_df.head()"
   ]
  },
  {
   "cell_type": "code",
   "execution_count": 27,
   "id": "234b6552-0878-46bb-9ec2-a80549e01deb",
   "metadata": {},
   "outputs": [
    {
     "data": {
      "text/plain": [
       "805"
      ]
     },
     "execution_count": 27,
     "metadata": {},
     "output_type": "execute_result"
    }
   ],
   "source": [
    "len(palm_alpaca_eval_df)"
   ]
  },
  {
   "cell_type": "code",
   "execution_count": 22,
   "id": "a75da9df-c14a-4eeb-b788-1c05230afc64",
   "metadata": {},
   "outputs": [],
   "source": [
    "def remove_newlines(text):\n",
    "    cleaned_text = text.replace('\\n', ' ')\n",
    "    return cleaned_text"
   ]
  },
  {
   "cell_type": "code",
   "execution_count": 23,
   "id": "06ac3936-422a-4d1b-8f30-85cc84397d56",
   "metadata": {},
   "outputs": [],
   "source": [
    "palm_alpaca_eval_df['output_v2'] = palm_alpaca_eval_df['output'].apply(remove_newlines)"
   ]
  },
  {
   "cell_type": "code",
   "execution_count": 39,
   "id": "311c48a3-f171-429d-9d36-cade80a94b23",
   "metadata": {},
   "outputs": [
    {
     "data": {
      "text/plain": [
       "(805, 2)"
      ]
     },
     "execution_count": 39,
     "metadata": {},
     "output_type": "execute_result"
    }
   ],
   "source": [
    "palm_alpaca_eval_df.shape"
   ]
  },
  {
   "cell_type": "code",
   "execution_count": 40,
   "id": "5a589d10-126d-40d6-9669-c01d3ba1327a",
   "metadata": {},
   "outputs": [],
   "source": [
    "eval_set_df = eval_set.to_pandas()"
   ]
  },
  {
   "cell_type": "code",
   "execution_count": 41,
   "id": "c35edfe2-0a4b-4671-8534-494ec279f26e",
   "metadata": {},
   "outputs": [],
   "source": [
    "palm_alpaca_eval_df.rename(columns={'output': 'palm_output', 'output_v2': 'palm_output_v2'}, inplace=True)"
   ]
  },
  {
   "cell_type": "code",
   "execution_count": 42,
   "id": "75d1c1f4-8732-44b7-8da0-899c8a42f4f0",
   "metadata": {},
   "outputs": [
    {
     "data": {
      "text/html": [
       "<div>\n",
       "<style scoped>\n",
       "    .dataframe tbody tr th:only-of-type {\n",
       "        vertical-align: middle;\n",
       "    }\n",
       "\n",
       "    .dataframe tbody tr th {\n",
       "        vertical-align: top;\n",
       "    }\n",
       "\n",
       "    .dataframe thead th {\n",
       "        text-align: right;\n",
       "    }\n",
       "</style>\n",
       "<table border=\"1\" class=\"dataframe\">\n",
       "  <thead>\n",
       "    <tr style=\"text-align: right;\">\n",
       "      <th></th>\n",
       "      <th>instruction</th>\n",
       "      <th>output</th>\n",
       "      <th>generator</th>\n",
       "      <th>dataset</th>\n",
       "      <th>palm_output</th>\n",
       "      <th>palm_output_v2</th>\n",
       "    </tr>\n",
       "  </thead>\n",
       "  <tbody>\n",
       "    <tr>\n",
       "      <th>0</th>\n",
       "      <td>What are the names of some famous actors that ...</td>\n",
       "      <td>Some famous actors that started their careers ...</td>\n",
       "      <td>text_davinci_003</td>\n",
       "      <td>helpful_base</td>\n",
       "      <td>* Meryl Streep\\n* Marlon Brando\\n* James Dean\\...</td>\n",
       "      <td>* Meryl Streep * Marlon Brando * James Dean * ...</td>\n",
       "    </tr>\n",
       "    <tr>\n",
       "      <th>1</th>\n",
       "      <td>How did US states get their names?</td>\n",
       "      <td>US states get their names from a variety of so...</td>\n",
       "      <td>text_davinci_003</td>\n",
       "      <td>helpful_base</td>\n",
       "      <td>The names of the 50 US states come from a vari...</td>\n",
       "      <td>The names of the 50 US states come from a vari...</td>\n",
       "    </tr>\n",
       "    <tr>\n",
       "      <th>2</th>\n",
       "      <td>Hi, my sister and her girlfriends want me to p...</td>\n",
       "      <td>Kickball is a game similar to baseball, but wi...</td>\n",
       "      <td>text_davinci_003</td>\n",
       "      <td>helpful_base</td>\n",
       "      <td>Kickball is a game that is played with a ball ...</td>\n",
       "      <td>Kickball is a game that is played with a ball ...</td>\n",
       "    </tr>\n",
       "    <tr>\n",
       "      <th>3</th>\n",
       "      <td>What is some cool music from the 1920s?</td>\n",
       "      <td>Some cool music from the 1920s includes jazz c...</td>\n",
       "      <td>text_davinci_003</td>\n",
       "      <td>helpful_base</td>\n",
       "      <td>* \"The Charleston\" by James P. Johnson\\n* \"Ain...</td>\n",
       "      <td>* \"The Charleston\" by James P. Johnson * \"Ain'...</td>\n",
       "    </tr>\n",
       "    <tr>\n",
       "      <th>4</th>\n",
       "      <td>How do I wrap a present neatly?</td>\n",
       "      <td>1. Start by gathering the supplies you will ne...</td>\n",
       "      <td>text_davinci_003</td>\n",
       "      <td>helpful_base</td>\n",
       "      <td>1. **Choose the right wrapping paper.** The si...</td>\n",
       "      <td>1. **Choose the right wrapping paper.** The si...</td>\n",
       "    </tr>\n",
       "  </tbody>\n",
       "</table>\n",
       "</div>"
      ],
      "text/plain": [
       "                                         instruction  \\\n",
       "0  What are the names of some famous actors that ...   \n",
       "1                 How did US states get their names?   \n",
       "2  Hi, my sister and her girlfriends want me to p...   \n",
       "3            What is some cool music from the 1920s?   \n",
       "4                    How do I wrap a present neatly?   \n",
       "\n",
       "                                              output         generator  \\\n",
       "0  Some famous actors that started their careers ...  text_davinci_003   \n",
       "1  US states get their names from a variety of so...  text_davinci_003   \n",
       "2  Kickball is a game similar to baseball, but wi...  text_davinci_003   \n",
       "3  Some cool music from the 1920s includes jazz c...  text_davinci_003   \n",
       "4  1. Start by gathering the supplies you will ne...  text_davinci_003   \n",
       "\n",
       "        dataset                                        palm_output  \\\n",
       "0  helpful_base  * Meryl Streep\\n* Marlon Brando\\n* James Dean\\...   \n",
       "1  helpful_base  The names of the 50 US states come from a vari...   \n",
       "2  helpful_base  Kickball is a game that is played with a ball ...   \n",
       "3  helpful_base  * \"The Charleston\" by James P. Johnson\\n* \"Ain...   \n",
       "4  helpful_base  1. **Choose the right wrapping paper.** The si...   \n",
       "\n",
       "                                      palm_output_v2  \n",
       "0  * Meryl Streep * Marlon Brando * James Dean * ...  \n",
       "1  The names of the 50 US states come from a vari...  \n",
       "2  Kickball is a game that is played with a ball ...  \n",
       "3  * \"The Charleston\" by James P. Johnson * \"Ain'...  \n",
       "4  1. **Choose the right wrapping paper.** The si...  "
      ]
     },
     "execution_count": 42,
     "metadata": {},
     "output_type": "execute_result"
    }
   ],
   "source": [
    "combined_df = pd.concat([eval_set_df, palm_alpaca_eval_df,], axis=1)\n",
    "combined_df.head()"
   ]
  },
  {
   "cell_type": "code",
   "execution_count": 43,
   "id": "386d54d3-03cc-4698-96db-7271cf4a763f",
   "metadata": {},
   "outputs": [],
   "source": [
    "temp_df = combined_df[['instruction', 'output']]\n",
    "temp_df.to_json(\"combined_df.json\", orient='records')"
   ]
  },
  {
   "cell_type": "code",
   "execution_count": 6,
   "id": "3fd751f4-d5b0-44ee-9f43-41e0d87a490a",
   "metadata": {},
   "outputs": [
    {
     "data": {
      "text/html": [
       "<div>\n",
       "<style scoped>\n",
       "    .dataframe tbody tr th:only-of-type {\n",
       "        vertical-align: middle;\n",
       "    }\n",
       "\n",
       "    .dataframe tbody tr th {\n",
       "        vertical-align: top;\n",
       "    }\n",
       "\n",
       "    .dataframe thead th {\n",
       "        text-align: right;\n",
       "    }\n",
       "</style>\n",
       "<table border=\"1\" class=\"dataframe\">\n",
       "  <thead>\n",
       "    <tr style=\"text-align: right;\">\n",
       "      <th></th>\n",
       "      <th>instruction</th>\n",
       "      <th>output</th>\n",
       "    </tr>\n",
       "  </thead>\n",
       "  <tbody>\n",
       "    <tr>\n",
       "      <th>0</th>\n",
       "      <td>What are the names of some famous actors that ...</td>\n",
       "      <td>Some famous actors that started their careers ...</td>\n",
       "    </tr>\n",
       "    <tr>\n",
       "      <th>1</th>\n",
       "      <td>How did US states get their names?</td>\n",
       "      <td>US states get their names from a variety of so...</td>\n",
       "    </tr>\n",
       "    <tr>\n",
       "      <th>2</th>\n",
       "      <td>Hi, my sister and her girlfriends want me to p...</td>\n",
       "      <td>Kickball is a game similar to baseball, but wi...</td>\n",
       "    </tr>\n",
       "    <tr>\n",
       "      <th>3</th>\n",
       "      <td>What is some cool music from the 1920s?</td>\n",
       "      <td>Some cool music from the 1920s includes jazz c...</td>\n",
       "    </tr>\n",
       "    <tr>\n",
       "      <th>4</th>\n",
       "      <td>How do I wrap a present neatly?</td>\n",
       "      <td>1. Start by gathering the supplies you will ne...</td>\n",
       "    </tr>\n",
       "  </tbody>\n",
       "</table>\n",
       "</div>"
      ],
      "text/plain": [
       "                                         instruction  \\\n",
       "0  What are the names of some famous actors that ...   \n",
       "1                 How did US states get their names?   \n",
       "2  Hi, my sister and her girlfriends want me to p...   \n",
       "3            What is some cool music from the 1920s?   \n",
       "4                    How do I wrap a present neatly?   \n",
       "\n",
       "                                              output  \n",
       "0  Some famous actors that started their careers ...  \n",
       "1  US states get their names from a variety of so...  \n",
       "2  Kickball is a game similar to baseball, but wi...  \n",
       "3  Some cool music from the 1920s includes jazz c...  \n",
       "4  1. Start by gathering the supplies you will ne...  "
      ]
     },
     "execution_count": 6,
     "metadata": {},
     "output_type": "execute_result"
    }
   ],
   "source": [
    "import pandas as pd\n",
    "\n",
    "combined_df = pd.read_json(\"combined_df.json\")\n",
    "combined_df.head()"
   ]
  },
  {
   "cell_type": "code",
   "execution_count": 7,
   "id": "6a71d2df-0140-453b-9848-fb4e408879fb",
   "metadata": {},
   "outputs": [
    {
     "data": {
      "text/html": [
       "<div>\n",
       "<style scoped>\n",
       "    .dataframe tbody tr th:only-of-type {\n",
       "        vertical-align: middle;\n",
       "    }\n",
       "\n",
       "    .dataframe tbody tr th {\n",
       "        vertical-align: top;\n",
       "    }\n",
       "\n",
       "    .dataframe thead th {\n",
       "        text-align: right;\n",
       "    }\n",
       "</style>\n",
       "<table border=\"1\" class=\"dataframe\">\n",
       "  <thead>\n",
       "    <tr style=\"text-align: right;\">\n",
       "      <th></th>\n",
       "      <th>instruction</th>\n",
       "      <th>output</th>\n",
       "    </tr>\n",
       "  </thead>\n",
       "  <tbody>\n",
       "    <tr>\n",
       "      <th>0</th>\n",
       "      <td>What are the names of some famous actors that started their careers on Broadway?</td>\n",
       "      <td>Some famous actors that started their careers on Broadway include: \\n1. Hugh Jackman \\n2. Meryl Streep \\n3. Denzel Washington \\n4. Julia Roberts \\n5. Christopher Walken \\n6. Anthony Rapp \\n7. Audra McDonald \\n8. Nathan Lane \\n9. Sarah Jessica Parker \\n10. Lin-Manuel Miranda</td>\n",
       "    </tr>\n",
       "    <tr>\n",
       "      <th>1</th>\n",
       "      <td>How did US states get their names?</td>\n",
       "      <td>US states get their names from a variety of sources, including Native American tribes, Spanish explorers, British colonists, and even presidents. For example, the state of Alabama was named after the Native American tribe that lived in the area, while the state of Florida gets its name from the Spanish explorer, Ponce de Leon, who explored the area in the 1500s. Other states are named after English kings (like Virginia, named after England's \"Virgin Queen,\" Queen Elizabeth I) or presidents (like Washington, named after George Washington).</td>\n",
       "    </tr>\n",
       "    <tr>\n",
       "      <th>2</th>\n",
       "      <td>Hi, my sister and her girlfriends want me to play kickball with them. Can you explain how the game is played, so they don't take advantage of me?</td>\n",
       "      <td>Kickball is a game similar to baseball, but with a large rubber ball instead of a bat and a ball. The game is usually played with two teams of six players each. Each team has three bases and a home plate. The players on the kicking team line up at home plate and take turns kicking the ball. The object of the game is to score runs by running around all three bases and back to home plate without being tagged out by the defense. The team with the most runs at the end of the game is the winner.</td>\n",
       "    </tr>\n",
       "    <tr>\n",
       "      <th>3</th>\n",
       "      <td>What is some cool music from the 1920s?</td>\n",
       "      <td>Some cool music from the 1920s includes jazz classics like Duke Ellington's \"Mood Indigo,\" Louis Armstrong's \"West End Blues,\" and Bessie Smith's \"Down Hearted Blues.\" Other popular tunes from the era include Fats Waller's \"Ain't Misbehavin,\" George Gershwin's \"Rhapsody in Blue,\" and Irving Berlin's \"Puttin' On the Ritz.\"</td>\n",
       "    </tr>\n",
       "    <tr>\n",
       "      <th>4</th>\n",
       "      <td>How do I wrap a present neatly?</td>\n",
       "      <td>1. Start by gathering the supplies you will need to wrap the present, such as wrapping paper, tape, scissors, and ribbon.\\n\\n2. Cut the wrapping paper to the size of the gift, ensuring that there is enough paper to cover the entire gift.\\n\\n3. Place the gift in the center of the wrapping paper, and fold the sides in, tucking the excess paper at the bottom.\\n\\n4. Secure the folded paper with tape.\\n\\n5. Cut a length of ribbon and tie it around the gift.\\n\\n6. Trim the excess ribbon with scissors.\\n\\n7. Add a decorative bow or other embellishment to the top of the gift.</td>\n",
       "    </tr>\n",
       "    <tr>\n",
       "      <th>...</th>\n",
       "      <td>...</td>\n",
       "      <td>...</td>\n",
       "    </tr>\n",
       "    <tr>\n",
       "      <th>95</th>\n",
       "      <td>I want to start saving some money by growing my own food. Can I do this during the winter with an indoor garden?</td>\n",
       "      <td>Yes, you can grow your own food indoors during the winter with an indoor garden. An indoor garden can be set up with a hydroponic system, or with containers, shelves, and lighting. You will need soil, seeds, and some basic gardening tools to get started. Additionally, you may need to purchase grow lights if you don't have enough natural sunlight coming in.</td>\n",
       "    </tr>\n",
       "    <tr>\n",
       "      <th>96</th>\n",
       "      <td>How can I spice things up in the bedroom?</td>\n",
       "      <td>1. Try new positions. \\n2. Introduce toys and props. \\n3. Use massage and body oils. \\n4. Play music and create a mood. \\n5. Bring food into the bedroom. \\n6. Talk dirty. \\n7. Take pictures of each other.\\n8. Role play. \\n9. Make a game of it. \\n10. Try mutual masturbation.</td>\n",
       "    </tr>\n",
       "    <tr>\n",
       "      <th>97</th>\n",
       "      <td>Is human blood ever any color other than red?</td>\n",
       "      <td>No, human blood is always red.</td>\n",
       "    </tr>\n",
       "    <tr>\n",
       "      <th>98</th>\n",
       "      <td>Please tell me about pearls.  Where are they found?</td>\n",
       "      <td>Pearls are a type of gemstone that are produced by mollusks, most often oysters. They are formed when a grain of sand or other irritant gets inside the mollusk and the mollusk secretes layers of calcium carbonate around it in order to protect itself. The result is a beautiful gemstone with a unique iridescence. Pearls are found all over the world, but the most valuable pearls come from the South Pacific and the Persian Gulf.</td>\n",
       "    </tr>\n",
       "    <tr>\n",
       "      <th>99</th>\n",
       "      <td>What are some herbs I can dry out?</td>\n",
       "      <td>Some herbs you can dry out include:\\n\\n- Oregano\\n- Thyme\\n- Parsley\\n- Basil\\n- Rosemary\\n- Sage\\n- Lavender\\n- Mint\\n- Dill\\n- Marjoram</td>\n",
       "    </tr>\n",
       "  </tbody>\n",
       "</table>\n",
       "<p>100 rows × 2 columns</p>\n",
       "</div>"
      ],
      "text/plain": [
       "                                                                                                                                          instruction  \\\n",
       "0                                                                    What are the names of some famous actors that started their careers on Broadway?   \n",
       "1                                                                                                                  How did US states get their names?   \n",
       "2   Hi, my sister and her girlfriends want me to play kickball with them. Can you explain how the game is played, so they don't take advantage of me?   \n",
       "3                                                                                                             What is some cool music from the 1920s?   \n",
       "4                                                                                                                     How do I wrap a present neatly?   \n",
       "..                                                                                                                                                ...   \n",
       "95                                   I want to start saving some money by growing my own food. Can I do this during the winter with an indoor garden?   \n",
       "96                                                                                                          How can I spice things up in the bedroom?   \n",
       "97                                                                                                      Is human blood ever any color other than red?   \n",
       "98                                                                                                Please tell me about pearls.  Where are they found?   \n",
       "99                                                                                                                 What are some herbs I can dry out?   \n",
       "\n",
       "                                                                                                                                                                                                                                                                                                                                                                                                                                                                                                                                                                                            output  \n",
       "0                                                                                                                                                                                                                                                                                                               Some famous actors that started their careers on Broadway include: \\n1. Hugh Jackman \\n2. Meryl Streep \\n3. Denzel Washington \\n4. Julia Roberts \\n5. Christopher Walken \\n6. Anthony Rapp \\n7. Audra McDonald \\n8. Nathan Lane \\n9. Sarah Jessica Parker \\n10. Lin-Manuel Miranda  \n",
       "1                                 US states get their names from a variety of sources, including Native American tribes, Spanish explorers, British colonists, and even presidents. For example, the state of Alabama was named after the Native American tribe that lived in the area, while the state of Florida gets its name from the Spanish explorer, Ponce de Leon, who explored the area in the 1500s. Other states are named after English kings (like Virginia, named after England's \"Virgin Queen,\" Queen Elizabeth I) or presidents (like Washington, named after George Washington).  \n",
       "2                                                                                  Kickball is a game similar to baseball, but with a large rubber ball instead of a bat and a ball. The game is usually played with two teams of six players each. Each team has three bases and a home plate. The players on the kicking team line up at home plate and take turns kicking the ball. The object of the game is to score runs by running around all three bases and back to home plate without being tagged out by the defense. The team with the most runs at the end of the game is the winner.  \n",
       "3                                                                                                                                                                                                                                                              Some cool music from the 1920s includes jazz classics like Duke Ellington's \"Mood Indigo,\" Louis Armstrong's \"West End Blues,\" and Bessie Smith's \"Down Hearted Blues.\" Other popular tunes from the era include Fats Waller's \"Ain't Misbehavin,\" George Gershwin's \"Rhapsody in Blue,\" and Irving Berlin's \"Puttin' On the Ritz.\"  \n",
       "4   1. Start by gathering the supplies you will need to wrap the present, such as wrapping paper, tape, scissors, and ribbon.\\n\\n2. Cut the wrapping paper to the size of the gift, ensuring that there is enough paper to cover the entire gift.\\n\\n3. Place the gift in the center of the wrapping paper, and fold the sides in, tucking the excess paper at the bottom.\\n\\n4. Secure the folded paper with tape.\\n\\n5. Cut a length of ribbon and tie it around the gift.\\n\\n6. Trim the excess ribbon with scissors.\\n\\n7. Add a decorative bow or other embellishment to the top of the gift.  \n",
       "..                                                                                                                                                                                                                                                                                                                                                                                                                                                                                                                                                                                             ...  \n",
       "95                                                                                                                                                                                                                          Yes, you can grow your own food indoors during the winter with an indoor garden. An indoor garden can be set up with a hydroponic system, or with containers, shelves, and lighting. You will need soil, seeds, and some basic gardening tools to get started. Additionally, you may need to purchase grow lights if you don't have enough natural sunlight coming in.  \n",
       "96                                                                                                                                                                                                                                                                                                              1. Try new positions. \\n2. Introduce toys and props. \\n3. Use massage and body oils. \\n4. Play music and create a mood. \\n5. Bring food into the bedroom. \\n6. Talk dirty. \\n7. Take pictures of each other.\\n8. Role play. \\n9. Make a game of it. \\n10. Try mutual masturbation.  \n",
       "97                                                                                                                                                                                                                                                                                                                                                                                                                                                                                                                                                                  No, human blood is always red.  \n",
       "98                                                                                                                                                    Pearls are a type of gemstone that are produced by mollusks, most often oysters. They are formed when a grain of sand or other irritant gets inside the mollusk and the mollusk secretes layers of calcium carbonate around it in order to protect itself. The result is a beautiful gemstone with a unique iridescence. Pearls are found all over the world, but the most valuable pearls come from the South Pacific and the Persian Gulf.  \n",
       "99                                                                                                                                                                                                                                                                                                                                                                                                                                                       Some herbs you can dry out include:\\n\\n- Oregano\\n- Thyme\\n- Parsley\\n- Basil\\n- Rosemary\\n- Sage\\n- Lavender\\n- Mint\\n- Dill\\n- Marjoram  \n",
       "\n",
       "[100 rows x 2 columns]"
      ]
     },
     "execution_count": 7,
     "metadata": {},
     "output_type": "execute_result"
    }
   ],
   "source": [
    "pd.set_option('display.max_colwidth', None)\n",
    "combined_df.head(100)"
   ]
  }
 ],
 "metadata": {
  "environment": {
   "kernel": "python3",
   "name": "tf2-gpu.2-11.m111",
   "type": "gcloud",
   "uri": "gcr.io/deeplearning-platform-release/tf2-gpu.2-11:m111"
  },
  "kernelspec": {
   "display_name": "Python 3",
   "language": "python",
   "name": "python3"
  },
  "language_info": {
   "codemirror_mode": {
    "name": "ipython",
    "version": 3
   },
   "file_extension": ".py",
   "mimetype": "text/x-python",
   "name": "python",
   "nbconvert_exporter": "python",
   "pygments_lexer": "ipython3",
   "version": "3.10.12"
  }
 },
 "nbformat": 4,
 "nbformat_minor": 5
}
