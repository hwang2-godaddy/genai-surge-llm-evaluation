{
  "nbformat": 4,
  "nbformat_minor": 0,
  "metadata": {
    "colab": {
      "provenance": []
    },
    "kernelspec": {
      "name": "python3",
      "display_name": "Python 3"
    },
    "language_info": {
      "name": "python"
    }
  },
  "cells": [
    {
      "cell_type": "code",
      "execution_count": null,
      "metadata": {
        "id": "nvNLJAyme2Qk"
      },
      "outputs": [],
      "source": []
    },
    {
      "cell_type": "code",
      "source": [
        "import pandas as pd\n",
        "\n",
        "# Creating a dataset of 50 emoji stories with descriptions\n",
        "emoji_stories = [\n",
        "    {\"Emoji\": \"🤠🐴🌵🏜️🚂💰🚓\", \"Description\": \"A cowboy with a horse in a desert witnesses a train robbery and then sees police coming.\"},\n",
        "    {\"Emoji\": \"👽🛸🌍👋🚀🌕\", \"Description\": \"An alien arrives on Earth, says hello, and then travels to the moon.\"},\n",
        "    {\"Emoji\": \"🐱🐟🎣🐶🍖\", \"Description\": \"A cat goes fishing and a dog enjoys a bone.\"},\n",
        "    {\"Emoji\": \"🤖🔧🎓🔬📚\", \"Description\": \"A robot fixes itself, graduates, and starts researching.\"},\n",
        "    {\"Emoji\": \"🎅🎁🎄🦌🛷\", \"Description\": \"Santa delivers gifts using his reindeer and sleigh.\"},\n",
        "    {\"Emoji\": \"🐉🏰👸🤴🗡️\", \"Description\": \"A dragon attacks a castle; a prince saves the princess with a sword.\"},\n",
        "    {\"Emoji\": \"🎸🔥🎤🤘🎶\", \"Description\": \"Playing electric guitar, setting the stage on fire, singing, and rocking out.\"},\n",
        "    {\"Emoji\": \"🦈🌊🏄‍♀️🚁🏥\", \"Description\": \"A shark in the ocean, a surfer gets rescued by a helicopter and goes to the hospital.\"},\n",
        "    {\"Emoji\": \"🧙‍♂️🔮✨🐇🎩\", \"Description\": \"A wizard uses a crystal ball, casts a spell, and a rabbit appears from a hat.\"},\n",
        "    {\"Emoji\": \"🐼🎋🛫🗽📸\", \"Description\": \"A panda eats bamboo, takes a flight, and takes photos at the Statue of Liberty.\"},\n",
        "    {\"Emoji\": \"🦖🌋🌲🕰️🦕\", \"Description\": \"A T-Rex near a volcano, time passes, and it becomes a peaceful herbivore.\"},\n",
        "    {\"Emoji\": \"🕵️‍♀️🔍📦🔒🗝️\", \"Description\": \"A detective uses a magnifying glass, finds a locked box, and opens it with a key.\"},\n",
        "    {\"Emoji\": \"🧜‍♀️🐠🤴🏰💔\", \"Description\": \"A mermaid with fish friends falls in love with a prince but ends up heartbroken.\"},\n",
        "    {\"Emoji\": \"🚀🌌🌠🛰️🌏\", \"Description\": \"A rocket travels through space, sees a shooting star, and orbits Earth.\"},\n",
        "    {\"Emoji\": \"🤓💻🐛🔨🎉\", \"Description\": \"A nerd on a computer finds a bug and fixes it, celebrating afterwards.\"},\n",
        "    {\"Emoji\": \"🌈🦄🍭🏰✨\", \"Description\": \"A rainbow appears, leading to a unicorn that takes you to a candy castle.\"},\n",
        "    {\"Emoji\": \"🏂❄️🌲🌞🍹\", \"Description\": \"Someone snowboarding in winter, then enjoying a summer cocktail.\"},\n",
        "    {\"Emoji\": \"🐒🍌🏢👔💼\", \"Description\": \"A monkey eats a banana, dresses up, and goes to work in an office.\"},\n",
        "    {\"Emoji\": \"👻🏚️🔦🙀😱\", \"Description\": \"A ghost in a haunted house scares someone with a flashlight.\"},\n",
        "    {\"Emoji\": \"🦸‍♀️🦹‍♂️🏙️💥🏆\", \"Description\": \"A superhero fights a villain in a city, there's an explosion, and the hero wins an award.\"},\n",
        "    {\"Emoji\": \"🧛🦇🌕🐺🧄\", \"Description\": \"A vampire with bats during a full moon is scared away by a wolf and garlic.\"},\n",
        "    {\"Emoji\": \"👩‍🌾🌽🚜🌦️🌾\", \"Description\": \"A farmer grows corn, uses a tractor, and harvests after some rain.\"},\n",
        "    {\"Emoji\": \"🎭🎟️🎬👏🌹\", \"Description\": \"Going to a theater, getting a ticket, watching a performance, clapping, and receiving a rose.\"},\n",
        "    {\"Emoji\": \"🍳🔥🍴🍛😋\", \"Description\": \"Cooking an egg on fire, setting the table, making a meal, and enjoying it.\"},\n",
        "    {\"Emoji\": \"👩‍🎨🎨🖼️📸🏆\", \"Description\": \"An artist paints, creates a masterpiece, photographs it, and wins an award.\"},\n",
        "    {\"Emoji\": \"👨‍🚒🔥🚒🚿👍\", \"Description\": \"A firefighter battles fire, uses a fire truck, puts out the fire with a hose, and everything is okay.\"},\n",
        "    {\"Emoji\": \"🎓📘🎒🚌🏫\", \"Description\": \"Graduation day, reading a book, packing a bag, taking the bus to school.\"},\n",
        "    {\"Emoji\": \"🍎🐍👸💤🤴\", \"Description\": \"An apple, a snake, a sleeping princess, and a prince.\"},\n",
        "    {\"Emoji\": \"🐢🏁🐇💤🏆\", \"Description\": \"A turtle and a rabbit in a race, the rabbit sleeps, and the turtle wins.\"},\n",
        "    {\"Emoji\": \"🧚‍♀️🍄🌈🌟🎶\", \"Description\": \"A fairy near mushrooms, creating a rainbow, with stars and music.\"},\n",
        "    {\"Emoji\": \"🎣🐠🍽️🍷🌅\", \"Description\": \"Fishing for fish, serving it for dinner, having wine, and watching the sunset.\"},\n",
        "    {\"Emoji\": \"🤹‍♀️🎪🦁🔥👏\", \"Description\": \"A juggler in a circus, with lions and fire, receiving applause.\"},\n",
        "    {\"Emoji\": \"🚴‍♀️⛰️🏕️🌌🔦\", \"Description\": \"Cycling up a mountain, camping under the stars, using a flashlight.\"},\n",
        "]\n",
        "\n",
        "emoji_stories += [\n",
        "    {\"Emoji\": \"👩‍🍳🍲👨‍🍳🍝👩‍❤️‍👨\", \"Description\": \"A female chef cooks soup, a male chef cooks pasta, and they fall in love.\"},\n",
        "    {\"Emoji\": \"⚽🏃‍♂️🥅🎉🏆\", \"Description\": \"Playing soccer, running towards the goal, scoring, and winning a trophy.\"},\n",
        "    {\"Emoji\": \"🐦🎶🌞🌻🌳\", \"Description\": \"A bird sings, the sun rises, flowers bloom, and a tree grows.\"},\n",
        "    {\"Emoji\": \"🎮👾🕹️💡💰\", \"Description\": \"Playing a video game, fighting aliens, getting a power-up, and collecting coins.\"},\n",
        "    {\"Emoji\": \"🧭🗺️🏝️🏴‍☠️💎\", \"Description\": \"Using a compass and map to find an island, encountering pirates, and discovering treasure.\"},\n",
        "    {\"Emoji\": \"🎻🎶👂💡📝\", \"Description\": \"Playing violin, a melody is heard, an idea forms, and then it is written down.\"},\n",
        "    {\"Emoji\": \"👩‍🚀🚀🪐🌌🛰️\", \"Description\": \"An astronaut takes a rocket to another planet, explores the galaxy, and finds a satellite.\"},\n",
        "    {\"Emoji\": \"🌧️⛈️🌈🌤️☀️\", \"Description\": \"It starts raining, then thunderstorms, a rainbow appears, followed by partly cloudy and sunny weather.\"},\n",
        "    {\"Emoji\": \"🐕🦴🏡🐾💌\", \"Description\": \"A dog gets a bone, goes home, leaves paw prints, and receives a love letter.\"},\n",
        "    {\"Emoji\": \"📷🌄🏞️🌌🖼️\", \"Description\": \"Taking photos of a sunrise, a landscape, the night sky, and framing it.\"},\n",
        "    {\"Emoji\": \"🍀🌈💰🍯🦄\", \"Description\": \"Finding a four-leaf clover, following a rainbow to a pot of gold, discovering honey, and meeting a unicorn.\"},\n",
        "    {\"Emoji\": \"🎻🎶💃🕺👏\", \"Description\": \"Playing violin, creating music, a couple dances, and receives applause.\"},\n",
        "    {\"Emoji\": \"🌊🏊‍♂️🦈🚤🌅\", \"Description\": \"Swimming in the ocean, encountering a shark, saved by a boat, watching the sunset.\"},\n",
        "    {\"Emoji\": \"📚🧠💡🎓💼\", \"Description\": \"Studying from books, gaining knowledge, having an idea, graduating, and getting a job.\"},\n",
        "    {\"Emoji\": \"👨‍🔬🔬🦠🧪💊\", \"Description\": \"A scientist using a microscope discovers a microbe, does tests, and creates medicine.\"},\n",
        "    {\"Emoji\": \"🚗💨🚓🛣️🏁\", \"Description\": \"Driving a car fast, chased by police, onto a highway, reaching the finish line.\"},\n",
        "    {\"Emoji\": \"👩‍🎤🎤🎶🎵📀\", \"Description\": \"A female singer with a microphone, producing music, recording a CD.\"},\n",
        "    {\"Emoji\": \"🧗‍♀️⛰️🏕️🔥🌌\", \"Description\": \"A woman climbs a mountain, sets up camp, makes a fire, and enjoys the night sky.\"},\n",
        "    {\"Emoji\": \"🍳🐣🐔🍗🍲\", \"Description\": \"Cooking an egg, a chick hatches, grows into a chicken, which is cooked into a dish.\"},\n",
        "    {\"Emoji\": \"🛀🛁🚿🧼🛌\", \"Description\": \"Taking a bath, then a shower, using soap, and going to bed.\"},\n",
        "    {\"Emoji\": \"🌳🌲🔥🚒🌧️\", \"Description\": \"Trees and a forest fire, fire trucks come, and it starts raining.\"},\n",
        "    {\"Emoji\": \"🍎📚🎒🚸🏫\", \"Description\": \"Eating an apple, reading books, packing a school bag, crossing the road, and going to school.\"},\n",
        "    {\"Emoji\": \"🏊‍♂️🏊‍♀️🥇🥈🥉\", \"Description\": \"A male and female swimming, winning gold, silver, and bronze medals.\"},\n",
        "    {\"Emoji\": \"🍕🍝🍷🇮🇹🎉\", \"Description\": \"Eating pizza and pasta, drinking wine, representing Italy, and celebrating.\"},\n",
        "    {\"Emoji\": \"🌺🌸🌼🌻🌷\", \"Description\": \"Different kinds of flowers bloom one after the other.\"},\n",
        "    {\"Emoji\": \"🎭🎬📽️🍿👏\", \"Description\": \"A drama unfolds, filmed, projected, popcorn eaten, and applause given.\"},\n",
        "    {\"Emoji\": \"🚴‍♀️🌲🌳🏞️🌅\", \"Description\": \"Cycling through trees, in nature, enjoying the landscape and the sunset.\"},\n",
        "    {\"Emoji\": \"🐦🎵🎶📻👏\", \"Description\": \"A bird singing, music notes, broadcasted on radio, and applauded.\"},\n",
        "    {\"Emoji\": \"⛵🌊🏝️⚓🌅\", \"Description\": \"Sailing on the ocean, reaching an island, anchoring, and watching the sunset.\"},\n",
        "    {\"Emoji\": \"🦁👑🐗🌿🎶\", \"Description\": \"A lion becomes king, befriended by a boar, living in the jungle, and singing songs.\"},\n",
        "    {\"Emoji\": \"🤠🐴🌵🏜️🚂💰🚓\", \"Description\": \"A cowboy with a horse in a desert witnesses a train robbery and then sees police coming.\"},\n",
        "    {\"Emoji\": \"👽🛸🌍👋🚀🌕\", \"Description\": \"An alien arrives on Earth, says hello, and then travels to the moon.\"},\n",
        "    {\"Emoji\": \"🐱🐟🎣🐶🍖\", \"Description\": \"A cat goes fishing and a dog enjoys a bone.\"},\n",
        "    {\"Emoji\": \"🤖🔧🎓🔬📚\", \"Description\": \"A robot fixes itself, graduates, and starts researching.\"},\n",
        "    {\"Emoji\": \"🎅🎁🎄🦌🛷\", \"Description\": \"Santa delivers gifts using his reindeer and sleigh.\"},\n",
        "    {\"Emoji\": \"🐉🏰👸🤴🗡️\", \"Description\": \"A dragon attacks a castle; a prince saves the princess with a sword.\"},\n",
        "    {\"Emoji\": \"🎸🔥🎤🤘🎶\", \"Description\": \"Playing electric guitar, setting the stage on fire, singing, and rocking out.\"},\n",
        "    {\"Emoji\": \"🦈🌊🏄‍♀️🚁🏥\", \"Description\": \"A shark in the ocean, a surfer gets rescued by a helicopter and goes to the hospital.\"},\n",
        "    {\"Emoji\": \"🧙‍♂️🔮✨🐇🎩\", \"Description\": \"A wizard uses a crystal ball, casts a spell, and a rabbit appears from a hat.\"},\n",
        "    {\"Emoji\": \"🐼🎋🛫🗽📸\", \"Description\": \"A panda eats bamboo, takes a flight, and takes photos at the Statue of Liberty.\"},\n",
        "    {\"Emoji\": \"🦖🌋🌲🕰️🦕\", \"Description\": \"A T-Rex near a volcano, time passes, and it becomes a peaceful herbivore.\"},\n",
        "    {\"Emoji\": \"🕵️‍♀️🔍📦🔒🗝️\", \"Description\": \"A detective uses a magnifying glass, finds a locked box, and opens it with a key.\"},\n",
        "    {\"Emoji\": \"🧜‍♀️🐠🤴🏰💔\", \"Description\": \"A mermaid with fish friends falls in love with a prince but ends up heartbroken.\"},\n",
        "    {\"Emoji\": \"🚀🌌🌠🛰️🌏\", \"Description\": \"A rocket travels through space, sees a shooting star, and orbits Earth.\"},\n",
        "    {\"Emoji\": \"🤓💻🐛🔨🎉\", \"Description\": \"A nerd on a computer finds a bug and fixes it, celebrating afterwards.\"},\n",
        "    {\"Emoji\": \"🌈🦄🍭🏰✨\", \"Description\": \"A rainbow appears, leading to a unicorn that takes you to a candy castle.\"},\n",
        "    {\"Emoji\": \"🏂❄️🌲🌞🍹\", \"Description\": \"Someone snowboarding in winter, then enjoying a summer cocktail.\"},\n",
        "    {\"Emoji\": \"🐒🍌🏢👔💼\", \"Description\": \"A monkey eats a banana, dresses up, and goes to work in an office.\"},\n",
        "    {\"Emoji\": \"👻🏚️🔦🙀😱\", \"Description\": \"A ghost in a haunted house scares someone with a flashlight.\"},\n",
        "    {\"Emoji\": \"🦸‍♀️🦹‍♂️🏙️💥🏆\", \"Description\": \"A superhero fights a villain in a city, there's an explosion, and the hero wins an award.\"},\n",
        "    {\"Emoji\": \"🧛🦇🌕🐺🧄\", \"Description\": \"A vampire with bats during a full moon is scared away by a wolf and garlic.\"},\n",
        "    {\"Emoji\": \"👩‍🌾🌽🚜🌦️🌾\", \"Description\": \"A farmer grows corn, uses a tractor, and harvests after some rain.\"},\n",
        "    {\"Emoji\": \"🎭🎟️🎬👏🌹\", \"Description\": \"Going to a theater, getting a ticket, watching a performance, clapping, and receiving a rose.\"},\n",
        "    {\"Emoji\": \"🍳🔥🍴🍛😋\", \"Description\": \"Cooking an egg on fire, setting the table, making a meal, and enjoying it.\"},\n",
        "    {\"Emoji\": \"👩‍🎨🎨🖼️📸🏆\", \"Description\": \"An artist paints, creates a masterpiece, photographs it, and wins an award.\"},\n",
        "    {\"Emoji\": \"👨‍🚒🔥🚒🚿👍\", \"Description\": \"A firefighter battles fire, uses a fire truck, puts out the fire with a hose, and everything is okay.\"},\n",
        "    {\"Emoji\": \"🎓📘🎒🚌🏫\", \"Description\": \"Graduation day, reading a book, packing a bag, taking the bus to school.\"},\n",
        "    {\"Emoji\": \"🍎🐍👸💤🤴\", \"Description\": \"An apple, a snake, a sleeping princess, and a prince.\"},\n",
        "    {\"Emoji\": \"🐢🏁🐇💤🏆\", \"Description\": \"A turtle and a rabbit in a race, the rabbit sleeps, and the turtle wins.\"},\n",
        "    {\"Emoji\": \"🧚‍♀️🍄🌈🌟🎶\", \"Description\": \"A fairy near mushrooms, creating a rainbow, with stars and music.\"},\n",
        "    {\"Emoji\": \"🎣🐠🍽️🍷🌅\", \"Description\": \"Fishing for fish, serving it for dinner, having wine, and watching the sunset.\"},\n",
        "    {\"Emoji\": \"🤹‍♀️🎪🦁🔥👏\", \"Description\": \"A juggler in a circus, with lions and fire, receiving applause.\"},\n",
        "    {\"Emoji\": \"🚴‍♀️⛰️🏕️🌌🔦\", \"Description\": \"Cycling up a mountain, camping under the stars, using a flashlight.\"},\n",
        "    {\"Emoji\": \"👩‍🍳🍲👨‍🍳🍝👩‍❤️‍👨\", \"Description\": \"A female chef cooks soup, a male chef cooks pasta, and they fall in love.\"},\n",
        "\n",
        "    ]\n",
        "\n",
        "# Creating a DataFrame\n",
        "df_emoji_stories = pd.DataFrame(emoji_stories)\n",
        "\n",
        "# Saving the DataFrame to a CSV file\n",
        "csv_file_path = './emoji_stories_dataset.csv'\n",
        "df_emoji_stories.to_csv(csv_file_path, index=False)\n",
        "\n",
        "csv_file_path"
      ],
      "metadata": {
        "colab": {
          "base_uri": "https://localhost:8080/",
          "height": 35
        },
        "id": "b6qu61ORlnGi",
        "outputId": "e3d3ec9b-52da-4c38-a60f-1d3b12525bc0"
      },
      "execution_count": null,
      "outputs": [
        {
          "output_type": "execute_result",
          "data": {
            "text/plain": [
              "'./emoji_stories_dataset.csv'"
            ],
            "application/vnd.google.colaboratory.intrinsic+json": {
              "type": "string"
            }
          },
          "metadata": {},
          "execution_count": 5
        }
      ]
    },
    {
      "cell_type": "code",
      "source": [
        "df_emoji_stories.shape"
      ],
      "metadata": {
        "colab": {
          "base_uri": "https://localhost:8080/"
        },
        "id": "Jrwd04Ipl6Mf",
        "outputId": "decc22ee-79b8-4270-ac86-ed6ebf44cfa1"
      },
      "execution_count": null,
      "outputs": [
        {
          "output_type": "execute_result",
          "data": {
            "text/plain": [
              "(97, 2)"
            ]
          },
          "metadata": {},
          "execution_count": 6
        }
      ]
    },
    {
      "cell_type": "code",
      "source": [
        "emoji_stories[0:3]"
      ],
      "metadata": {
        "colab": {
          "base_uri": "https://localhost:8080/"
        },
        "id": "JilHUyI6mTB_",
        "outputId": "3bbcd8e7-5117-4879-89d1-ead5ffa129ba"
      },
      "execution_count": null,
      "outputs": [
        {
          "output_type": "execute_result",
          "data": {
            "text/plain": [
              "[{'Emoji': '🤠🐴🌵🏜️🚂💰🚓',\n",
              "  'Description': 'A cowboy with a horse in a desert witnesses a train robbery and then sees police coming.'},\n",
              " {'Emoji': '👽🛸🌍👋🚀🌕',\n",
              "  'Description': 'An alien arrives on Earth, says hello, and then travels to the moon.'},\n",
              " {'Emoji': '🐱🐟🎣🐶🍖',\n",
              "  'Description': 'A cat goes fishing and a dog enjoys a bone.'}]"
            ]
          },
          "metadata": {},
          "execution_count": 7
        }
      ]
    },
    {
      "cell_type": "code",
      "source": [
        "import json\n",
        "\n",
        "def save_to_jsonl(data_list, file_path):\n",
        "    \"\"\"\n",
        "    Save a list of dictionaries to a JSONL file.\n",
        "\n",
        "    Parameters:\n",
        "    - data_list (list): List of dictionaries to save\n",
        "    - file_path (str): File path to save the JSONL file\n",
        "\n",
        "    Returns:\n",
        "    - bool: True if successful, False otherwise\n",
        "    \"\"\"\n",
        "    try:\n",
        "        with open(file_path, 'w') as f:\n",
        "            for item in data_list:\n",
        "                json_str = json.dumps(item)\n",
        "                f.write(json_str + '\\n')\n",
        "        return True\n",
        "    except Exception as e:\n",
        "        print(f\"An error occurred: {e}\")\n",
        "        return False\n",
        "\n",
        "def transform_to_input_output(data_list):\n",
        "    \"\"\"\n",
        "    Transform a list of dictionaries with 'Emoji' and 'Description' keys to a list of dictionaries with 'input_text' and 'output_text' keys.\n",
        "\n",
        "    Parameters:\n",
        "    - data_list (list): List of dictionaries with 'Emoji' and 'Description' keys\n",
        "\n",
        "    Returns:\n",
        "    - List of dictionaries with 'input_text' and 'output_text' keys\n",
        "    \"\"\"\n",
        "    return [{\"input_text\": item[\"Emoji\"], \"output_text\": item[\"Description\"]} for item in data_list]\n",
        "\n",
        "\n"
      ],
      "metadata": {
        "id": "pOsX7G54nVal"
      },
      "execution_count": null,
      "outputs": []
    },
    {
      "cell_type": "code",
      "source": [
        "# Test the function\n",
        "transformed_emoticon_stories_data = transform_to_input_output(emoji_stories)"
      ],
      "metadata": {
        "id": "WK6mMVyzolFi"
      },
      "execution_count": null,
      "outputs": []
    },
    {
      "cell_type": "code",
      "source": [
        "transformed_emoticon_stories_data[:3]"
      ],
      "metadata": {
        "colab": {
          "base_uri": "https://localhost:8080/"
        },
        "id": "NpnPHHO3otGO",
        "outputId": "e2d334db-8fed-456b-e793-04df51c14c7a"
      },
      "execution_count": null,
      "outputs": [
        {
          "output_type": "execute_result",
          "data": {
            "text/plain": [
              "[{'input_text': '🤠🐴🌵🏜️🚂💰🚓',\n",
              "  'output_text': 'A cowboy with a horse in a desert witnesses a train robbery and then sees police coming.'},\n",
              " {'input_text': '👽🛸🌍👋🚀🌕',\n",
              "  'output_text': 'An alien arrives on Earth, says hello, and then travels to the moon.'},\n",
              " {'input_text': '🐱🐟🎣🐶🍖',\n",
              "  'output_text': 'A cat goes fishing and a dog enjoys a bone.'}]"
            ]
          },
          "metadata": {},
          "execution_count": 12
        }
      ]
    },
    {
      "cell_type": "code",
      "source": [
        "# Test the function\n",
        "\n",
        "test_file_path = './emoji_stories.jsonl'\n",
        "save_to_jsonl(transformed_emoticon_stories_data, test_file_path)"
      ],
      "metadata": {
        "colab": {
          "base_uri": "https://localhost:8080/"
        },
        "id": "rx771qX1n11r",
        "outputId": "5e1ce9a4-c966-4c29-e09a-059e043dc8f0"
      },
      "execution_count": null,
      "outputs": [
        {
          "output_type": "execute_result",
          "data": {
            "text/plain": [
              "True"
            ]
          },
          "metadata": {},
          "execution_count": 13
        }
      ]
    },
    {
      "cell_type": "code",
      "source": [],
      "metadata": {
        "id": "wPq7VSqnn8Pe"
      },
      "execution_count": null,
      "outputs": []
    }
  ]
}