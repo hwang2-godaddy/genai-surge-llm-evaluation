{
 "cells": [
  {
   "cell_type": "code",
   "execution_count": 20,
   "id": "93963ec4-2d3a-48a6-a6d5-f86ad400747c",
   "metadata": {},
   "outputs": [],
   "source": [
    "!pip install google-cloud-aiplatform --upgrade --user --quiet"
   ]
  },
  {
   "cell_type": "code",
   "execution_count": 2,
   "id": "eb4d0cec-4554-4066-beac-f345b6a9cd1e",
   "metadata": {},
   "outputs": [
    {
     "name": "stderr",
     "output_type": "stream",
     "text": [
      "2023-09-28 19:01:20.902395: I tensorflow/core/platform/cpu_feature_guard.cc:193] This TensorFlow binary is optimized with oneAPI Deep Neural Network Library (oneDNN) to use the following CPU instructions in performance-critical operations:  AVX2 FMA\n",
      "To enable them in other operations, rebuild TensorFlow with the appropriate compiler flags.\n",
      "2023-09-28 19:01:25.611939: W tensorflow/compiler/xla/stream_executor/platform/default/dso_loader.cc:64] Could not load dynamic library 'libnvinfer.so.7'; dlerror: libnvinfer.so.7: cannot open shared object file: No such file or directory; LD_LIBRARY_PATH: /usr/local/cuda/lib64:/usr/local/nccl2/lib:/usr/local/cuda/extras/CUPTI/lib64\n",
      "2023-09-28 19:01:25.613079: W tensorflow/compiler/xla/stream_executor/platform/default/dso_loader.cc:64] Could not load dynamic library 'libnvinfer_plugin.so.7'; dlerror: libnvinfer_plugin.so.7: cannot open shared object file: No such file or directory; LD_LIBRARY_PATH: /usr/local/cuda/lib64:/usr/local/nccl2/lib:/usr/local/cuda/extras/CUPTI/lib64\n",
      "2023-09-28 19:01:25.613095: W tensorflow/compiler/tf2tensorrt/utils/py_utils.cc:38] TF-TRT Warning: Cannot dlopen some TensorRT libraries. If you would like to use Nvidia GPU with TensorRT, please make sure the missing libraries mentioned above are installed properly.\n"
     ]
    }
   ],
   "source": [
    "import pandas as pd\n",
    "from IPython.display import Markdown, display\n",
    "from vertexai.language_models import TextGenerationModel"
   ]
  },
  {
   "cell_type": "code",
   "execution_count": 3,
   "id": "2e3ec85f-1e69-4130-93dc-65291a7a2aa3",
   "metadata": {},
   "outputs": [],
   "source": [
    "generation_model = TextGenerationModel.from_pretrained(\"text-bison@001\")"
   ]
  },
  {
   "cell_type": "code",
   "execution_count": 4,
   "id": "403e95fb-859d-4e6f-bcb3-288927685f44",
   "metadata": {},
   "outputs": [],
   "source": [
    "def query_model(prompt, model_predictor):    \n",
    "    response = model_predictor.predict(\n",
    "        prompt=prompt\n",
    "    )\n",
    "    \n",
    "    return {'output': response.text} "
   ]
  },
  {
   "cell_type": "code",
   "execution_count": 6,
   "id": "1a4f01e1-d387-4f74-b782-3765f2105832",
   "metadata": {},
   "outputs": [
    {
     "data": {
      "text/html": [
       "<div>\n",
       "<style scoped>\n",
       "    .dataframe tbody tr th:only-of-type {\n",
       "        vertical-align: middle;\n",
       "    }\n",
       "\n",
       "    .dataframe tbody tr th {\n",
       "        vertical-align: top;\n",
       "    }\n",
       "\n",
       "    .dataframe thead th {\n",
       "        text-align: right;\n",
       "    }\n",
       "</style>\n",
       "<table border=\"1\" class=\"dataframe\">\n",
       "  <thead>\n",
       "    <tr style=\"text-align: right;\">\n",
       "      <th></th>\n",
       "      <th>prompt</th>\n",
       "      <th>output_text</th>\n",
       "    </tr>\n",
       "  </thead>\n",
       "  <tbody>\n",
       "    <tr>\n",
       "      <th>0</th>\n",
       "      <td>Classify the following domain name into one of...</td>\n",
       "      <td>constructionservices</td>\n",
       "    </tr>\n",
       "    <tr>\n",
       "      <th>1</th>\n",
       "      <td>Classify the following domain name into one of...</td>\n",
       "      <td>constructionservices</td>\n",
       "    </tr>\n",
       "    <tr>\n",
       "      <th>2</th>\n",
       "      <td>Classify the following domain name into one of...</td>\n",
       "      <td>personal</td>\n",
       "    </tr>\n",
       "    <tr>\n",
       "      <th>3</th>\n",
       "      <td>Classify the following domain name into one of...</td>\n",
       "      <td>personal</td>\n",
       "    </tr>\n",
       "    <tr>\n",
       "      <th>4</th>\n",
       "      <td>Classify the following domain name into one of...</td>\n",
       "      <td>artists</td>\n",
       "    </tr>\n",
       "  </tbody>\n",
       "</table>\n",
       "</div>"
      ],
      "text/plain": [
       "                                              prompt           output_text\n",
       "0  Classify the following domain name into one of...  constructionservices\n",
       "1  Classify the following domain name into one of...  constructionservices\n",
       "2  Classify the following domain name into one of...              personal\n",
       "3  Classify the following domain name into one of...              personal\n",
       "4  Classify the following domain name into one of...               artists"
      ]
     },
     "execution_count": 6,
     "metadata": {},
     "output_type": "execute_result"
    }
   ],
   "source": [
    "import pandas as pd\n",
    "\n",
    "eval_set = pd.read_json(\"evaluation_v2.jsonl\",lines=True)\n",
    "eval_set.head()"
   ]
  },
  {
   "cell_type": "code",
   "execution_count": 9,
   "id": "23a7b983-d632-41f4-a139-2af2f4b849e8",
   "metadata": {},
   "outputs": [
    {
     "data": {
      "text/html": [
       "<div>\n",
       "<style scoped>\n",
       "    .dataframe tbody tr th:only-of-type {\n",
       "        vertical-align: middle;\n",
       "    }\n",
       "\n",
       "    .dataframe tbody tr th {\n",
       "        vertical-align: top;\n",
       "    }\n",
       "\n",
       "    .dataframe thead th {\n",
       "        text-align: right;\n",
       "    }\n",
       "</style>\n",
       "<table border=\"1\" class=\"dataframe\">\n",
       "  <thead>\n",
       "    <tr style=\"text-align: right;\">\n",
       "      <th></th>\n",
       "      <th>output</th>\n",
       "    </tr>\n",
       "  </thead>\n",
       "  <tbody>\n",
       "    <tr>\n",
       "      <th>0</th>\n",
       "      <td>constructionservices</td>\n",
       "    </tr>\n",
       "    <tr>\n",
       "      <th>1</th>\n",
       "      <td>homeservices</td>\n",
       "    </tr>\n",
       "    <tr>\n",
       "      <th>2</th>\n",
       "      <td>transportationservice</td>\n",
       "    </tr>\n",
       "    <tr>\n",
       "      <th>3</th>\n",
       "      <td>bbapparel</td>\n",
       "    </tr>\n",
       "    <tr>\n",
       "      <th>4</th>\n",
       "      <td>entertainment</td>\n",
       "    </tr>\n",
       "    <tr>\n",
       "      <th>...</th>\n",
       "      <td>...</td>\n",
       "    </tr>\n",
       "    <tr>\n",
       "      <th>1643</th>\n",
       "      <td>bbapparel</td>\n",
       "    </tr>\n",
       "    <tr>\n",
       "      <th>1644</th>\n",
       "      <td>bbtechnology</td>\n",
       "    </tr>\n",
       "    <tr>\n",
       "      <th>1645</th>\n",
       "      <td>food</td>\n",
       "    </tr>\n",
       "    <tr>\n",
       "      <th>1646</th>\n",
       "      <td>civilengineers</td>\n",
       "    </tr>\n",
       "    <tr>\n",
       "      <th>1647</th>\n",
       "      <td>bbbusinessservices</td>\n",
       "    </tr>\n",
       "  </tbody>\n",
       "</table>\n",
       "<p>1648 rows × 1 columns</p>\n",
       "</div>"
      ],
      "text/plain": [
       "                     output\n",
       "0      constructionservices\n",
       "1              homeservices\n",
       "2     transportationservice\n",
       "3                 bbapparel\n",
       "4             entertainment\n",
       "...                     ...\n",
       "1643              bbapparel\n",
       "1644           bbtechnology\n",
       "1645                   food\n",
       "1646         civilengineers\n",
       "1647     bbbusinessservices\n",
       "\n",
       "[1648 rows x 1 columns]"
      ]
     },
     "execution_count": 9,
     "metadata": {},
     "output_type": "execute_result"
    }
   ],
   "source": [
    "# get result from the base model\n",
    "\n",
    "import time\n",
    "\n",
    "# Create an empty list to store the results\n",
    "results_list = []\n",
    "\n",
    "for i, row in eval_set.iterrows():\n",
    "    result = query_model(prompt = row[\"prompt\"], model_predictor = generation_model)\n",
    "    results_list.append(result)\n",
    "    if i % 60 == 0:\n",
    "        time.sleep(60)\n",
    "    \n",
    "# Create a new DataFrame from the results list\n",
    "results_list = pd.DataFrame(results_list)\n",
    "\n",
    "results_list"
   ]
  },
  {
   "cell_type": "code",
   "execution_count": 12,
   "id": "ceed293d-5b55-44ae-bcd6-2c99eeb465d0",
   "metadata": {},
   "outputs": [],
   "source": [
    "results_list.to_json('PaLM2-text-bison-IC.json')"
   ]
  },
  {
   "cell_type": "code",
   "execution_count": 21,
   "id": "d251fec5-f909-4217-b319-198f86ad86dd",
   "metadata": {},
   "outputs": [],
   "source": [
    "# load fine tuned model\n",
    "model_tuned = TextGenerationModel.from_pretrained(\"text-bison@001\")\n",
    "model_tuned = model_tuned.get_tuned_model(\"projects/793496231204/locations/us-central1/models/3422988604475965440\")"
   ]
  },
  {
   "cell_type": "code",
   "execution_count": 22,
   "id": "9e00f0a8-8dc2-4c1d-86d0-08e87106a96e",
   "metadata": {},
   "outputs": [
    {
     "data": {
      "text/html": [
       "<div>\n",
       "<style scoped>\n",
       "    .dataframe tbody tr th:only-of-type {\n",
       "        vertical-align: middle;\n",
       "    }\n",
       "\n",
       "    .dataframe tbody tr th {\n",
       "        vertical-align: top;\n",
       "    }\n",
       "\n",
       "    .dataframe thead th {\n",
       "        text-align: right;\n",
       "    }\n",
       "</style>\n",
       "<table border=\"1\" class=\"dataframe\">\n",
       "  <thead>\n",
       "    <tr style=\"text-align: right;\">\n",
       "      <th></th>\n",
       "      <th>output</th>\n",
       "    </tr>\n",
       "  </thead>\n",
       "  <tbody>\n",
       "    <tr>\n",
       "      <th>0</th>\n",
       "      <td>buildingremodelingrepair</td>\n",
       "    </tr>\n",
       "    <tr>\n",
       "      <th>1</th>\n",
       "      <td>homeservices</td>\n",
       "    </tr>\n",
       "    <tr>\n",
       "      <th>2</th>\n",
       "      <td></td>\n",
       "    </tr>\n",
       "    <tr>\n",
       "      <th>3</th>\n",
       "      <td>personal_blog</td>\n",
       "    </tr>\n",
       "    <tr>\n",
       "      <th>4</th>\n",
       "      <td>entertainmentagency</td>\n",
       "    </tr>\n",
       "    <tr>\n",
       "      <th>...</th>\n",
       "      <td>...</td>\n",
       "    </tr>\n",
       "    <tr>\n",
       "      <th>1643</th>\n",
       "      <td>fashion</td>\n",
       "    </tr>\n",
       "    <tr>\n",
       "      <th>1644</th>\n",
       "      <td>bbbusinessservices</td>\n",
       "    </tr>\n",
       "    <tr>\n",
       "      <th>1645</th>\n",
       "      <td>food</td>\n",
       "    </tr>\n",
       "    <tr>\n",
       "      <th>1646</th>\n",
       "      <td>civilengineers</td>\n",
       "    </tr>\n",
       "    <tr>\n",
       "      <th>1647</th>\n",
       "      <td>computersecurityservice</td>\n",
       "    </tr>\n",
       "  </tbody>\n",
       "</table>\n",
       "<p>1648 rows × 1 columns</p>\n",
       "</div>"
      ],
      "text/plain": [
       "                        output\n",
       "0     buildingremodelingrepair\n",
       "1                 homeservices\n",
       "2                             \n",
       "3                personal_blog\n",
       "4          entertainmentagency\n",
       "...                        ...\n",
       "1643                   fashion\n",
       "1644        bbbusinessservices\n",
       "1645                      food\n",
       "1646            civilengineers\n",
       "1647   computersecurityservice\n",
       "\n",
       "[1648 rows x 1 columns]"
      ]
     },
     "execution_count": 22,
     "metadata": {},
     "output_type": "execute_result"
    }
   ],
   "source": [
    "# get result from the fine tuned model\n",
    "\n",
    "import time\n",
    "\n",
    "# Create an empty list to store the results\n",
    "results_list_tuned = []\n",
    "\n",
    "for i, row in eval_set.iterrows():\n",
    "    result = query_model(prompt = row[\"prompt\"], model_predictor = model_tuned)\n",
    "    results_list_tuned.append(result)\n",
    "    # if i % 60 == 0:\n",
    "    #     time.sleep(60)\n",
    "    \n",
    "# Create a new DataFrame from the results list\n",
    "results_list_tuned = pd.DataFrame(results_list_tuned)\n",
    "\n",
    "results_list_tuned"
   ]
  },
  {
   "cell_type": "code",
   "execution_count": 24,
   "id": "9495b18a-3712-4bc1-b499-c8b20cb45d9e",
   "metadata": {},
   "outputs": [],
   "source": [
    "results_list_tuned.to_json('PaLM2-text-bison-tuned-IC.json')"
   ]
  },
  {
   "cell_type": "code",
   "execution_count": 23,
   "id": "1067543e-9b4a-4510-bdde-7728ac62832c",
   "metadata": {},
   "outputs": [
    {
     "data": {
      "text/html": [
       "<div>\n",
       "<style scoped>\n",
       "    .dataframe tbody tr th:only-of-type {\n",
       "        vertical-align: middle;\n",
       "    }\n",
       "\n",
       "    .dataframe tbody tr th {\n",
       "        vertical-align: top;\n",
       "    }\n",
       "\n",
       "    .dataframe thead th {\n",
       "        text-align: right;\n",
       "    }\n",
       "</style>\n",
       "<table border=\"1\" class=\"dataframe\">\n",
       "  <thead>\n",
       "    <tr style=\"text-align: right;\">\n",
       "      <th></th>\n",
       "      <th>prompt</th>\n",
       "      <th>output_text</th>\n",
       "      <th>text_bison_output</th>\n",
       "      <th>text_bison_tuned_output</th>\n",
       "    </tr>\n",
       "  </thead>\n",
       "  <tbody>\n",
       "    <tr>\n",
       "      <th>0</th>\n",
       "      <td>Classify the following domain name into one of...</td>\n",
       "      <td>constructionservices</td>\n",
       "      <td>constructionservices</td>\n",
       "      <td>buildingremodelingrepair</td>\n",
       "    </tr>\n",
       "    <tr>\n",
       "      <th>1</th>\n",
       "      <td>Classify the following domain name into one of...</td>\n",
       "      <td>constructionservices</td>\n",
       "      <td>homeservices</td>\n",
       "      <td>homeservices</td>\n",
       "    </tr>\n",
       "    <tr>\n",
       "      <th>2</th>\n",
       "      <td>Classify the following domain name into one of...</td>\n",
       "      <td>personal</td>\n",
       "      <td>transportationservice</td>\n",
       "      <td></td>\n",
       "    </tr>\n",
       "    <tr>\n",
       "      <th>3</th>\n",
       "      <td>Classify the following domain name into one of...</td>\n",
       "      <td>personal</td>\n",
       "      <td>bbapparel</td>\n",
       "      <td>personal_blog</td>\n",
       "    </tr>\n",
       "    <tr>\n",
       "      <th>4</th>\n",
       "      <td>Classify the following domain name into one of...</td>\n",
       "      <td>artists</td>\n",
       "      <td>entertainment</td>\n",
       "      <td>entertainmentagency</td>\n",
       "    </tr>\n",
       "  </tbody>\n",
       "</table>\n",
       "</div>"
      ],
      "text/plain": [
       "                                              prompt           output_text  \\\n",
       "0  Classify the following domain name into one of...  constructionservices   \n",
       "1  Classify the following domain name into one of...  constructionservices   \n",
       "2  Classify the following domain name into one of...              personal   \n",
       "3  Classify the following domain name into one of...              personal   \n",
       "4  Classify the following domain name into one of...               artists   \n",
       "\n",
       "       text_bison_output   text_bison_tuned_output  \n",
       "0   constructionservices  buildingremodelingrepair  \n",
       "1           homeservices              homeservices  \n",
       "2  transportationservice                            \n",
       "3              bbapparel             personal_blog  \n",
       "4          entertainment       entertainmentagency  "
      ]
     },
     "execution_count": 23,
     "metadata": {},
     "output_type": "execute_result"
    }
   ],
   "source": [
    "# analyze result\n",
    "\n",
    "results_list.rename(columns={'output': 'text_bison_output'}, inplace=True)\n",
    "results_list_tuned.rename(columns={'output': 'text_bison_tuned_output'}, inplace=True)\n",
    "\n",
    "df = eval_set\n",
    "\n",
    "combined_df = pd.concat([df, \n",
    "                         results_list, \n",
    "                         results_list_tuned,], axis=1)\n",
    "combined_df.head()"
   ]
  },
  {
   "cell_type": "code",
   "execution_count": 28,
   "id": "f3d9cc69-8e1d-425f-b7e7-de696d43c818",
   "metadata": {},
   "outputs": [
    {
     "name": "stdout",
     "output_type": "stream",
     "text": [
      "Accuracy of the original model: 5.22%\n",
      "Accuracy of the fine tuned model: 15.29%\n"
     ]
    }
   ],
   "source": [
    "accuracy_bison = (combined_df['text_bison_output'] == combined_df['output_text']).mean()\n",
    "print(f\"Accuracy of the original model: {accuracy_bison * 100:.2f}%\")\n",
    "\n",
    "accuracy_bison_tuned = (combined_df['text_bison_tuned_output'] == combined_df['output_text']).mean()\n",
    "print(f\"Accuracy of the fine tuned model: {accuracy_bison_tuned * 100:.2f}%\")"
   ]
  }
 ],
 "metadata": {
  "environment": {
   "kernel": "python3",
   "name": "tf2-gpu.2-11.m111",
   "type": "gcloud",
   "uri": "gcr.io/deeplearning-platform-release/tf2-gpu.2-11:m111"
  },
  "kernelspec": {
   "display_name": "Python 3",
   "language": "python",
   "name": "python3"
  },
  "language_info": {
   "codemirror_mode": {
    "name": "ipython",
    "version": 3
   },
   "file_extension": ".py",
   "mimetype": "text/x-python",
   "name": "python",
   "nbconvert_exporter": "python",
   "pygments_lexer": "ipython3",
   "version": "3.10.12"
  }
 },
 "nbformat": 4,
 "nbformat_minor": 5
}
