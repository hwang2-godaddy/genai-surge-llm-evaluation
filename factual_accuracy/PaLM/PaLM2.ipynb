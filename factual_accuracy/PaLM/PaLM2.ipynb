{
 "cells": [
  {
   "cell_type": "code",
   "execution_count": 1,
   "id": "1cdfb8e0-6deb-46ae-b4da-229631e1d300",
   "metadata": {},
   "outputs": [],
   "source": [
    "!pip install google-cloud-aiplatform --upgrade --user --quiet"
   ]
  },
  {
   "cell_type": "code",
   "execution_count": 2,
   "id": "dea9e0d2-4c84-46b9-9602-827f6b831474",
   "metadata": {},
   "outputs": [
    {
     "name": "stderr",
     "output_type": "stream",
     "text": [
      "2023-09-13 18:53:12.961748: I tensorflow/core/platform/cpu_feature_guard.cc:193] This TensorFlow binary is optimized with oneAPI Deep Neural Network Library (oneDNN) to use the following CPU instructions in performance-critical operations:  AVX2 FMA\n",
      "To enable them in other operations, rebuild TensorFlow with the appropriate compiler flags.\n",
      "2023-09-13 18:53:14.025208: W tensorflow/compiler/xla/stream_executor/platform/default/dso_loader.cc:64] Could not load dynamic library 'libnvinfer.so.7'; dlerror: libnvinfer.so.7: cannot open shared object file: No such file or directory; LD_LIBRARY_PATH: /usr/local/cuda/lib64:/usr/local/nccl2/lib:/usr/local/cuda/extras/CUPTI/lib64\n",
      "2023-09-13 18:53:14.025347: W tensorflow/compiler/xla/stream_executor/platform/default/dso_loader.cc:64] Could not load dynamic library 'libnvinfer_plugin.so.7'; dlerror: libnvinfer_plugin.so.7: cannot open shared object file: No such file or directory; LD_LIBRARY_PATH: /usr/local/cuda/lib64:/usr/local/nccl2/lib:/usr/local/cuda/extras/CUPTI/lib64\n",
      "2023-09-13 18:53:14.025358: W tensorflow/compiler/tf2tensorrt/utils/py_utils.cc:38] TF-TRT Warning: Cannot dlopen some TensorRT libraries. If you would like to use Nvidia GPU with TensorRT, please make sure the missing libraries mentioned above are installed properly.\n"
     ]
    }
   ],
   "source": [
    "import pandas as pd\n",
    "import seaborn as sns\n",
    "from IPython.display import Markdown, display\n",
    "from vertexai.language_models import TextGenerationModel"
   ]
  },
  {
   "cell_type": "code",
   "execution_count": 3,
   "id": "696748f7-49f9-49d9-bbc8-e0882f1230a6",
   "metadata": {},
   "outputs": [],
   "source": [
    "generation_model = TextGenerationModel.from_pretrained(\"text-bison@001\")"
   ]
  },
  {
   "cell_type": "code",
   "execution_count": 4,
   "id": "d20b487b-9a5f-49af-b774-83fb258b3f85",
   "metadata": {},
   "outputs": [
    {
     "data": {
      "text/html": [
       "<div>\n",
       "<style scoped>\n",
       "    .dataframe tbody tr th:only-of-type {\n",
       "        vertical-align: middle;\n",
       "    }\n",
       "\n",
       "    .dataframe tbody tr th {\n",
       "        vertical-align: top;\n",
       "    }\n",
       "\n",
       "    .dataframe thead th {\n",
       "        text-align: right;\n",
       "    }\n",
       "</style>\n",
       "<table border=\"1\" class=\"dataframe\">\n",
       "  <thead>\n",
       "    <tr style=\"text-align: right;\">\n",
       "      <th></th>\n",
       "      <th>article_id</th>\n",
       "      <th>article_sent</th>\n",
       "      <th>correct_sent</th>\n",
       "      <th>correct_sent_id</th>\n",
       "      <th>incorrect_sent</th>\n",
       "      <th>incorrect_sent_id</th>\n",
       "    </tr>\n",
       "  </thead>\n",
       "  <tbody>\n",
       "    <tr>\n",
       "      <th>0</th>\n",
       "      <td>67c3b0a2da09ce32a83c098da1e0aff034e790d0</td>\n",
       "      <td>the abc have reported that those who receive c...</td>\n",
       "      <td>those who receive centrelink payments made up ...</td>\n",
       "      <td>84-0</td>\n",
       "      <td>the abc have reported that those who receive c...</td>\n",
       "      <td>40-0</td>\n",
       "    </tr>\n",
       "    <tr>\n",
       "      <th>1</th>\n",
       "      <td>7c4ae3beb354e0a9f11fa09f8fbb6613a50db5cc</td>\n",
       "      <td>five ambitious clubs are locked in a scramble ...</td>\n",
       "      <td>five ambitious clubs are locked in a scramble ...</td>\n",
       "      <td>44-1</td>\n",
       "      <td>five ambitious clubs are locked in a bid for t...</td>\n",
       "      <td>17-1</td>\n",
       "    </tr>\n",
       "    <tr>\n",
       "      <th>2</th>\n",
       "      <td>7e37b3e3623ae0ab6568e0e73584b16fae0cc00e</td>\n",
       "      <td>but it wasn't until last year that the 25 year...</td>\n",
       "      <td>the 25 year old from pennsylvania went on a le...</td>\n",
       "      <td>45-1</td>\n",
       "      <td>the 25 year old from pennsylvania went viral o...</td>\n",
       "      <td>4-1</td>\n",
       "    </tr>\n",
       "    <tr>\n",
       "      <th>3</th>\n",
       "      <td>cdbfba47929b459daf474a1a3dee37d2351729ea</td>\n",
       "      <td>seven games involving nimes were investigated ...</td>\n",
       "      <td>seven games involving nimes were investigated ...</td>\n",
       "      <td>93-2</td>\n",
       "      <td>seven games involving nimes were arrested last...</td>\n",
       "      <td>83-2</td>\n",
       "    </tr>\n",
       "    <tr>\n",
       "      <th>4</th>\n",
       "      <td>696ac804af5fcab8853c583f5c97e1eda6e2493a</td>\n",
       "      <td>the driver's side of the windscreen immediatel...</td>\n",
       "      <td>driver's side of the windscreen immediately sh...</td>\n",
       "      <td>61-2</td>\n",
       "      <td>driver's side were immediately shatters and fa...</td>\n",
       "      <td>42-2</td>\n",
       "    </tr>\n",
       "  </tbody>\n",
       "</table>\n",
       "</div>"
      ],
      "text/plain": [
       "                                 article_id  \\\n",
       "0  67c3b0a2da09ce32a83c098da1e0aff034e790d0   \n",
       "1  7c4ae3beb354e0a9f11fa09f8fbb6613a50db5cc   \n",
       "2  7e37b3e3623ae0ab6568e0e73584b16fae0cc00e   \n",
       "3  cdbfba47929b459daf474a1a3dee37d2351729ea   \n",
       "4  696ac804af5fcab8853c583f5c97e1eda6e2493a   \n",
       "\n",
       "                                        article_sent  \\\n",
       "0  the abc have reported that those who receive c...   \n",
       "1  five ambitious clubs are locked in a scramble ...   \n",
       "2  but it wasn't until last year that the 25 year...   \n",
       "3  seven games involving nimes were investigated ...   \n",
       "4  the driver's side of the windscreen immediatel...   \n",
       "\n",
       "                                        correct_sent correct_sent_id  \\\n",
       "0  those who receive centrelink payments made up ...            84-0   \n",
       "1  five ambitious clubs are locked in a scramble ...            44-1   \n",
       "2  the 25 year old from pennsylvania went on a le...            45-1   \n",
       "3  seven games involving nimes were investigated ...            93-2   \n",
       "4  driver's side of the windscreen immediately sh...            61-2   \n",
       "\n",
       "                                      incorrect_sent incorrect_sent_id  \n",
       "0  the abc have reported that those who receive c...              40-0  \n",
       "1  five ambitious clubs are locked in a bid for t...              17-1  \n",
       "2  the 25 year old from pennsylvania went viral o...               4-1  \n",
       "3  seven games involving nimes were arrested last...              83-2  \n",
       "4  driver's side were immediately shatters and fa...              42-2  "
      ]
     },
     "execution_count": 4,
     "metadata": {},
     "output_type": "execute_result"
    }
   ],
   "source": [
    "df = pd.read_json(\"resources/datasets/val_sentence_pairs.json\")\n",
    "df.head()"
   ]
  },
  {
   "cell_type": "code",
   "execution_count": 6,
   "id": "cfd243d4-0679-4942-81aa-fb291b5919f1",
   "metadata": {},
   "outputs": [],
   "source": [
    "from prompt_mgr import PromptMgr\n",
    "\n",
    "pm = PromptMgr(src_dir = 'resources/environments/answer_first/prompts')"
   ]
  },
  {
   "cell_type": "code",
   "execution_count": 10,
   "id": "a96e90e0-e2a3-4d34-bf1d-b05357b489b9",
   "metadata": {},
   "outputs": [],
   "source": [
    "def query_model(row, model_predictor, prompt_mgr, swap_answers = False):\n",
    "    if swap_answers: \n",
    "        prompt = prompt_mgr.bind('consistent').render(\n",
    "                    article_sent=row['article_sent'], \n",
    "                    option_a=row['incorrect_sent'],\n",
    "                    option_b=row['correct_sent'])\n",
    "    else: \n",
    "        prompt = prompt_mgr.bind('consistent').render(\n",
    "                    article_sent=row['article_sent'], \n",
    "                    option_a=row['correct_sent'],\n",
    "                    option_b=row['incorrect_sent'])\n",
    "    system_prompt = prompt_mgr.bind('system').render()\n",
    "    prompt_data = f\"{system_prompt}\\n{prompt}\"\n",
    "    \n",
    "    response = model_predictor.predict(\n",
    "        prompt=prompt_data\n",
    "    )\n",
    "    \n",
    "    return {'output': response.text} "
   ]
  },
  {
   "cell_type": "code",
   "execution_count": 8,
   "id": "71bf0b78-20b1-46ca-a6b9-13d368fbc607",
   "metadata": {},
   "outputs": [
    {
     "name": "stdout",
     "output_type": "stream",
     "text": [
      "prompt_data: You are an assistant that helps determine the factuality of statements. Being precise, factual and following the user's instructions is important for this task. \n",
      "It is acceptable to answer in incomplete sentences e.g. just say 'x' and not 'The correct answer is x'. \n",
      "\n",
      "Decide which of the following summary is more consistent with the article\n",
      "sentence. \n",
      "\n",
      "Note that consistency means\n",
      "all information in the summary is supported by the article.\n",
      "\n",
      "Article Sentence: the abc have reported that those who receive centrelink payments made up half of radio rental's income last year.\n",
      "Summary A: the abc have reported that those who receive centrelink payments made up radio rental's income last year.\n",
      "Summary B: those who receive centrelink payments made up half of radio rental's income last year.\n",
      "\n",
      "Answer (A or B):\n",
      "\n"
     ]
    }
   ],
   "source": [
    "result = query_model(df.loc[0], generation_model, pm, swap_answers=True)"
   ]
  },
  {
   "cell_type": "code",
   "execution_count": 9,
   "id": "703cff0d-0255-4404-9eff-7a624fc1be35",
   "metadata": {},
   "outputs": [
    {
     "name": "stdout",
     "output_type": "stream",
     "text": [
      "B\n"
     ]
    }
   ],
   "source": [
    "print(result['output'])"
   ]
  },
  {
   "cell_type": "code",
   "execution_count": null,
   "id": "a7bfd2c8-8644-42e9-8246-37b7b7f3e82a",
   "metadata": {},
   "outputs": [],
   "source": [
    "import time\n",
    "\n",
    "# Create an empty list to store the results\n",
    "results_list = []\n",
    "\n",
    "# Iterate over each row in the DataFrame. sleep 1 min every 60 requests\n",
    "for i in range(len(df)):\n",
    "    result = query_model(df.loc[i], generation_model, pm, swap_answers=True)\n",
    "    results_list.append(result)\n",
    "    if i % 60 == 0:\n",
    "        time.sleep(60)\n",
    "\n",
    "# Create a new DataFrame from the results list\n",
    "results_df = pd.DataFrame(results_list)"
   ]
  },
  {
   "cell_type": "code",
   "execution_count": 18,
   "id": "9f9c4f3c-d0df-47f6-98ec-bb4aea3b5a16",
   "metadata": {},
   "outputs": [
    {
     "data": {
      "text/plain": [
       "373"
      ]
     },
     "execution_count": 18,
     "metadata": {},
     "output_type": "execute_result"
    }
   ],
   "source": [
    "len(results_list)"
   ]
  },
  {
   "cell_type": "code",
   "execution_count": 15,
   "id": "0717db34-6ea0-4d89-8060-8ff14d09cdf8",
   "metadata": {},
   "outputs": [
    {
     "data": {
      "text/plain": [
       "373"
      ]
     },
     "execution_count": 15,
     "metadata": {},
     "output_type": "execute_result"
    }
   ],
   "source": [
    "len(df)"
   ]
  },
  {
   "cell_type": "code",
   "execution_count": 19,
   "id": "d345ba9f-dde9-44c2-8b33-9dd2d816a907",
   "metadata": {},
   "outputs": [],
   "source": [
    "results_df.to_json('PaLM2-text-bison@001-output-swapped.json')"
   ]
  },
  {
   "cell_type": "code",
   "execution_count": 20,
   "id": "3c2094f7-a5fd-4c93-85f0-dcbdb1eef00d",
   "metadata": {},
   "outputs": [
    {
     "data": {
      "text/html": [
       "<div>\n",
       "<style scoped>\n",
       "    .dataframe tbody tr th:only-of-type {\n",
       "        vertical-align: middle;\n",
       "    }\n",
       "\n",
       "    .dataframe tbody tr th {\n",
       "        vertical-align: top;\n",
       "    }\n",
       "\n",
       "    .dataframe thead th {\n",
       "        text-align: right;\n",
       "    }\n",
       "</style>\n",
       "<table border=\"1\" class=\"dataframe\">\n",
       "  <thead>\n",
       "    <tr style=\"text-align: right;\">\n",
       "      <th></th>\n",
       "      <th>output</th>\n",
       "    </tr>\n",
       "  </thead>\n",
       "  <tbody>\n",
       "    <tr>\n",
       "      <th>0</th>\n",
       "      <td>B</td>\n",
       "    </tr>\n",
       "    <tr>\n",
       "      <th>1</th>\n",
       "      <td>B</td>\n",
       "    </tr>\n",
       "    <tr>\n",
       "      <th>2</th>\n",
       "      <td>B</td>\n",
       "    </tr>\n",
       "    <tr>\n",
       "      <th>3</th>\n",
       "      <td>B</td>\n",
       "    </tr>\n",
       "    <tr>\n",
       "      <th>4</th>\n",
       "      <td>B</td>\n",
       "    </tr>\n",
       "    <tr>\n",
       "      <th>...</th>\n",
       "      <td>...</td>\n",
       "    </tr>\n",
       "    <tr>\n",
       "      <th>368</th>\n",
       "      <td>B</td>\n",
       "    </tr>\n",
       "    <tr>\n",
       "      <th>369</th>\n",
       "      <td>A</td>\n",
       "    </tr>\n",
       "    <tr>\n",
       "      <th>370</th>\n",
       "      <td>A</td>\n",
       "    </tr>\n",
       "    <tr>\n",
       "      <th>371</th>\n",
       "      <td>B</td>\n",
       "    </tr>\n",
       "    <tr>\n",
       "      <th>372</th>\n",
       "      <td>B</td>\n",
       "    </tr>\n",
       "  </tbody>\n",
       "</table>\n",
       "<p>373 rows × 1 columns</p>\n",
       "</div>"
      ],
      "text/plain": [
       "    output\n",
       "0        B\n",
       "1        B\n",
       "2        B\n",
       "3        B\n",
       "4        B\n",
       "..     ...\n",
       "368      B\n",
       "369      A\n",
       "370      A\n",
       "371      B\n",
       "372      B\n",
       "\n",
       "[373 rows x 1 columns]"
      ]
     },
     "execution_count": 20,
     "metadata": {},
     "output_type": "execute_result"
    }
   ],
   "source": [
    "results_df"
   ]
  },
  {
   "cell_type": "code",
   "execution_count": 25,
   "id": "7eabb0f1-a955-413b-a74d-6819c55a891c",
   "metadata": {},
   "outputs": [],
   "source": [
    "# Create an empty list to store the results\n",
    "results_list_no_swap = []\n",
    "\n",
    "# Iterate over each row in the DataFrame\n",
    "for i in range(len(df)):\n",
    "    result = query_model(df.loc[i], generation_model, pm, swap_answers=False)\n",
    "    results_list_no_swap.append(result)\n",
    "    if i % 60 == 0:\n",
    "        time.sleep(60)\n",
    "\n",
    "# Create a new DataFrame from the results list\n",
    "results_df_no_swap = pd.DataFrame(results_list_no_swap)"
   ]
  },
  {
   "cell_type": "code",
   "execution_count": 26,
   "id": "230868b6-f6bd-47e2-b197-35dd4cc05b7a",
   "metadata": {},
   "outputs": [
    {
     "data": {
      "text/plain": [
       "373"
      ]
     },
     "execution_count": 26,
     "metadata": {},
     "output_type": "execute_result"
    }
   ],
   "source": [
    "len(results_df_no_swap)"
   ]
  },
  {
   "cell_type": "code",
   "execution_count": 27,
   "id": "3e3d2be3-8b45-4c7f-8db3-b980fb788c00",
   "metadata": {},
   "outputs": [],
   "source": [
    "results_df_no_swap.to_json('PaLM2-text-bison@001-output-no-swapped.json')"
   ]
  },
  {
   "cell_type": "code",
   "execution_count": null,
   "id": "90364e13-72e0-44c5-aa65-8707c630c7a5",
   "metadata": {},
   "outputs": [],
   "source": [
    "results_df.rename(columns={'output': 'palm_swapped_output'}, inplace=True)"
   ]
  },
  {
   "cell_type": "code",
   "execution_count": 28,
   "id": "6ded017a-cb22-488b-803c-de00d877d5d5",
   "metadata": {},
   "outputs": [
    {
     "data": {
      "text/html": [
       "<div>\n",
       "<style scoped>\n",
       "    .dataframe tbody tr th:only-of-type {\n",
       "        vertical-align: middle;\n",
       "    }\n",
       "\n",
       "    .dataframe tbody tr th {\n",
       "        vertical-align: top;\n",
       "    }\n",
       "\n",
       "    .dataframe thead th {\n",
       "        text-align: right;\n",
       "    }\n",
       "</style>\n",
       "<table border=\"1\" class=\"dataframe\">\n",
       "  <thead>\n",
       "    <tr style=\"text-align: right;\">\n",
       "      <th></th>\n",
       "      <th>article_id</th>\n",
       "      <th>article_sent</th>\n",
       "      <th>correct_sent</th>\n",
       "      <th>correct_sent_id</th>\n",
       "      <th>incorrect_sent</th>\n",
       "      <th>incorrect_sent_id</th>\n",
       "      <th>palm_swapped_output</th>\n",
       "      <th>palm_no_swap_output</th>\n",
       "    </tr>\n",
       "  </thead>\n",
       "  <tbody>\n",
       "    <tr>\n",
       "      <th>0</th>\n",
       "      <td>67c3b0a2da09ce32a83c098da1e0aff034e790d0</td>\n",
       "      <td>the abc have reported that those who receive c...</td>\n",
       "      <td>those who receive centrelink payments made up ...</td>\n",
       "      <td>84-0</td>\n",
       "      <td>the abc have reported that those who receive c...</td>\n",
       "      <td>40-0</td>\n",
       "      <td>B</td>\n",
       "      <td>A</td>\n",
       "    </tr>\n",
       "    <tr>\n",
       "      <th>1</th>\n",
       "      <td>7c4ae3beb354e0a9f11fa09f8fbb6613a50db5cc</td>\n",
       "      <td>five ambitious clubs are locked in a scramble ...</td>\n",
       "      <td>five ambitious clubs are locked in a scramble ...</td>\n",
       "      <td>44-1</td>\n",
       "      <td>five ambitious clubs are locked in a bid for t...</td>\n",
       "      <td>17-1</td>\n",
       "      <td>B</td>\n",
       "      <td>A</td>\n",
       "    </tr>\n",
       "    <tr>\n",
       "      <th>2</th>\n",
       "      <td>7e37b3e3623ae0ab6568e0e73584b16fae0cc00e</td>\n",
       "      <td>but it wasn't until last year that the 25 year...</td>\n",
       "      <td>the 25 year old from pennsylvania went on a le...</td>\n",
       "      <td>45-1</td>\n",
       "      <td>the 25 year old from pennsylvania went viral o...</td>\n",
       "      <td>4-1</td>\n",
       "      <td>B</td>\n",
       "      <td>A</td>\n",
       "    </tr>\n",
       "    <tr>\n",
       "      <th>3</th>\n",
       "      <td>cdbfba47929b459daf474a1a3dee37d2351729ea</td>\n",
       "      <td>seven games involving nimes were investigated ...</td>\n",
       "      <td>seven games involving nimes were investigated ...</td>\n",
       "      <td>93-2</td>\n",
       "      <td>seven games involving nimes were arrested last...</td>\n",
       "      <td>83-2</td>\n",
       "      <td>B</td>\n",
       "      <td>A</td>\n",
       "    </tr>\n",
       "    <tr>\n",
       "      <th>4</th>\n",
       "      <td>696ac804af5fcab8853c583f5c97e1eda6e2493a</td>\n",
       "      <td>the driver's side of the windscreen immediatel...</td>\n",
       "      <td>driver's side of the windscreen immediately sh...</td>\n",
       "      <td>61-2</td>\n",
       "      <td>driver's side were immediately shatters and fa...</td>\n",
       "      <td>42-2</td>\n",
       "      <td>B</td>\n",
       "      <td>A</td>\n",
       "    </tr>\n",
       "  </tbody>\n",
       "</table>\n",
       "</div>"
      ],
      "text/plain": [
       "                                 article_id  \\\n",
       "0  67c3b0a2da09ce32a83c098da1e0aff034e790d0   \n",
       "1  7c4ae3beb354e0a9f11fa09f8fbb6613a50db5cc   \n",
       "2  7e37b3e3623ae0ab6568e0e73584b16fae0cc00e   \n",
       "3  cdbfba47929b459daf474a1a3dee37d2351729ea   \n",
       "4  696ac804af5fcab8853c583f5c97e1eda6e2493a   \n",
       "\n",
       "                                        article_sent  \\\n",
       "0  the abc have reported that those who receive c...   \n",
       "1  five ambitious clubs are locked in a scramble ...   \n",
       "2  but it wasn't until last year that the 25 year...   \n",
       "3  seven games involving nimes were investigated ...   \n",
       "4  the driver's side of the windscreen immediatel...   \n",
       "\n",
       "                                        correct_sent correct_sent_id  \\\n",
       "0  those who receive centrelink payments made up ...            84-0   \n",
       "1  five ambitious clubs are locked in a scramble ...            44-1   \n",
       "2  the 25 year old from pennsylvania went on a le...            45-1   \n",
       "3  seven games involving nimes were investigated ...            93-2   \n",
       "4  driver's side of the windscreen immediately sh...            61-2   \n",
       "\n",
       "                                      incorrect_sent incorrect_sent_id  \\\n",
       "0  the abc have reported that those who receive c...              40-0   \n",
       "1  five ambitious clubs are locked in a bid for t...              17-1   \n",
       "2  the 25 year old from pennsylvania went viral o...               4-1   \n",
       "3  seven games involving nimes were arrested last...              83-2   \n",
       "4  driver's side were immediately shatters and fa...              42-2   \n",
       "\n",
       "  palm_swapped_output palm_no_swap_output  \n",
       "0                   B                   A  \n",
       "1                   B                   A  \n",
       "2                   B                   A  \n",
       "3                   B                   A  \n",
       "4                   B                   A  "
      ]
     },
     "execution_count": 28,
     "metadata": {},
     "output_type": "execute_result"
    }
   ],
   "source": [
    "results_df_no_swap.rename(columns={'output': 'palm_no_swap_output'}, inplace=True)\n",
    "input_df = df\n",
    "\n",
    "combined_df = pd.concat([input_df, \n",
    "                         results_df, \n",
    "                         results_df_no_swap,], axis=1)\n",
    "combined_df.head()"
   ]
  },
  {
   "cell_type": "code",
   "execution_count": 22,
   "id": "7d631a2e-0710-4317-b363-51deb44824cf",
   "metadata": {},
   "outputs": [],
   "source": [
    "def is_correct(row): \n",
    "    if (row[0] == 'B' and row[1] == 'A'):\n",
    "        return 'Y'\n",
    "    if (row[0] == 'A' and row[1] == 'A'):\n",
    "        return 'AA'\n",
    "    if (row[0] == 'B' and row[1] == 'B'):\n",
    "        return 'BB'\n",
    "    if (row[0] == 'A' and row[1] == 'B'):\n",
    "        return 'N'\n",
    "    return 'No answer'"
   ]
  },
  {
   "cell_type": "code",
   "execution_count": 29,
   "id": "f8ff3a89-6dca-4797-933b-51b7857b7f5a",
   "metadata": {},
   "outputs": [],
   "source": [
    "combined_df['palm_analysis_result'] = combined_df[['palm_swapped_output', 'palm_no_swap_output']].apply(is_correct, axis=1)"
   ]
  },
  {
   "cell_type": "code",
   "execution_count": 30,
   "id": "2f346485-aea8-461f-b02b-18f7bd7dec3a",
   "metadata": {},
   "outputs": [],
   "source": [
    "def acc_bias(col):\n",
    "    results = combined_df[col].value_counts()/len(combined_df)\n",
    "    acc = results['Y']\n",
    "    in_acc = results['N']\n",
    "    no_answer = results['No answer']\n",
    "    if 'AA' not in results:\n",
    "        results['AA'] = 0\n",
    "    if 'BB' not in results: \n",
    "        results['BB'] = 0\n",
    "        \n",
    "    bias = abs(results['AA'] - results['BB'])\n",
    "    aa_ratio = results['AA'] * 100\n",
    "    bb_ratio = results['BB'] * 100\n",
    "    if results['AA'] > results['BB']:\n",
    "        towards = 'A'\n",
    "    else:\n",
    "        towards = 'B'\n",
    "        \n",
    "    return acc, in_acc, no_answer, aa_ratio, bb_ratio, bias, towards"
   ]
  },
  {
   "cell_type": "code",
   "execution_count": 31,
   "id": "2bef9914-eb9d-4ed9-846b-da9a4706f198",
   "metadata": {},
   "outputs": [
    {
     "name": "stdout",
     "output_type": "stream",
     "text": [
      "palm:   \tAccuracy: 81.5%     \tInaccuracy: 2.9%     \tNO_Answer: 2.7%     \tAA: 0.5%\tBB: 12.3%\tBias: 11.8% towards B\n"
     ]
    }
   ],
   "source": [
    "for m in ['palm',]:\n",
    "    acc, in_acc, no_answer, aa_ratio, bb_ratio, bias, towards = acc_bias(m+'_analysis_result')\n",
    "    acc = acc*100\n",
    "    in_acc = in_acc*100\n",
    "    no_answer = no_answer*100\n",
    "    bias = bias*100\n",
    "    print(f'{m}:   \\tAccuracy: {acc:.1f}%     \\tInaccuracy: {in_acc:.1f}%     \\tNO_Answer: {no_answer:.1f}%     \\tAA: {aa_ratio:.1f}%\\tBB: {bb_ratio:.1f}%\\tBias: {bias:.1f}% towards {towards}')"
   ]
  }
 ],
 "metadata": {
  "environment": {
   "kernel": "python3",
   "name": "tf2-gpu.2-11.m111",
   "type": "gcloud",
   "uri": "gcr.io/deeplearning-platform-release/tf2-gpu.2-11:m111"
  },
  "kernelspec": {
   "display_name": "Python 3",
   "language": "python",
   "name": "python3"
  },
  "language_info": {
   "codemirror_mode": {
    "name": "ipython",
    "version": 3
   },
   "file_extension": ".py",
   "mimetype": "text/x-python",
   "name": "python",
   "nbconvert_exporter": "python",
   "pygments_lexer": "ipython3",
   "version": "3.10.12"
  }
 },
 "nbformat": 4,
 "nbformat_minor": 5
}
