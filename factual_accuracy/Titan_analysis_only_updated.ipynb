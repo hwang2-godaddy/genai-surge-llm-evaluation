{
 "cells": [
  {
   "cell_type": "code",
   "execution_count": 1,
   "metadata": {},
   "outputs": [],
   "source": [
    "import pandas as pd"
   ]
  },
  {
   "cell_type": "code",
   "execution_count": 2,
   "metadata": {},
   "outputs": [
    {
     "data": {
      "text/html": [
       "<div>\n",
       "<style scoped>\n",
       "    .dataframe tbody tr th:only-of-type {\n",
       "        vertical-align: middle;\n",
       "    }\n",
       "\n",
       "    .dataframe tbody tr th {\n",
       "        vertical-align: top;\n",
       "    }\n",
       "\n",
       "    .dataframe thead th {\n",
       "        text-align: right;\n",
       "    }\n",
       "</style>\n",
       "<table border=\"1\" class=\"dataframe\">\n",
       "  <thead>\n",
       "    <tr style=\"text-align: right;\">\n",
       "      <th></th>\n",
       "      <th>article_id</th>\n",
       "      <th>article_sent</th>\n",
       "      <th>correct_sent</th>\n",
       "      <th>correct_sent_id</th>\n",
       "      <th>incorrect_sent</th>\n",
       "      <th>incorrect_sent_id</th>\n",
       "    </tr>\n",
       "  </thead>\n",
       "  <tbody>\n",
       "    <tr>\n",
       "      <th>0</th>\n",
       "      <td>67c3b0a2da09ce32a83c098da1e0aff034e790d0</td>\n",
       "      <td>the abc have reported that those who receive c...</td>\n",
       "      <td>those who receive centrelink payments made up ...</td>\n",
       "      <td>84-0</td>\n",
       "      <td>the abc have reported that those who receive c...</td>\n",
       "      <td>40-0</td>\n",
       "    </tr>\n",
       "    <tr>\n",
       "      <th>1</th>\n",
       "      <td>7c4ae3beb354e0a9f11fa09f8fbb6613a50db5cc</td>\n",
       "      <td>five ambitious clubs are locked in a scramble ...</td>\n",
       "      <td>five ambitious clubs are locked in a scramble ...</td>\n",
       "      <td>44-1</td>\n",
       "      <td>five ambitious clubs are locked in a bid for t...</td>\n",
       "      <td>17-1</td>\n",
       "    </tr>\n",
       "    <tr>\n",
       "      <th>2</th>\n",
       "      <td>7e37b3e3623ae0ab6568e0e73584b16fae0cc00e</td>\n",
       "      <td>but it wasn't until last year that the 25 year...</td>\n",
       "      <td>the 25 year old from pennsylvania went on a le...</td>\n",
       "      <td>45-1</td>\n",
       "      <td>the 25 year old from pennsylvania went viral o...</td>\n",
       "      <td>4-1</td>\n",
       "    </tr>\n",
       "    <tr>\n",
       "      <th>3</th>\n",
       "      <td>cdbfba47929b459daf474a1a3dee37d2351729ea</td>\n",
       "      <td>seven games involving nimes were investigated ...</td>\n",
       "      <td>seven games involving nimes were investigated ...</td>\n",
       "      <td>93-2</td>\n",
       "      <td>seven games involving nimes were arrested last...</td>\n",
       "      <td>83-2</td>\n",
       "    </tr>\n",
       "    <tr>\n",
       "      <th>4</th>\n",
       "      <td>696ac804af5fcab8853c583f5c97e1eda6e2493a</td>\n",
       "      <td>the driver's side of the windscreen immediatel...</td>\n",
       "      <td>driver's side of the windscreen immediately sh...</td>\n",
       "      <td>61-2</td>\n",
       "      <td>driver's side were immediately shatters and fa...</td>\n",
       "      <td>42-2</td>\n",
       "    </tr>\n",
       "  </tbody>\n",
       "</table>\n",
       "</div>"
      ],
      "text/plain": [
       "                                 article_id   \n",
       "0  67c3b0a2da09ce32a83c098da1e0aff034e790d0  \\\n",
       "1  7c4ae3beb354e0a9f11fa09f8fbb6613a50db5cc   \n",
       "2  7e37b3e3623ae0ab6568e0e73584b16fae0cc00e   \n",
       "3  cdbfba47929b459daf474a1a3dee37d2351729ea   \n",
       "4  696ac804af5fcab8853c583f5c97e1eda6e2493a   \n",
       "\n",
       "                                        article_sent   \n",
       "0  the abc have reported that those who receive c...  \\\n",
       "1  five ambitious clubs are locked in a scramble ...   \n",
       "2  but it wasn't until last year that the 25 year...   \n",
       "3  seven games involving nimes were investigated ...   \n",
       "4  the driver's side of the windscreen immediatel...   \n",
       "\n",
       "                                        correct_sent correct_sent_id   \n",
       "0  those who receive centrelink payments made up ...            84-0  \\\n",
       "1  five ambitious clubs are locked in a scramble ...            44-1   \n",
       "2  the 25 year old from pennsylvania went on a le...            45-1   \n",
       "3  seven games involving nimes were investigated ...            93-2   \n",
       "4  driver's side of the windscreen immediately sh...            61-2   \n",
       "\n",
       "                                      incorrect_sent incorrect_sent_id  \n",
       "0  the abc have reported that those who receive c...              40-0  \n",
       "1  five ambitious clubs are locked in a bid for t...              17-1  \n",
       "2  the 25 year old from pennsylvania went viral o...               4-1  \n",
       "3  seven games involving nimes were arrested last...              83-2  \n",
       "4  driver's side were immediately shatters and fa...              42-2  "
      ]
     },
     "execution_count": 2,
     "metadata": {},
     "output_type": "execute_result"
    }
   ],
   "source": [
    "df = pd.read_json('resources/datasets/val_sentence_pairs.json')\n",
    "df.head()"
   ]
  },
  {
   "cell_type": "code",
   "execution_count": 3,
   "metadata": {},
   "outputs": [],
   "source": [
    "titan_swapped_df  = pd.read_json('results/Titan-model-output-swapped.json')\n",
    "titan_no_swap_df  = pd.read_json('results/Titan-model-output-no-swap.json')"
   ]
  },
  {
   "cell_type": "code",
   "execution_count": 4,
   "metadata": {},
   "outputs": [
    {
     "data": {
      "text/html": [
       "<div>\n",
       "<style scoped>\n",
       "    .dataframe tbody tr th:only-of-type {\n",
       "        vertical-align: middle;\n",
       "    }\n",
       "\n",
       "    .dataframe tbody tr th {\n",
       "        vertical-align: top;\n",
       "    }\n",
       "\n",
       "    .dataframe thead th {\n",
       "        text-align: right;\n",
       "    }\n",
       "</style>\n",
       "<table border=\"1\" class=\"dataframe\">\n",
       "  <thead>\n",
       "    <tr style=\"text-align: right;\">\n",
       "      <th></th>\n",
       "      <th>output</th>\n",
       "    </tr>\n",
       "  </thead>\n",
       "  <tbody>\n",
       "    <tr>\n",
       "      <th>0</th>\n",
       "      <td>B</td>\n",
       "    </tr>\n",
       "    <tr>\n",
       "      <th>1</th>\n",
       "      <td>B</td>\n",
       "    </tr>\n",
       "    <tr>\n",
       "      <th>10</th>\n",
       "      <td>B</td>\n",
       "    </tr>\n",
       "    <tr>\n",
       "      <th>100</th>\n",
       "      <td>B</td>\n",
       "    </tr>\n",
       "    <tr>\n",
       "      <th>101</th>\n",
       "      <td>B</td>\n",
       "    </tr>\n",
       "  </tbody>\n",
       "</table>\n",
       "</div>"
      ],
      "text/plain": [
       "    output\n",
       "0        B\n",
       "1        B\n",
       "10       B\n",
       "100      B\n",
       "101      B"
      ]
     },
     "execution_count": 4,
     "metadata": {},
     "output_type": "execute_result"
    }
   ],
   "source": [
    "titan_swapped_df.head()"
   ]
  },
  {
   "cell_type": "code",
   "execution_count": 5,
   "metadata": {},
   "outputs": [
    {
     "data": {
      "text/plain": [
       "(373, 1)"
      ]
     },
     "execution_count": 5,
     "metadata": {},
     "output_type": "execute_result"
    }
   ],
   "source": [
    "titan_swapped_df.shape"
   ]
  },
  {
   "cell_type": "code",
   "execution_count": 6,
   "metadata": {},
   "outputs": [],
   "source": [
    "titan_swapped_df.rename(columns={'output': 'titan_swapped_output'}, inplace=True)\n",
    "titan_no_swap_df.rename(columns={'output': 'titan_no_swap_output'}, inplace=True)"
   ]
  },
  {
   "cell_type": "code",
   "execution_count": 7,
   "metadata": {},
   "outputs": [
    {
     "data": {
      "text/html": [
       "<div>\n",
       "<style scoped>\n",
       "    .dataframe tbody tr th:only-of-type {\n",
       "        vertical-align: middle;\n",
       "    }\n",
       "\n",
       "    .dataframe tbody tr th {\n",
       "        vertical-align: top;\n",
       "    }\n",
       "\n",
       "    .dataframe thead th {\n",
       "        text-align: right;\n",
       "    }\n",
       "</style>\n",
       "<table border=\"1\" class=\"dataframe\">\n",
       "  <thead>\n",
       "    <tr style=\"text-align: right;\">\n",
       "      <th></th>\n",
       "      <th>article_id</th>\n",
       "      <th>article_sent</th>\n",
       "      <th>correct_sent</th>\n",
       "      <th>correct_sent_id</th>\n",
       "      <th>incorrect_sent</th>\n",
       "      <th>incorrect_sent_id</th>\n",
       "      <th>titan_swapped_output</th>\n",
       "      <th>titan_no_swap_output</th>\n",
       "    </tr>\n",
       "  </thead>\n",
       "  <tbody>\n",
       "    <tr>\n",
       "      <th>0</th>\n",
       "      <td>67c3b0a2da09ce32a83c098da1e0aff034e790d0</td>\n",
       "      <td>the abc have reported that those who receive c...</td>\n",
       "      <td>those who receive centrelink payments made up ...</td>\n",
       "      <td>84-0</td>\n",
       "      <td>the abc have reported that those who receive c...</td>\n",
       "      <td>40-0</td>\n",
       "      <td>B</td>\n",
       "      <td>B</td>\n",
       "    </tr>\n",
       "    <tr>\n",
       "      <th>1</th>\n",
       "      <td>7c4ae3beb354e0a9f11fa09f8fbb6613a50db5cc</td>\n",
       "      <td>five ambitious clubs are locked in a scramble ...</td>\n",
       "      <td>five ambitious clubs are locked in a scramble ...</td>\n",
       "      <td>44-1</td>\n",
       "      <td>five ambitious clubs are locked in a bid for t...</td>\n",
       "      <td>17-1</td>\n",
       "      <td>B</td>\n",
       "      <td>B</td>\n",
       "    </tr>\n",
       "    <tr>\n",
       "      <th>2</th>\n",
       "      <td>7e37b3e3623ae0ab6568e0e73584b16fae0cc00e</td>\n",
       "      <td>but it wasn't until last year that the 25 year...</td>\n",
       "      <td>the 25 year old from pennsylvania went on a le...</td>\n",
       "      <td>45-1</td>\n",
       "      <td>the 25 year old from pennsylvania went viral o...</td>\n",
       "      <td>4-1</td>\n",
       "      <td>B</td>\n",
       "      <td>A</td>\n",
       "    </tr>\n",
       "    <tr>\n",
       "      <th>3</th>\n",
       "      <td>cdbfba47929b459daf474a1a3dee37d2351729ea</td>\n",
       "      <td>seven games involving nimes were investigated ...</td>\n",
       "      <td>seven games involving nimes were investigated ...</td>\n",
       "      <td>93-2</td>\n",
       "      <td>seven games involving nimes were arrested last...</td>\n",
       "      <td>83-2</td>\n",
       "      <td>B</td>\n",
       "      <td>A</td>\n",
       "    </tr>\n",
       "    <tr>\n",
       "      <th>4</th>\n",
       "      <td>696ac804af5fcab8853c583f5c97e1eda6e2493a</td>\n",
       "      <td>the driver's side of the windscreen immediatel...</td>\n",
       "      <td>driver's side of the windscreen immediately sh...</td>\n",
       "      <td>61-2</td>\n",
       "      <td>driver's side were immediately shatters and fa...</td>\n",
       "      <td>42-2</td>\n",
       "      <td>B</td>\n",
       "      <td>A</td>\n",
       "    </tr>\n",
       "  </tbody>\n",
       "</table>\n",
       "</div>"
      ],
      "text/plain": [
       "                                 article_id   \n",
       "0  67c3b0a2da09ce32a83c098da1e0aff034e790d0  \\\n",
       "1  7c4ae3beb354e0a9f11fa09f8fbb6613a50db5cc   \n",
       "2  7e37b3e3623ae0ab6568e0e73584b16fae0cc00e   \n",
       "3  cdbfba47929b459daf474a1a3dee37d2351729ea   \n",
       "4  696ac804af5fcab8853c583f5c97e1eda6e2493a   \n",
       "\n",
       "                                        article_sent   \n",
       "0  the abc have reported that those who receive c...  \\\n",
       "1  five ambitious clubs are locked in a scramble ...   \n",
       "2  but it wasn't until last year that the 25 year...   \n",
       "3  seven games involving nimes were investigated ...   \n",
       "4  the driver's side of the windscreen immediatel...   \n",
       "\n",
       "                                        correct_sent correct_sent_id   \n",
       "0  those who receive centrelink payments made up ...            84-0  \\\n",
       "1  five ambitious clubs are locked in a scramble ...            44-1   \n",
       "2  the 25 year old from pennsylvania went on a le...            45-1   \n",
       "3  seven games involving nimes were investigated ...            93-2   \n",
       "4  driver's side of the windscreen immediately sh...            61-2   \n",
       "\n",
       "                                      incorrect_sent incorrect_sent_id   \n",
       "0  the abc have reported that those who receive c...              40-0  \\\n",
       "1  five ambitious clubs are locked in a bid for t...              17-1   \n",
       "2  the 25 year old from pennsylvania went viral o...               4-1   \n",
       "3  seven games involving nimes were arrested last...              83-2   \n",
       "4  driver's side were immediately shatters and fa...              42-2   \n",
       "\n",
       "  titan_swapped_output titan_no_swap_output  \n",
       "0                    B                    B  \n",
       "1                    B                    B  \n",
       "2                    B                    A  \n",
       "3                    B                    A  \n",
       "4                    B                    A  "
      ]
     },
     "execution_count": 7,
     "metadata": {},
     "output_type": "execute_result"
    }
   ],
   "source": [
    "input_df = df\n",
    "\n",
    "combined_df = pd.concat([input_df, \n",
    "                         titan_swapped_df, \n",
    "                         titan_no_swap_df,], axis=1)\n",
    "combined_df.head()"
   ]
  },
  {
   "cell_type": "code",
   "execution_count": 8,
   "metadata": {},
   "outputs": [],
   "source": [
    "def is_correct(row): \n",
    "    if (row[0] == 'B' and row[1] == 'A'):\n",
    "        return 'Y'\n",
    "    if (row[0] == 'A' and row[1] == 'A'):\n",
    "        return 'AA'\n",
    "    if (row[0] == 'B' and row[1] == 'B'):\n",
    "        return 'BB'\n",
    "    if (row[0] == 'A' and row[1] == 'B'):\n",
    "        return 'N'\n",
    "    return 'No answer'"
   ]
  },
  {
   "cell_type": "code",
   "execution_count": 9,
   "metadata": {},
   "outputs": [],
   "source": [
    "combined_df['titan_analysis_result'] = combined_df[['titan_swapped_output', 'titan_no_swap_output']].apply(is_correct, axis=1)"
   ]
  },
  {
   "cell_type": "code",
   "execution_count": 10,
   "metadata": {},
   "outputs": [],
   "source": [
    "def acc_bias(col):\n",
    "    results = combined_df[col].value_counts()/len(combined_df)\n",
    "    acc = results['Y']\n",
    "    in_acc = results['N']\n",
    "    no_answer = results['No answer']\n",
    "    if 'AA' not in results:\n",
    "        results['AA'] = 0\n",
    "    if 'BB' not in results: \n",
    "        results['BB'] = 0\n",
    "        \n",
    "    bias = abs(results['AA'] - results['BB'])\n",
    "    aa_ratio = results['AA'] * 100\n",
    "    bb_ratio = results['BB'] * 100\n",
    "    if results['AA'] > results['BB']:\n",
    "        towards = 'A'\n",
    "    else:\n",
    "        towards = 'B'\n",
    "        \n",
    "    return acc, in_acc, no_answer, aa_ratio, bb_ratio, bias, towards"
   ]
  },
  {
   "cell_type": "code",
   "execution_count": 12,
   "metadata": {},
   "outputs": [
    {
     "name": "stdout",
     "output_type": "stream",
     "text": [
      "titan:   \tAccuracy: 65.4%     \tInaccuracy: 2.4%     \tNO_Answer: 1.9%     \tAA: 2.1%\tBB: 28.2%\tBias: 26.0% towards B\n"
     ]
    }
   ],
   "source": [
    "for m in ['titan',]:\n",
    "    acc, in_acc, no_answer, aa_ratio, bb_ratio, bias, towards = acc_bias(m+'_analysis_result')\n",
    "    acc = acc*100\n",
    "    in_acc = in_acc*100\n",
    "    no_answer = no_answer*100\n",
    "    bias = bias*100\n",
    "    print(f'{m}:   \\tAccuracy: {acc:.1f}%     \\tInaccuracy: {in_acc:.1f}%     \\tNO_Answer: {no_answer:.1f}%     \\tAA: {aa_ratio:.1f}%\\tBB: {bb_ratio:.1f}%\\tBias: {bias:.1f}% towards {towards}')"
   ]
  },
  {
   "cell_type": "code",
   "execution_count": null,
   "metadata": {},
   "outputs": [],
   "source": []
  }
 ],
 "metadata": {
  "kernelspec": {
   "display_name": "base",
   "language": "python",
   "name": "python3"
  },
  "language_info": {
   "codemirror_mode": {
    "name": "ipython",
    "version": 3
   },
   "file_extension": ".py",
   "mimetype": "text/x-python",
   "name": "python",
   "nbconvert_exporter": "python",
   "pygments_lexer": "ipython3",
   "version": "3.9.12"
  },
  "orig_nbformat": 4
 },
 "nbformat": 4,
 "nbformat_minor": 2
}
