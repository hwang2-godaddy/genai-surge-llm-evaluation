{
 "cells": [
  {
   "cell_type": "markdown",
   "id": "b81647f5-de7c-44c8-9c06-54775c894dc0",
   "metadata": {},
   "source": [
    "## Deploy platypus-70b-instruct model"
   ]
  },
  {
   "cell_type": "code",
   "execution_count": 2,
   "id": "9752fda0-c682-4f16-b448-3f91e1637e2e",
   "metadata": {
    "tags": []
   },
   "outputs": [
    {
     "name": "stdout",
     "output_type": "stream",
     "text": [
      "\u001b[33mWARNING: Running pip as the 'root' user can result in broken permissions and conflicting behaviour with the system package manager. It is recommended to use a virtual environment instead: https://pip.pypa.io/warnings/venv\u001b[0m\u001b[33m\n",
      "\u001b[0m"
     ]
    }
   ],
   "source": [
    "!pip install \"sagemaker>=2.175.0\" --upgrade --quiet"
   ]
  },
  {
   "cell_type": "code",
   "execution_count": 5,
   "id": "3252993d-ad24-4e26-a22b-a661afe0436b",
   "metadata": {
    "tags": []
   },
   "outputs": [],
   "source": [
    "ROLE = \"arn:aws:iam::111039177464:role/gdmlml-custom-us-west-2-cerbo-role\" "
   ]
  },
  {
   "cell_type": "code",
   "execution_count": 3,
   "id": "b78e6598-b055-4bd6-8b5f-ac45b7b98d3e",
   "metadata": {
    "tags": []
   },
   "outputs": [
    {
     "name": "stderr",
     "output_type": "stream",
     "text": [
      "/opt/conda/lib/python3.10/site-packages/scipy/__init__.py:155: UserWarning: A NumPy version >=1.18.5 and <1.25.0 is required for this version of SciPy (detected version 1.25.1\n",
      "  warnings.warn(f\"A NumPy version >={np_minversion} and <{np_maxversion}\"\n"
     ]
    },
    {
     "name": "stdout",
     "output_type": "stream",
     "text": [
      "llm image uri: 763104351884.dkr.ecr.us-west-2.amazonaws.com/huggingface-pytorch-tgi-inference:2.0.1-tgi0.9.3-gpu-py39-cu118-ubuntu20.04\n"
     ]
    }
   ],
   "source": [
    "from sagemaker.huggingface import get_huggingface_llm_image_uri\n",
    "\n",
    "# retrieve the llm image uri\n",
    "llm_image = get_huggingface_llm_image_uri(\n",
    "  \"huggingface\",\n",
    "  version=\"0.9.3\"\n",
    ")\n",
    "\n",
    "# print ecr image uri\n",
    "print(f\"llm image uri: {llm_image}\")"
   ]
  },
  {
   "cell_type": "code",
   "execution_count": 7,
   "id": "91e8065a-ed4a-4b8c-85e0-d581007392db",
   "metadata": {
    "tags": []
   },
   "outputs": [],
   "source": [
    "import json\n",
    "from sagemaker.huggingface import HuggingFaceModel\n",
    "\n",
    "# sagemaker config\n",
    "instance_type = \"ml.g5.48xlarge\"\n",
    "number_of_gpu = 8\n",
    "health_check_timeout = 1800\n",
    "\n",
    "# Define Model and Endpoint configuration parameter\n",
    "config = {\n",
    "  'HF_MODEL_ID': \"garage-bAInd/Platypus2-70B-instruct\", # model_id from hf.co/models\n",
    "  'SM_NUM_GPUS': json.dumps(number_of_gpu), # Number of GPU used per replica\n",
    "  'MAX_INPUT_LENGTH': json.dumps(2048),  # Max length of input text\n",
    "  'MAX_TOTAL_TOKENS': json.dumps(4096),  # Max length of the generation (including input text)\n",
    "  'MAX_BATCH_TOTAL_TOKENS': json.dumps(8192),  # Limits the number of tokens that can be processed in parallel during the generation\n",
    "  # 'HUGGING_FACE_HUB_TOKEN': \"<REPLACE WITH YOUR TOKEN>\"\n",
    "  # # ,'HF_MODEL_QUANTIZE': \"bitsandbytes\", # comment in to quantize\n",
    "}\n",
    "\n",
    "# # check if token is set\n",
    "# assert config['HUGGING_FACE_HUB_TOKEN'] != \"<REPLACE WITH YOUR TOKEN>\", \"Please set your Hugging Face Hub token\"\n",
    "\n",
    "# create HuggingFaceModel with the image uri\n",
    "llm_model = HuggingFaceModel(\n",
    "  role=ROLE,\n",
    "  image_uri=llm_image,\n",
    "  env=config\n",
    ")"
   ]
  },
  {
   "cell_type": "code",
   "execution_count": 8,
   "id": "4380940c-b65b-403e-aca1-ea9d8ebfff42",
   "metadata": {
    "tags": []
   },
   "outputs": [
    {
     "name": "stdout",
     "output_type": "stream",
     "text": [
      "----------------------------!"
     ]
    }
   ],
   "source": [
    "# Deploy model to an endpoint\n",
    "# https://sagemaker.readthedocs.io/en/stable/api/inference/model.html#sagemaker.model.Model.deploy\n",
    "llm = llm_model.deploy(\n",
    "  initial_instance_count=1,\n",
    "  instance_type=instance_type,\n",
    "  container_startup_health_check_timeout=health_check_timeout, # 10 minutes to be able to load the model\n",
    ")"
   ]
  },
  {
   "cell_type": "code",
   "execution_count": null,
   "id": "134ad9c2-0263-4998-b9d9-17d879c23b3c",
   "metadata": {},
   "outputs": [],
   "source": []
  },
  {
   "cell_type": "markdown",
   "id": "b40b3cf1-4dc7-43ed-9ba5-0eaac9fe796c",
   "metadata": {
    "tags": []
   },
   "source": [
    "## Install and import packages"
   ]
  },
  {
   "cell_type": "code",
   "execution_count": 10,
   "id": "b5e3941b-1713-495d-bf38-b5904afea381",
   "metadata": {
    "tags": []
   },
   "outputs": [
    {
     "name": "stdout",
     "output_type": "stream",
     "text": [
      "\u001b[33mWARNING: Running pip as the 'root' user can result in broken permissions and conflicting behaviour with the system package manager. It is recommended to use a virtual environment instead: https://pip.pypa.io/warnings/venv\u001b[0m\u001b[33m\n",
      "\u001b[0mNote: you may need to restart the kernel to use updated packages.\n",
      "\u001b[33mWARNING: Running pip as the 'root' user can result in broken permissions and conflicting behaviour with the system package manager. It is recommended to use a virtual environment instead: https://pip.pypa.io/warnings/venv\u001b[0m\u001b[33m\n",
      "\u001b[0mNote: you may need to restart the kernel to use updated packages.\n"
     ]
    }
   ],
   "source": [
    "%pip install --upgrade --quiet langchain\n",
    "%pip install --upgrade --quiet openai"
   ]
  },
  {
   "cell_type": "code",
   "execution_count": 11,
   "id": "8165dfa3-8599-415c-8a2f-b625136bcb1d",
   "metadata": {
    "tags": []
   },
   "outputs": [
    {
     "name": "stdout",
     "output_type": "stream",
     "text": [
      "\u001b[33mWARNING: Running pip as the 'root' user can result in broken permissions and conflicting behaviour with the system package manager. It is recommended to use a virtual environment instead: https://pip.pypa.io/warnings/venv\u001b[0m\u001b[33m\n",
      "\u001b[0mNote: you may need to restart the kernel to use updated packages.\n",
      "\u001b[31mERROR: pip's dependency resolver does not currently take into account all the packages that are installed. This behaviour is the source of the following dependency conflicts.\n",
      "spyder 5.3.3 requires pyqt5<5.16, which is not installed.\n",
      "spyder 5.3.3 requires pyqtwebengine<5.16, which is not installed.\n",
      "panel 0.13.1 requires bokeh<2.5.0,>=2.4.0, but you have bokeh 3.2.1 which is incompatible.\n",
      "spyder 5.3.3 requires ipython<8.0.0,>=7.31.1, but you have ipython 8.14.0 which is incompatible.\n",
      "spyder 5.3.3 requires pylint<3.0,>=2.5.0, but you have pylint 3.0.0a6 which is incompatible.\u001b[0m\u001b[31m\n",
      "\u001b[0m\u001b[33mWARNING: Running pip as the 'root' user can result in broken permissions and conflicting behaviour with the system package manager. It is recommended to use a virtual environment instead: https://pip.pypa.io/warnings/venv\u001b[0m\u001b[33m\n",
      "\u001b[0mNote: you may need to restart the kernel to use updated packages.\n"
     ]
    }
   ],
   "source": [
    "%pip uninstall --quiet typing_extensions --yes\n",
    "%pip install --upgrade --quiet typing_extensions"
   ]
  },
  {
   "cell_type": "code",
   "execution_count": 12,
   "id": "94888d39-5416-47f3-9cc8-e3455a218cbc",
   "metadata": {
    "tags": []
   },
   "outputs": [],
   "source": [
    "import openai\n",
    "import pandas as pd\n",
    "import time\n",
    "# from dotenv import load_dotenv\n",
    "from langchain.chat_models import ChatAnyscale, ChatOpenAI\n",
    "from langchain.schema import SystemMessage, HumanMessage\n",
    "import os\n",
    "# from multichoice import Multichoice\n",
    "from prompt_mgr import PromptMgr"
   ]
  },
  {
   "cell_type": "code",
   "execution_count": null,
   "id": "25b63553-4687-4ce5-9f60-b6e8e9992c85",
   "metadata": {},
   "outputs": [],
   "source": []
  },
  {
   "cell_type": "markdown",
   "id": "1aec9358-384d-441a-a8ae-e94d8565e0de",
   "metadata": {},
   "source": [
    "## Read input dataset and create prompt"
   ]
  },
  {
   "cell_type": "code",
   "execution_count": 13,
   "id": "9eaadef6-179e-4e4d-8768-cb3b583a331a",
   "metadata": {
    "tags": []
   },
   "outputs": [
    {
     "data": {
      "text/html": [
       "<div>\n",
       "<style scoped>\n",
       "    .dataframe tbody tr th:only-of-type {\n",
       "        vertical-align: middle;\n",
       "    }\n",
       "\n",
       "    .dataframe tbody tr th {\n",
       "        vertical-align: top;\n",
       "    }\n",
       "\n",
       "    .dataframe thead th {\n",
       "        text-align: right;\n",
       "    }\n",
       "</style>\n",
       "<table border=\"1\" class=\"dataframe\">\n",
       "  <thead>\n",
       "    <tr style=\"text-align: right;\">\n",
       "      <th></th>\n",
       "      <th>article_id</th>\n",
       "      <th>article_sent</th>\n",
       "      <th>correct_sent</th>\n",
       "      <th>correct_sent_id</th>\n",
       "      <th>incorrect_sent</th>\n",
       "      <th>incorrect_sent_id</th>\n",
       "    </tr>\n",
       "  </thead>\n",
       "  <tbody>\n",
       "    <tr>\n",
       "      <th>0</th>\n",
       "      <td>67c3b0a2da09ce32a83c098da1e0aff034e790d0</td>\n",
       "      <td>the abc have reported that those who receive c...</td>\n",
       "      <td>those who receive centrelink payments made up ...</td>\n",
       "      <td>84-0</td>\n",
       "      <td>the abc have reported that those who receive c...</td>\n",
       "      <td>40-0</td>\n",
       "    </tr>\n",
       "    <tr>\n",
       "      <th>1</th>\n",
       "      <td>7c4ae3beb354e0a9f11fa09f8fbb6613a50db5cc</td>\n",
       "      <td>five ambitious clubs are locked in a scramble ...</td>\n",
       "      <td>five ambitious clubs are locked in a scramble ...</td>\n",
       "      <td>44-1</td>\n",
       "      <td>five ambitious clubs are locked in a bid for t...</td>\n",
       "      <td>17-1</td>\n",
       "    </tr>\n",
       "    <tr>\n",
       "      <th>2</th>\n",
       "      <td>7e37b3e3623ae0ab6568e0e73584b16fae0cc00e</td>\n",
       "      <td>but it wasn't until last year that the 25 year...</td>\n",
       "      <td>the 25 year old from pennsylvania went on a le...</td>\n",
       "      <td>45-1</td>\n",
       "      <td>the 25 year old from pennsylvania went viral o...</td>\n",
       "      <td>4-1</td>\n",
       "    </tr>\n",
       "    <tr>\n",
       "      <th>3</th>\n",
       "      <td>cdbfba47929b459daf474a1a3dee37d2351729ea</td>\n",
       "      <td>seven games involving nimes were investigated ...</td>\n",
       "      <td>seven games involving nimes were investigated ...</td>\n",
       "      <td>93-2</td>\n",
       "      <td>seven games involving nimes were arrested last...</td>\n",
       "      <td>83-2</td>\n",
       "    </tr>\n",
       "    <tr>\n",
       "      <th>4</th>\n",
       "      <td>696ac804af5fcab8853c583f5c97e1eda6e2493a</td>\n",
       "      <td>the driver's side of the windscreen immediatel...</td>\n",
       "      <td>driver's side of the windscreen immediately sh...</td>\n",
       "      <td>61-2</td>\n",
       "      <td>driver's side were immediately shatters and fa...</td>\n",
       "      <td>42-2</td>\n",
       "    </tr>\n",
       "  </tbody>\n",
       "</table>\n",
       "</div>"
      ],
      "text/plain": [
       "                                 article_id  \\\n",
       "0  67c3b0a2da09ce32a83c098da1e0aff034e790d0   \n",
       "1  7c4ae3beb354e0a9f11fa09f8fbb6613a50db5cc   \n",
       "2  7e37b3e3623ae0ab6568e0e73584b16fae0cc00e   \n",
       "3  cdbfba47929b459daf474a1a3dee37d2351729ea   \n",
       "4  696ac804af5fcab8853c583f5c97e1eda6e2493a   \n",
       "\n",
       "                                        article_sent  \\\n",
       "0  the abc have reported that those who receive c...   \n",
       "1  five ambitious clubs are locked in a scramble ...   \n",
       "2  but it wasn't until last year that the 25 year...   \n",
       "3  seven games involving nimes were investigated ...   \n",
       "4  the driver's side of the windscreen immediatel...   \n",
       "\n",
       "                                        correct_sent correct_sent_id  \\\n",
       "0  those who receive centrelink payments made up ...            84-0   \n",
       "1  five ambitious clubs are locked in a scramble ...            44-1   \n",
       "2  the 25 year old from pennsylvania went on a le...            45-1   \n",
       "3  seven games involving nimes were investigated ...            93-2   \n",
       "4  driver's side of the windscreen immediately sh...            61-2   \n",
       "\n",
       "                                      incorrect_sent incorrect_sent_id  \n",
       "0  the abc have reported that those who receive c...              40-0  \n",
       "1  five ambitious clubs are locked in a bid for t...              17-1  \n",
       "2  the 25 year old from pennsylvania went viral o...               4-1  \n",
       "3  seven games involving nimes were arrested last...              83-2  \n",
       "4  driver's side were immediately shatters and fa...              42-2  "
      ]
     },
     "execution_count": 13,
     "metadata": {},
     "output_type": "execute_result"
    }
   ],
   "source": [
    "df = pd.read_json('resources/datasets/val_sentence_pairs.json')\n",
    "df.head()"
   ]
  },
  {
   "cell_type": "code",
   "execution_count": 14,
   "id": "111b9f48-d978-4a0b-9901-f841af5ac201",
   "metadata": {
    "tags": []
   },
   "outputs": [],
   "source": [
    "pm = PromptMgr(src_dir = 'resources/environments/answer_first/prompts')"
   ]
  },
  {
   "cell_type": "code",
   "execution_count": 33,
   "id": "fc74477c-9812-482d-a090-cf4a96005c29",
   "metadata": {
    "tags": []
   },
   "outputs": [],
   "source": [
    "def query_model(row, sm_model_predictor, prompt_mgr, swap_answers = False):\n",
    "    if swap_answers: \n",
    "        prompt = prompt_mgr.bind('consistent').render(\n",
    "                    article_sent=row['article_sent'], \n",
    "                    option_a=row['incorrect_sent'],\n",
    "                    option_b=row['correct_sent'])\n",
    "    else: \n",
    "        prompt = prompt_mgr.bind('consistent').render(\n",
    "                    article_sent=row['article_sent'], \n",
    "                    option_a=row['correct_sent'],\n",
    "                    option_b=row['incorrect_sent'])\n",
    "\n",
    "    system_prompt = prompt_mgr.bind('system').render()\n",
    "    \n",
    "    payload = {\n",
    "        \"inputs\": f\"### Instruction:\\n\\n{system_prompt}\\n{prompt}\\n\\n### Response:\"\n",
    "    }\n",
    "    \n",
    "    model_predictor = sm_model_predictor\n",
    "    \n",
    "    response = model_predictor.predict(payload)\n",
    "    \n",
    "    output = response\n",
    "    return {'output': output[0]['generated_text']} "
   ]
  },
  {
   "cell_type": "code",
   "execution_count": 39,
   "id": "7ae7f586-8d53-4ea8-bd6d-cbec19ae2cf2",
   "metadata": {
    "tags": []
   },
   "outputs": [],
   "source": [
    "# Create an empty list to store the results\n",
    "results_list = []\n",
    "\n",
    "# Iterate over each row in the DataFrame\n",
    "for i in range(len(df)):\n",
    "    result = query_model(df.loc[i], llm, pm, swap_answers=True)\n",
    "    results_list.append(result)\n",
    "\n",
    "# Create a new DataFrame from the results list\n",
    "results_df = pd.DataFrame(results_list)"
   ]
  },
  {
   "cell_type": "code",
   "execution_count": 40,
   "id": "eefa5bf2-da33-4f00-9a15-8d61e9b74c7e",
   "metadata": {
    "tags": []
   },
   "outputs": [
    {
     "data": {
      "text/plain": [
       "\"### Instruction:\\n\\nYou are an assistant that helps determine the factuality of statements. Being precise, factual and following the user's instructions is important for this task. \\nIt is acceptable to answer in incomplete sentences e.g. just say 'x' and not 'The correct answer is x'. \\n\\nDecide which of the following summary is more consistent with the article\\nsentence. \\n\\nNote that consistency means\\nall information in the summary is supported by the article.\\n\\nArticle Sentence: the abc have reported that those who receive centrelink payments made up half of radio rental's income last year.\\nSummary A: the abc have reported that those who receive centrelink payments made up radio rental's income last year.\\nSummary B: those who receive centrelink payments made up half of radio rental's income last year.\\n\\nAnswer (A or B):\\n\\n\\n### Response:\\nB\""
      ]
     },
     "execution_count": 40,
     "metadata": {},
     "output_type": "execute_result"
    }
   ],
   "source": [
    "results_df.loc[0]['output']"
   ]
  },
  {
   "cell_type": "code",
   "execution_count": 41,
   "id": "2105c1f5-ebdd-43a8-9738-9d9b23f77288",
   "metadata": {
    "tags": []
   },
   "outputs": [],
   "source": [
    "results_df.to_json('Platypus-70b-instruct-output-swapped.json')"
   ]
  },
  {
   "cell_type": "code",
   "execution_count": 42,
   "id": "7c9fd5ae-cf2b-4653-8626-316166fbf5da",
   "metadata": {
    "tags": []
   },
   "outputs": [],
   "source": [
    "# Create an empty list to store the results\n",
    "results_list_no_swap = []\n",
    "\n",
    "# Iterate over each row in the DataFrame\n",
    "for i in range(len(df)):\n",
    "    result = query_model(df.loc[i], llm, pm, swap_answers=False)\n",
    "    results_list_no_swap.append(result)\n",
    "\n",
    "# Create a new DataFrame from the results list\n",
    "results_df_no_swap = pd.DataFrame(results_list_no_swap)"
   ]
  },
  {
   "cell_type": "code",
   "execution_count": 43,
   "id": "b9114dbf-216e-42a1-9d78-cc202e040d0c",
   "metadata": {
    "tags": []
   },
   "outputs": [
    {
     "data": {
      "text/plain": [
       "\"### Instruction:\\n\\nYou are an assistant that helps determine the factuality of statements. Being precise, factual and following the user's instructions is important for this task. \\nIt is acceptable to answer in incomplete sentences e.g. just say 'x' and not 'The correct answer is x'. \\n\\nDecide which of the following summary is more consistent with the article\\nsentence. \\n\\nNote that consistency means\\nall information in the summary is supported by the article.\\n\\nArticle Sentence: the abc have reported that those who receive centrelink payments made up half of radio rental's income last year.\\nSummary A: those who receive centrelink payments made up half of radio rental's income last year.\\nSummary B: the abc have reported that those who receive centrelink payments made up radio rental's income last year.\\n\\nAnswer (A or B):\\n\\n\\n### Response:\\nA\""
      ]
     },
     "execution_count": 43,
     "metadata": {},
     "output_type": "execute_result"
    }
   ],
   "source": [
    "results_df_no_swap.loc[0]['output']"
   ]
  },
  {
   "cell_type": "code",
   "execution_count": 44,
   "id": "e3ce9429-1cc6-4ec2-a206-fc361a6bab45",
   "metadata": {
    "tags": []
   },
   "outputs": [],
   "source": [
    "results_df_no_swap.to_json('Platypus-70b-instruct-output-no-swap.json')"
   ]
  },
  {
   "cell_type": "code",
   "execution_count": null,
   "id": "2348dace-eaa1-4295-b911-d36ca10d4854",
   "metadata": {},
   "outputs": [],
   "source": []
  },
  {
   "cell_type": "markdown",
   "id": "501e78b0-99e0-490d-a56a-9da78aefe3ac",
   "metadata": {},
   "source": [
    "## Postprocessing and analysis"
   ]
  },
  {
   "cell_type": "code",
   "execution_count": 45,
   "id": "19da8fec-92f2-40f7-b86f-eb8a7f76b46c",
   "metadata": {
    "tags": []
   },
   "outputs": [
    {
     "data": {
      "text/html": [
       "<div>\n",
       "<style scoped>\n",
       "    .dataframe tbody tr th:only-of-type {\n",
       "        vertical-align: middle;\n",
       "    }\n",
       "\n",
       "    .dataframe tbody tr th {\n",
       "        vertical-align: top;\n",
       "    }\n",
       "\n",
       "    .dataframe thead th {\n",
       "        text-align: right;\n",
       "    }\n",
       "</style>\n",
       "<table border=\"1\" class=\"dataframe\">\n",
       "  <thead>\n",
       "    <tr style=\"text-align: right;\">\n",
       "      <th></th>\n",
       "      <th>article_id</th>\n",
       "      <th>article_sent</th>\n",
       "      <th>correct_sent</th>\n",
       "      <th>correct_sent_id</th>\n",
       "      <th>incorrect_sent</th>\n",
       "      <th>incorrect_sent_id</th>\n",
       "    </tr>\n",
       "  </thead>\n",
       "  <tbody>\n",
       "    <tr>\n",
       "      <th>0</th>\n",
       "      <td>67c3b0a2da09ce32a83c098da1e0aff034e790d0</td>\n",
       "      <td>the abc have reported that those who receive c...</td>\n",
       "      <td>those who receive centrelink payments made up ...</td>\n",
       "      <td>84-0</td>\n",
       "      <td>the abc have reported that those who receive c...</td>\n",
       "      <td>40-0</td>\n",
       "    </tr>\n",
       "    <tr>\n",
       "      <th>1</th>\n",
       "      <td>7c4ae3beb354e0a9f11fa09f8fbb6613a50db5cc</td>\n",
       "      <td>five ambitious clubs are locked in a scramble ...</td>\n",
       "      <td>five ambitious clubs are locked in a scramble ...</td>\n",
       "      <td>44-1</td>\n",
       "      <td>five ambitious clubs are locked in a bid for t...</td>\n",
       "      <td>17-1</td>\n",
       "    </tr>\n",
       "    <tr>\n",
       "      <th>2</th>\n",
       "      <td>7e37b3e3623ae0ab6568e0e73584b16fae0cc00e</td>\n",
       "      <td>but it wasn't until last year that the 25 year...</td>\n",
       "      <td>the 25 year old from pennsylvania went on a le...</td>\n",
       "      <td>45-1</td>\n",
       "      <td>the 25 year old from pennsylvania went viral o...</td>\n",
       "      <td>4-1</td>\n",
       "    </tr>\n",
       "    <tr>\n",
       "      <th>3</th>\n",
       "      <td>cdbfba47929b459daf474a1a3dee37d2351729ea</td>\n",
       "      <td>seven games involving nimes were investigated ...</td>\n",
       "      <td>seven games involving nimes were investigated ...</td>\n",
       "      <td>93-2</td>\n",
       "      <td>seven games involving nimes were arrested last...</td>\n",
       "      <td>83-2</td>\n",
       "    </tr>\n",
       "    <tr>\n",
       "      <th>4</th>\n",
       "      <td>696ac804af5fcab8853c583f5c97e1eda6e2493a</td>\n",
       "      <td>the driver's side of the windscreen immediatel...</td>\n",
       "      <td>driver's side of the windscreen immediately sh...</td>\n",
       "      <td>61-2</td>\n",
       "      <td>driver's side were immediately shatters and fa...</td>\n",
       "      <td>42-2</td>\n",
       "    </tr>\n",
       "  </tbody>\n",
       "</table>\n",
       "</div>"
      ],
      "text/plain": [
       "                                 article_id  \\\n",
       "0  67c3b0a2da09ce32a83c098da1e0aff034e790d0   \n",
       "1  7c4ae3beb354e0a9f11fa09f8fbb6613a50db5cc   \n",
       "2  7e37b3e3623ae0ab6568e0e73584b16fae0cc00e   \n",
       "3  cdbfba47929b459daf474a1a3dee37d2351729ea   \n",
       "4  696ac804af5fcab8853c583f5c97e1eda6e2493a   \n",
       "\n",
       "                                        article_sent  \\\n",
       "0  the abc have reported that those who receive c...   \n",
       "1  five ambitious clubs are locked in a scramble ...   \n",
       "2  but it wasn't until last year that the 25 year...   \n",
       "3  seven games involving nimes were investigated ...   \n",
       "4  the driver's side of the windscreen immediatel...   \n",
       "\n",
       "                                        correct_sent correct_sent_id  \\\n",
       "0  those who receive centrelink payments made up ...            84-0   \n",
       "1  five ambitious clubs are locked in a scramble ...            44-1   \n",
       "2  the 25 year old from pennsylvania went on a le...            45-1   \n",
       "3  seven games involving nimes were investigated ...            93-2   \n",
       "4  driver's side of the windscreen immediately sh...            61-2   \n",
       "\n",
       "                                      incorrect_sent incorrect_sent_id  \n",
       "0  the abc have reported that those who receive c...              40-0  \n",
       "1  five ambitious clubs are locked in a bid for t...              17-1  \n",
       "2  the 25 year old from pennsylvania went viral o...               4-1  \n",
       "3  seven games involving nimes were arrested last...              83-2  \n",
       "4  driver's side were immediately shatters and fa...              42-2  "
      ]
     },
     "execution_count": 45,
     "metadata": {},
     "output_type": "execute_result"
    }
   ],
   "source": [
    "df = pd.read_json('resources/datasets/val_sentence_pairs.json')\n",
    "df.head()"
   ]
  },
  {
   "cell_type": "code",
   "execution_count": 70,
   "id": "8e5c58a3-eda5-489e-a030-d6578f2ababa",
   "metadata": {
    "tags": []
   },
   "outputs": [],
   "source": [
    "input_df = df"
   ]
  },
  {
   "cell_type": "code",
   "execution_count": 71,
   "id": "234790fe-0f18-4e0d-a415-801358e006a1",
   "metadata": {
    "tags": []
   },
   "outputs": [],
   "source": [
    "Platypus_70b_instruct_swapped_df  = pd.read_json('Platypus-70b-instruct-output-swapped.json')\n",
    "Platypus_70b_instruct_no_swap_df  = pd.read_json('Platypus-70b-instruct-output-no-swap.json')"
   ]
  },
  {
   "cell_type": "code",
   "execution_count": 72,
   "id": "006c9acf-f8da-4a45-b7bb-0279f78a0f0f",
   "metadata": {
    "tags": []
   },
   "outputs": [],
   "source": [
    "Platypus_70b_instruct_swapped_df.rename(columns={'output': 'Platypus_70b_instruct_swapped_output'}, inplace=True)\n",
    "Platypus_70b_instruct_no_swap_df.rename(columns={'output': 'Platypus_70b_instruct_no_swap_output'}, inplace=True)"
   ]
  },
  {
   "cell_type": "code",
   "execution_count": 73,
   "id": "fbd94d91-172c-4964-9668-d1b70b72d65b",
   "metadata": {
    "tags": []
   },
   "outputs": [],
   "source": [
    "combined_df = pd.concat([input_df, \n",
    "                         Platypus_70b_instruct_swapped_df, \n",
    "                         Platypus_70b_instruct_no_swap_df,], axis=1)"
   ]
  },
  {
   "cell_type": "code",
   "execution_count": 74,
   "id": "81e47457-2e1a-49a0-aaba-8b37d6d8bcd5",
   "metadata": {
    "tags": []
   },
   "outputs": [
    {
     "data": {
      "text/html": [
       "<div>\n",
       "<style scoped>\n",
       "    .dataframe tbody tr th:only-of-type {\n",
       "        vertical-align: middle;\n",
       "    }\n",
       "\n",
       "    .dataframe tbody tr th {\n",
       "        vertical-align: top;\n",
       "    }\n",
       "\n",
       "    .dataframe thead th {\n",
       "        text-align: right;\n",
       "    }\n",
       "</style>\n",
       "<table border=\"1\" class=\"dataframe\">\n",
       "  <thead>\n",
       "    <tr style=\"text-align: right;\">\n",
       "      <th></th>\n",
       "      <th>article_id</th>\n",
       "      <th>article_sent</th>\n",
       "      <th>correct_sent</th>\n",
       "      <th>correct_sent_id</th>\n",
       "      <th>incorrect_sent</th>\n",
       "      <th>incorrect_sent_id</th>\n",
       "      <th>Platypus_70b_instruct_swapped_output</th>\n",
       "      <th>Platypus_70b_instruct_no_swap_output</th>\n",
       "    </tr>\n",
       "  </thead>\n",
       "  <tbody>\n",
       "    <tr>\n",
       "      <th>0</th>\n",
       "      <td>67c3b0a2da09ce32a83c098da1e0aff034e790d0</td>\n",
       "      <td>the abc have reported that those who receive c...</td>\n",
       "      <td>those who receive centrelink payments made up ...</td>\n",
       "      <td>84-0</td>\n",
       "      <td>the abc have reported that those who receive c...</td>\n",
       "      <td>40-0</td>\n",
       "      <td>### Instruction:\\n\\nYou are an assistant that ...</td>\n",
       "      <td>### Instruction:\\n\\nYou are an assistant that ...</td>\n",
       "    </tr>\n",
       "    <tr>\n",
       "      <th>1</th>\n",
       "      <td>7c4ae3beb354e0a9f11fa09f8fbb6613a50db5cc</td>\n",
       "      <td>five ambitious clubs are locked in a scramble ...</td>\n",
       "      <td>five ambitious clubs are locked in a scramble ...</td>\n",
       "      <td>44-1</td>\n",
       "      <td>five ambitious clubs are locked in a bid for t...</td>\n",
       "      <td>17-1</td>\n",
       "      <td>### Instruction:\\n\\nYou are an assistant that ...</td>\n",
       "      <td>### Instruction:\\n\\nYou are an assistant that ...</td>\n",
       "    </tr>\n",
       "    <tr>\n",
       "      <th>2</th>\n",
       "      <td>7e37b3e3623ae0ab6568e0e73584b16fae0cc00e</td>\n",
       "      <td>but it wasn't until last year that the 25 year...</td>\n",
       "      <td>the 25 year old from pennsylvania went on a le...</td>\n",
       "      <td>45-1</td>\n",
       "      <td>the 25 year old from pennsylvania went viral o...</td>\n",
       "      <td>4-1</td>\n",
       "      <td>### Instruction:\\n\\nYou are an assistant that ...</td>\n",
       "      <td>### Instruction:\\n\\nYou are an assistant that ...</td>\n",
       "    </tr>\n",
       "    <tr>\n",
       "      <th>3</th>\n",
       "      <td>cdbfba47929b459daf474a1a3dee37d2351729ea</td>\n",
       "      <td>seven games involving nimes were investigated ...</td>\n",
       "      <td>seven games involving nimes were investigated ...</td>\n",
       "      <td>93-2</td>\n",
       "      <td>seven games involving nimes were arrested last...</td>\n",
       "      <td>83-2</td>\n",
       "      <td>### Instruction:\\n\\nYou are an assistant that ...</td>\n",
       "      <td>### Instruction:\\n\\nYou are an assistant that ...</td>\n",
       "    </tr>\n",
       "    <tr>\n",
       "      <th>4</th>\n",
       "      <td>696ac804af5fcab8853c583f5c97e1eda6e2493a</td>\n",
       "      <td>the driver's side of the windscreen immediatel...</td>\n",
       "      <td>driver's side of the windscreen immediately sh...</td>\n",
       "      <td>61-2</td>\n",
       "      <td>driver's side were immediately shatters and fa...</td>\n",
       "      <td>42-2</td>\n",
       "      <td>### Instruction:\\n\\nYou are an assistant that ...</td>\n",
       "      <td>### Instruction:\\n\\nYou are an assistant that ...</td>\n",
       "    </tr>\n",
       "  </tbody>\n",
       "</table>\n",
       "</div>"
      ],
      "text/plain": [
       "                                 article_id  \\\n",
       "0  67c3b0a2da09ce32a83c098da1e0aff034e790d0   \n",
       "1  7c4ae3beb354e0a9f11fa09f8fbb6613a50db5cc   \n",
       "2  7e37b3e3623ae0ab6568e0e73584b16fae0cc00e   \n",
       "3  cdbfba47929b459daf474a1a3dee37d2351729ea   \n",
       "4  696ac804af5fcab8853c583f5c97e1eda6e2493a   \n",
       "\n",
       "                                        article_sent  \\\n",
       "0  the abc have reported that those who receive c...   \n",
       "1  five ambitious clubs are locked in a scramble ...   \n",
       "2  but it wasn't until last year that the 25 year...   \n",
       "3  seven games involving nimes were investigated ...   \n",
       "4  the driver's side of the windscreen immediatel...   \n",
       "\n",
       "                                        correct_sent correct_sent_id  \\\n",
       "0  those who receive centrelink payments made up ...            84-0   \n",
       "1  five ambitious clubs are locked in a scramble ...            44-1   \n",
       "2  the 25 year old from pennsylvania went on a le...            45-1   \n",
       "3  seven games involving nimes were investigated ...            93-2   \n",
       "4  driver's side of the windscreen immediately sh...            61-2   \n",
       "\n",
       "                                      incorrect_sent incorrect_sent_id  \\\n",
       "0  the abc have reported that those who receive c...              40-0   \n",
       "1  five ambitious clubs are locked in a bid for t...              17-1   \n",
       "2  the 25 year old from pennsylvania went viral o...               4-1   \n",
       "3  seven games involving nimes were arrested last...              83-2   \n",
       "4  driver's side were immediately shatters and fa...              42-2   \n",
       "\n",
       "                Platypus_70b_instruct_swapped_output  \\\n",
       "0  ### Instruction:\\n\\nYou are an assistant that ...   \n",
       "1  ### Instruction:\\n\\nYou are an assistant that ...   \n",
       "2  ### Instruction:\\n\\nYou are an assistant that ...   \n",
       "3  ### Instruction:\\n\\nYou are an assistant that ...   \n",
       "4  ### Instruction:\\n\\nYou are an assistant that ...   \n",
       "\n",
       "                Platypus_70b_instruct_no_swap_output  \n",
       "0  ### Instruction:\\n\\nYou are an assistant that ...  \n",
       "1  ### Instruction:\\n\\nYou are an assistant that ...  \n",
       "2  ### Instruction:\\n\\nYou are an assistant that ...  \n",
       "3  ### Instruction:\\n\\nYou are an assistant that ...  \n",
       "4  ### Instruction:\\n\\nYou are an assistant that ...  "
      ]
     },
     "execution_count": 74,
     "metadata": {},
     "output_type": "execute_result"
    }
   ],
   "source": [
    "combined_df.head()"
   ]
  },
  {
   "cell_type": "code",
   "execution_count": 75,
   "id": "a7effea0-947d-45c3-b1a3-0ab95d7e12fe",
   "metadata": {
    "tags": []
   },
   "outputs": [],
   "source": [
    "def extract_last_word(input_string):\n",
    "    # Split the string into words\n",
    "    words = input_string.split()\n",
    "\n",
    "    # Check if there are words in the string\n",
    "    if len(words) > 0:\n",
    "        # Get the last word\n",
    "        last_word = words[-1]\n",
    "        return last_word\n",
    "    else:\n",
    "        # Return an empty string if there are no words\n",
    "        return \"\""
   ]
  },
  {
   "cell_type": "code",
   "execution_count": 76,
   "id": "ec61d513-0f18-480e-83e6-b850f1a1f69c",
   "metadata": {
    "tags": []
   },
   "outputs": [],
   "source": [
    "combined_df['Platypus_70b_instruct_swapped_output_extracted'] = combined_df['Platypus_70b_instruct_swapped_output'].apply(extract_last_word)\n",
    "combined_df['Platypus_70b_instruct_no_swap_output_extracted'] = combined_df['Platypus_70b_instruct_no_swap_output'].apply(extract_last_word)"
   ]
  },
  {
   "cell_type": "code",
   "execution_count": 77,
   "id": "add3534f-0716-4e32-bf58-d0190d7e1708",
   "metadata": {
    "tags": []
   },
   "outputs": [
    {
     "data": {
      "text/html": [
       "<div>\n",
       "<style scoped>\n",
       "    .dataframe tbody tr th:only-of-type {\n",
       "        vertical-align: middle;\n",
       "    }\n",
       "\n",
       "    .dataframe tbody tr th {\n",
       "        vertical-align: top;\n",
       "    }\n",
       "\n",
       "    .dataframe thead th {\n",
       "        text-align: right;\n",
       "    }\n",
       "</style>\n",
       "<table border=\"1\" class=\"dataframe\">\n",
       "  <thead>\n",
       "    <tr style=\"text-align: right;\">\n",
       "      <th></th>\n",
       "      <th>article_id</th>\n",
       "      <th>article_sent</th>\n",
       "      <th>correct_sent</th>\n",
       "      <th>correct_sent_id</th>\n",
       "      <th>incorrect_sent</th>\n",
       "      <th>incorrect_sent_id</th>\n",
       "      <th>Platypus_70b_instruct_swapped_output</th>\n",
       "      <th>Platypus_70b_instruct_no_swap_output</th>\n",
       "      <th>Platypus_70b_instruct_swapped_output_extracted</th>\n",
       "      <th>Platypus_70b_instruct_no_swap_output_extracted</th>\n",
       "    </tr>\n",
       "  </thead>\n",
       "  <tbody>\n",
       "    <tr>\n",
       "      <th>0</th>\n",
       "      <td>67c3b0a2da09ce32a83c098da1e0aff034e790d0</td>\n",
       "      <td>the abc have reported that those who receive c...</td>\n",
       "      <td>those who receive centrelink payments made up ...</td>\n",
       "      <td>84-0</td>\n",
       "      <td>the abc have reported that those who receive c...</td>\n",
       "      <td>40-0</td>\n",
       "      <td>### Instruction:\\n\\nYou are an assistant that ...</td>\n",
       "      <td>### Instruction:\\n\\nYou are an assistant that ...</td>\n",
       "      <td>B</td>\n",
       "      <td>A</td>\n",
       "    </tr>\n",
       "    <tr>\n",
       "      <th>1</th>\n",
       "      <td>7c4ae3beb354e0a9f11fa09f8fbb6613a50db5cc</td>\n",
       "      <td>five ambitious clubs are locked in a scramble ...</td>\n",
       "      <td>five ambitious clubs are locked in a scramble ...</td>\n",
       "      <td>44-1</td>\n",
       "      <td>five ambitious clubs are locked in a bid for t...</td>\n",
       "      <td>17-1</td>\n",
       "      <td>### Instruction:\\n\\nYou are an assistant that ...</td>\n",
       "      <td>### Instruction:\\n\\nYou are an assistant that ...</td>\n",
       "      <td>B</td>\n",
       "      <td>A</td>\n",
       "    </tr>\n",
       "    <tr>\n",
       "      <th>2</th>\n",
       "      <td>7e37b3e3623ae0ab6568e0e73584b16fae0cc00e</td>\n",
       "      <td>but it wasn't until last year that the 25 year...</td>\n",
       "      <td>the 25 year old from pennsylvania went on a le...</td>\n",
       "      <td>45-1</td>\n",
       "      <td>the 25 year old from pennsylvania went viral o...</td>\n",
       "      <td>4-1</td>\n",
       "      <td>### Instruction:\\n\\nYou are an assistant that ...</td>\n",
       "      <td>### Instruction:\\n\\nYou are an assistant that ...</td>\n",
       "      <td>B</td>\n",
       "      <td>A</td>\n",
       "    </tr>\n",
       "    <tr>\n",
       "      <th>3</th>\n",
       "      <td>cdbfba47929b459daf474a1a3dee37d2351729ea</td>\n",
       "      <td>seven games involving nimes were investigated ...</td>\n",
       "      <td>seven games involving nimes were investigated ...</td>\n",
       "      <td>93-2</td>\n",
       "      <td>seven games involving nimes were arrested last...</td>\n",
       "      <td>83-2</td>\n",
       "      <td>### Instruction:\\n\\nYou are an assistant that ...</td>\n",
       "      <td>### Instruction:\\n\\nYou are an assistant that ...</td>\n",
       "      <td>B</td>\n",
       "      <td>A</td>\n",
       "    </tr>\n",
       "    <tr>\n",
       "      <th>4</th>\n",
       "      <td>696ac804af5fcab8853c583f5c97e1eda6e2493a</td>\n",
       "      <td>the driver's side of the windscreen immediatel...</td>\n",
       "      <td>driver's side of the windscreen immediately sh...</td>\n",
       "      <td>61-2</td>\n",
       "      <td>driver's side were immediately shatters and fa...</td>\n",
       "      <td>42-2</td>\n",
       "      <td>### Instruction:\\n\\nYou are an assistant that ...</td>\n",
       "      <td>### Instruction:\\n\\nYou are an assistant that ...</td>\n",
       "      <td>B</td>\n",
       "      <td>A</td>\n",
       "    </tr>\n",
       "  </tbody>\n",
       "</table>\n",
       "</div>"
      ],
      "text/plain": [
       "                                 article_id  \\\n",
       "0  67c3b0a2da09ce32a83c098da1e0aff034e790d0   \n",
       "1  7c4ae3beb354e0a9f11fa09f8fbb6613a50db5cc   \n",
       "2  7e37b3e3623ae0ab6568e0e73584b16fae0cc00e   \n",
       "3  cdbfba47929b459daf474a1a3dee37d2351729ea   \n",
       "4  696ac804af5fcab8853c583f5c97e1eda6e2493a   \n",
       "\n",
       "                                        article_sent  \\\n",
       "0  the abc have reported that those who receive c...   \n",
       "1  five ambitious clubs are locked in a scramble ...   \n",
       "2  but it wasn't until last year that the 25 year...   \n",
       "3  seven games involving nimes were investigated ...   \n",
       "4  the driver's side of the windscreen immediatel...   \n",
       "\n",
       "                                        correct_sent correct_sent_id  \\\n",
       "0  those who receive centrelink payments made up ...            84-0   \n",
       "1  five ambitious clubs are locked in a scramble ...            44-1   \n",
       "2  the 25 year old from pennsylvania went on a le...            45-1   \n",
       "3  seven games involving nimes were investigated ...            93-2   \n",
       "4  driver's side of the windscreen immediately sh...            61-2   \n",
       "\n",
       "                                      incorrect_sent incorrect_sent_id  \\\n",
       "0  the abc have reported that those who receive c...              40-0   \n",
       "1  five ambitious clubs are locked in a bid for t...              17-1   \n",
       "2  the 25 year old from pennsylvania went viral o...               4-1   \n",
       "3  seven games involving nimes were arrested last...              83-2   \n",
       "4  driver's side were immediately shatters and fa...              42-2   \n",
       "\n",
       "                Platypus_70b_instruct_swapped_output  \\\n",
       "0  ### Instruction:\\n\\nYou are an assistant that ...   \n",
       "1  ### Instruction:\\n\\nYou are an assistant that ...   \n",
       "2  ### Instruction:\\n\\nYou are an assistant that ...   \n",
       "3  ### Instruction:\\n\\nYou are an assistant that ...   \n",
       "4  ### Instruction:\\n\\nYou are an assistant that ...   \n",
       "\n",
       "                Platypus_70b_instruct_no_swap_output  \\\n",
       "0  ### Instruction:\\n\\nYou are an assistant that ...   \n",
       "1  ### Instruction:\\n\\nYou are an assistant that ...   \n",
       "2  ### Instruction:\\n\\nYou are an assistant that ...   \n",
       "3  ### Instruction:\\n\\nYou are an assistant that ...   \n",
       "4  ### Instruction:\\n\\nYou are an assistant that ...   \n",
       "\n",
       "  Platypus_70b_instruct_swapped_output_extracted  \\\n",
       "0                                              B   \n",
       "1                                              B   \n",
       "2                                              B   \n",
       "3                                              B   \n",
       "4                                              B   \n",
       "\n",
       "  Platypus_70b_instruct_no_swap_output_extracted  \n",
       "0                                              A  \n",
       "1                                              A  \n",
       "2                                              A  \n",
       "3                                              A  \n",
       "4                                              A  "
      ]
     },
     "execution_count": 77,
     "metadata": {},
     "output_type": "execute_result"
    }
   ],
   "source": [
    "combined_df.head()"
   ]
  },
  {
   "cell_type": "code",
   "execution_count": 79,
   "id": "66fdb356-0c8a-49d4-bad0-0e5e0f9050e5",
   "metadata": {
    "tags": []
   },
   "outputs": [],
   "source": [
    "def is_correct(row): \n",
    "    if (row[0] == 'B' and row[1] == 'A'):\n",
    "        return 'Y'\n",
    "    if (row[0] == 'A' and row[1] == 'A'):\n",
    "        return 'AA'\n",
    "    if (row[0] == 'B' and row[1] == 'B'):\n",
    "        return 'BB'\n",
    "    if (row[0] == 'A' and row[1] == 'B'):\n",
    "        return 'N'\n",
    "    return 'No answer'"
   ]
  },
  {
   "cell_type": "code",
   "execution_count": 80,
   "id": "6186938a-bb70-464d-8c28-ef5ae6fddf51",
   "metadata": {
    "tags": []
   },
   "outputs": [],
   "source": [
    "combined_df['Platypus_70b_instruct_analysis_result'] = combined_df[['Platypus_70b_instruct_swapped_output_extracted', 'Platypus_70b_instruct_no_swap_output_extracted']].apply(is_correct, axis=1)"
   ]
  },
  {
   "cell_type": "code",
   "execution_count": 81,
   "id": "3e06f74e-0341-4e88-b478-e3c5e950bff0",
   "metadata": {
    "tags": []
   },
   "outputs": [
    {
     "data": {
      "text/html": [
       "<div>\n",
       "<style scoped>\n",
       "    .dataframe tbody tr th:only-of-type {\n",
       "        vertical-align: middle;\n",
       "    }\n",
       "\n",
       "    .dataframe tbody tr th {\n",
       "        vertical-align: top;\n",
       "    }\n",
       "\n",
       "    .dataframe thead th {\n",
       "        text-align: right;\n",
       "    }\n",
       "</style>\n",
       "<table border=\"1\" class=\"dataframe\">\n",
       "  <thead>\n",
       "    <tr style=\"text-align: right;\">\n",
       "      <th></th>\n",
       "      <th>article_id</th>\n",
       "      <th>article_sent</th>\n",
       "      <th>correct_sent</th>\n",
       "      <th>correct_sent_id</th>\n",
       "      <th>incorrect_sent</th>\n",
       "      <th>incorrect_sent_id</th>\n",
       "      <th>Platypus_70b_instruct_swapped_output</th>\n",
       "      <th>Platypus_70b_instruct_no_swap_output</th>\n",
       "      <th>Platypus_70b_instruct_swapped_output_extracted</th>\n",
       "      <th>Platypus_70b_instruct_no_swap_output_extracted</th>\n",
       "      <th>Platypus_70b_instruct_analysis_result</th>\n",
       "    </tr>\n",
       "  </thead>\n",
       "  <tbody>\n",
       "    <tr>\n",
       "      <th>0</th>\n",
       "      <td>67c3b0a2da09ce32a83c098da1e0aff034e790d0</td>\n",
       "      <td>the abc have reported that those who receive c...</td>\n",
       "      <td>those who receive centrelink payments made up ...</td>\n",
       "      <td>84-0</td>\n",
       "      <td>the abc have reported that those who receive c...</td>\n",
       "      <td>40-0</td>\n",
       "      <td>### Instruction:\\n\\nYou are an assistant that ...</td>\n",
       "      <td>### Instruction:\\n\\nYou are an assistant that ...</td>\n",
       "      <td>B</td>\n",
       "      <td>A</td>\n",
       "      <td>Y</td>\n",
       "    </tr>\n",
       "    <tr>\n",
       "      <th>1</th>\n",
       "      <td>7c4ae3beb354e0a9f11fa09f8fbb6613a50db5cc</td>\n",
       "      <td>five ambitious clubs are locked in a scramble ...</td>\n",
       "      <td>five ambitious clubs are locked in a scramble ...</td>\n",
       "      <td>44-1</td>\n",
       "      <td>five ambitious clubs are locked in a bid for t...</td>\n",
       "      <td>17-1</td>\n",
       "      <td>### Instruction:\\n\\nYou are an assistant that ...</td>\n",
       "      <td>### Instruction:\\n\\nYou are an assistant that ...</td>\n",
       "      <td>B</td>\n",
       "      <td>A</td>\n",
       "      <td>Y</td>\n",
       "    </tr>\n",
       "    <tr>\n",
       "      <th>2</th>\n",
       "      <td>7e37b3e3623ae0ab6568e0e73584b16fae0cc00e</td>\n",
       "      <td>but it wasn't until last year that the 25 year...</td>\n",
       "      <td>the 25 year old from pennsylvania went on a le...</td>\n",
       "      <td>45-1</td>\n",
       "      <td>the 25 year old from pennsylvania went viral o...</td>\n",
       "      <td>4-1</td>\n",
       "      <td>### Instruction:\\n\\nYou are an assistant that ...</td>\n",
       "      <td>### Instruction:\\n\\nYou are an assistant that ...</td>\n",
       "      <td>B</td>\n",
       "      <td>A</td>\n",
       "      <td>Y</td>\n",
       "    </tr>\n",
       "    <tr>\n",
       "      <th>3</th>\n",
       "      <td>cdbfba47929b459daf474a1a3dee37d2351729ea</td>\n",
       "      <td>seven games involving nimes were investigated ...</td>\n",
       "      <td>seven games involving nimes were investigated ...</td>\n",
       "      <td>93-2</td>\n",
       "      <td>seven games involving nimes were arrested last...</td>\n",
       "      <td>83-2</td>\n",
       "      <td>### Instruction:\\n\\nYou are an assistant that ...</td>\n",
       "      <td>### Instruction:\\n\\nYou are an assistant that ...</td>\n",
       "      <td>B</td>\n",
       "      <td>A</td>\n",
       "      <td>Y</td>\n",
       "    </tr>\n",
       "    <tr>\n",
       "      <th>4</th>\n",
       "      <td>696ac804af5fcab8853c583f5c97e1eda6e2493a</td>\n",
       "      <td>the driver's side of the windscreen immediatel...</td>\n",
       "      <td>driver's side of the windscreen immediately sh...</td>\n",
       "      <td>61-2</td>\n",
       "      <td>driver's side were immediately shatters and fa...</td>\n",
       "      <td>42-2</td>\n",
       "      <td>### Instruction:\\n\\nYou are an assistant that ...</td>\n",
       "      <td>### Instruction:\\n\\nYou are an assistant that ...</td>\n",
       "      <td>B</td>\n",
       "      <td>A</td>\n",
       "      <td>Y</td>\n",
       "    </tr>\n",
       "  </tbody>\n",
       "</table>\n",
       "</div>"
      ],
      "text/plain": [
       "                                 article_id  \\\n",
       "0  67c3b0a2da09ce32a83c098da1e0aff034e790d0   \n",
       "1  7c4ae3beb354e0a9f11fa09f8fbb6613a50db5cc   \n",
       "2  7e37b3e3623ae0ab6568e0e73584b16fae0cc00e   \n",
       "3  cdbfba47929b459daf474a1a3dee37d2351729ea   \n",
       "4  696ac804af5fcab8853c583f5c97e1eda6e2493a   \n",
       "\n",
       "                                        article_sent  \\\n",
       "0  the abc have reported that those who receive c...   \n",
       "1  five ambitious clubs are locked in a scramble ...   \n",
       "2  but it wasn't until last year that the 25 year...   \n",
       "3  seven games involving nimes were investigated ...   \n",
       "4  the driver's side of the windscreen immediatel...   \n",
       "\n",
       "                                        correct_sent correct_sent_id  \\\n",
       "0  those who receive centrelink payments made up ...            84-0   \n",
       "1  five ambitious clubs are locked in a scramble ...            44-1   \n",
       "2  the 25 year old from pennsylvania went on a le...            45-1   \n",
       "3  seven games involving nimes were investigated ...            93-2   \n",
       "4  driver's side of the windscreen immediately sh...            61-2   \n",
       "\n",
       "                                      incorrect_sent incorrect_sent_id  \\\n",
       "0  the abc have reported that those who receive c...              40-0   \n",
       "1  five ambitious clubs are locked in a bid for t...              17-1   \n",
       "2  the 25 year old from pennsylvania went viral o...               4-1   \n",
       "3  seven games involving nimes were arrested last...              83-2   \n",
       "4  driver's side were immediately shatters and fa...              42-2   \n",
       "\n",
       "                Platypus_70b_instruct_swapped_output  \\\n",
       "0  ### Instruction:\\n\\nYou are an assistant that ...   \n",
       "1  ### Instruction:\\n\\nYou are an assistant that ...   \n",
       "2  ### Instruction:\\n\\nYou are an assistant that ...   \n",
       "3  ### Instruction:\\n\\nYou are an assistant that ...   \n",
       "4  ### Instruction:\\n\\nYou are an assistant that ...   \n",
       "\n",
       "                Platypus_70b_instruct_no_swap_output  \\\n",
       "0  ### Instruction:\\n\\nYou are an assistant that ...   \n",
       "1  ### Instruction:\\n\\nYou are an assistant that ...   \n",
       "2  ### Instruction:\\n\\nYou are an assistant that ...   \n",
       "3  ### Instruction:\\n\\nYou are an assistant that ...   \n",
       "4  ### Instruction:\\n\\nYou are an assistant that ...   \n",
       "\n",
       "  Platypus_70b_instruct_swapped_output_extracted  \\\n",
       "0                                              B   \n",
       "1                                              B   \n",
       "2                                              B   \n",
       "3                                              B   \n",
       "4                                              B   \n",
       "\n",
       "  Platypus_70b_instruct_no_swap_output_extracted  \\\n",
       "0                                              A   \n",
       "1                                              A   \n",
       "2                                              A   \n",
       "3                                              A   \n",
       "4                                              A   \n",
       "\n",
       "  Platypus_70b_instruct_analysis_result  \n",
       "0                                     Y  \n",
       "1                                     Y  \n",
       "2                                     Y  \n",
       "3                                     Y  \n",
       "4                                     Y  "
      ]
     },
     "execution_count": 81,
     "metadata": {},
     "output_type": "execute_result"
    }
   ],
   "source": [
    "combined_df.head()"
   ]
  },
  {
   "cell_type": "code",
   "execution_count": 88,
   "id": "cefc3c77-8826-4d85-ada3-a1d711accd22",
   "metadata": {
    "tags": []
   },
   "outputs": [],
   "source": [
    "def acc_bias(col):\n",
    "    results = combined_df[col].value_counts()/len(combined_df)\n",
    "    acc = results['Y']\n",
    "    in_acc = results['N']\n",
    "    if 'AA' not in results:\n",
    "        results['AA'] = 0\n",
    "    if 'BB' not in results: \n",
    "        results['BB'] = 0\n",
    "        \n",
    "    bias = abs(results['AA'] - results['BB'])\n",
    "    aa_ratio = results['AA'] * 100\n",
    "    bb_ratio = results['BB'] * 100\n",
    "    if results['AA'] > results['BB']:\n",
    "        towards = 'A'\n",
    "    else:\n",
    "        towards = 'B'\n",
    "        \n",
    "    return acc, in_acc, aa_ratio, bb_ratio, bias, towards"
   ]
  },
  {
   "cell_type": "code",
   "execution_count": 87,
   "id": "41304c6e-c36d-44ac-abad-070ffd2b1589",
   "metadata": {
    "tags": []
   },
   "outputs": [
    {
     "ename": "ValueError",
     "evalue": "too many values to unpack (expected 6)",
     "output_type": "error",
     "traceback": [
      "\u001b[0;31m---------------------------------------------------------------------------\u001b[0m",
      "\u001b[0;31mValueError\u001b[0m                                Traceback (most recent call last)",
      "Cell \u001b[0;32mIn[87], line 2\u001b[0m\n\u001b[1;32m      1\u001b[0m \u001b[38;5;28;01mfor\u001b[39;00m m \u001b[38;5;129;01min\u001b[39;00m [\u001b[38;5;124m'\u001b[39m\u001b[38;5;124mPlatypus_70b_instruct\u001b[39m\u001b[38;5;124m'\u001b[39m,]:\n\u001b[0;32m----> 2\u001b[0m     acc, in_acc, aa_ratio, bb_ratio, bias, towards \u001b[38;5;241m=\u001b[39m acc_bias(m\u001b[38;5;241m+\u001b[39m\u001b[38;5;124m'\u001b[39m\u001b[38;5;124m_analysis_result\u001b[39m\u001b[38;5;124m'\u001b[39m)\n\u001b[1;32m      3\u001b[0m     acc \u001b[38;5;241m=\u001b[39m acc\u001b[38;5;241m*\u001b[39m\u001b[38;5;241m100\u001b[39m\n\u001b[1;32m      4\u001b[0m     in_acc \u001b[38;5;241m=\u001b[39m in_acc\u001b[38;5;241m*\u001b[39m\u001b[38;5;241m100\u001b[39m\n",
      "\u001b[0;31mValueError\u001b[0m: too many values to unpack (expected 6)"
     ]
    }
   ],
   "source": [
    "for m in ['Platypus_70b_instruct',]:\n",
    "    acc, in_acc, aa_ratio, bb_ratio, bias, towards = acc_bias(m+'_analysis_result')\n",
    "    acc = acc*100\n",
    "    in_acc = in_acc*100\n",
    "    bias = bias*100\n",
    "    print(f'{m}:   \\tAccuracy: {acc:.1f}%     \\tInaccuracy: {in_acc:.1f}%     \\tAA: {aa_ratio:.1f}%\\tBB: {bb_ratio:.1f}%\\tBias: {bias:.1f}% towards {towards}')"
   ]
  },
  {
   "cell_type": "code",
   "execution_count": null,
   "id": "8285c295-8a5c-402f-a1f1-4799b55418d1",
   "metadata": {},
   "outputs": [],
   "source": []
  },
  {
   "cell_type": "markdown",
   "id": "bd89593c-60d9-4f41-834e-d01cae779872",
   "metadata": {
    "tags": []
   },
   "source": [
    "## Cleanup"
   ]
  },
  {
   "cell_type": "code",
   "execution_count": 69,
   "id": "4a01f68e-635c-4f2d-a31d-0a5e74cd9d52",
   "metadata": {
    "tags": []
   },
   "outputs": [],
   "source": [
    "llm.delete_model()\n",
    "llm.delete_endpoint()"
   ]
  },
  {
   "cell_type": "code",
   "execution_count": null,
   "id": "9d1bdf65-031b-4d37-9e2c-d6a382e82cb3",
   "metadata": {},
   "outputs": [],
   "source": []
  }
 ],
 "metadata": {
  "availableInstances": [
   {
    "_defaultOrder": 0,
    "_isFastLaunch": true,
    "category": "General purpose",
    "gpuNum": 0,
    "hideHardwareSpecs": false,
    "memoryGiB": 4,
    "name": "ml.t3.medium",
    "vcpuNum": 2
   },
   {
    "_defaultOrder": 1,
    "_isFastLaunch": false,
    "category": "General purpose",
    "gpuNum": 0,
    "hideHardwareSpecs": false,
    "memoryGiB": 8,
    "name": "ml.t3.large",
    "vcpuNum": 2
   },
   {
    "_defaultOrder": 2,
    "_isFastLaunch": false,
    "category": "General purpose",
    "gpuNum": 0,
    "hideHardwareSpecs": false,
    "memoryGiB": 16,
    "name": "ml.t3.xlarge",
    "vcpuNum": 4
   },
   {
    "_defaultOrder": 3,
    "_isFastLaunch": false,
    "category": "General purpose",
    "gpuNum": 0,
    "hideHardwareSpecs": false,
    "memoryGiB": 32,
    "name": "ml.t3.2xlarge",
    "vcpuNum": 8
   },
   {
    "_defaultOrder": 4,
    "_isFastLaunch": true,
    "category": "General purpose",
    "gpuNum": 0,
    "hideHardwareSpecs": false,
    "memoryGiB": 8,
    "name": "ml.m5.large",
    "vcpuNum": 2
   },
   {
    "_defaultOrder": 5,
    "_isFastLaunch": false,
    "category": "General purpose",
    "gpuNum": 0,
    "hideHardwareSpecs": false,
    "memoryGiB": 16,
    "name": "ml.m5.xlarge",
    "vcpuNum": 4
   },
   {
    "_defaultOrder": 6,
    "_isFastLaunch": false,
    "category": "General purpose",
    "gpuNum": 0,
    "hideHardwareSpecs": false,
    "memoryGiB": 32,
    "name": "ml.m5.2xlarge",
    "vcpuNum": 8
   },
   {
    "_defaultOrder": 7,
    "_isFastLaunch": false,
    "category": "General purpose",
    "gpuNum": 0,
    "hideHardwareSpecs": false,
    "memoryGiB": 64,
    "name": "ml.m5.4xlarge",
    "vcpuNum": 16
   },
   {
    "_defaultOrder": 8,
    "_isFastLaunch": false,
    "category": "General purpose",
    "gpuNum": 0,
    "hideHardwareSpecs": false,
    "memoryGiB": 128,
    "name": "ml.m5.8xlarge",
    "vcpuNum": 32
   },
   {
    "_defaultOrder": 9,
    "_isFastLaunch": false,
    "category": "General purpose",
    "gpuNum": 0,
    "hideHardwareSpecs": false,
    "memoryGiB": 192,
    "name": "ml.m5.12xlarge",
    "vcpuNum": 48
   },
   {
    "_defaultOrder": 10,
    "_isFastLaunch": false,
    "category": "General purpose",
    "gpuNum": 0,
    "hideHardwareSpecs": false,
    "memoryGiB": 256,
    "name": "ml.m5.16xlarge",
    "vcpuNum": 64
   },
   {
    "_defaultOrder": 11,
    "_isFastLaunch": false,
    "category": "General purpose",
    "gpuNum": 0,
    "hideHardwareSpecs": false,
    "memoryGiB": 384,
    "name": "ml.m5.24xlarge",
    "vcpuNum": 96
   },
   {
    "_defaultOrder": 12,
    "_isFastLaunch": false,
    "category": "General purpose",
    "gpuNum": 0,
    "hideHardwareSpecs": false,
    "memoryGiB": 8,
    "name": "ml.m5d.large",
    "vcpuNum": 2
   },
   {
    "_defaultOrder": 13,
    "_isFastLaunch": false,
    "category": "General purpose",
    "gpuNum": 0,
    "hideHardwareSpecs": false,
    "memoryGiB": 16,
    "name": "ml.m5d.xlarge",
    "vcpuNum": 4
   },
   {
    "_defaultOrder": 14,
    "_isFastLaunch": false,
    "category": "General purpose",
    "gpuNum": 0,
    "hideHardwareSpecs": false,
    "memoryGiB": 32,
    "name": "ml.m5d.2xlarge",
    "vcpuNum": 8
   },
   {
    "_defaultOrder": 15,
    "_isFastLaunch": false,
    "category": "General purpose",
    "gpuNum": 0,
    "hideHardwareSpecs": false,
    "memoryGiB": 64,
    "name": "ml.m5d.4xlarge",
    "vcpuNum": 16
   },
   {
    "_defaultOrder": 16,
    "_isFastLaunch": false,
    "category": "General purpose",
    "gpuNum": 0,
    "hideHardwareSpecs": false,
    "memoryGiB": 128,
    "name": "ml.m5d.8xlarge",
    "vcpuNum": 32
   },
   {
    "_defaultOrder": 17,
    "_isFastLaunch": false,
    "category": "General purpose",
    "gpuNum": 0,
    "hideHardwareSpecs": false,
    "memoryGiB": 192,
    "name": "ml.m5d.12xlarge",
    "vcpuNum": 48
   },
   {
    "_defaultOrder": 18,
    "_isFastLaunch": false,
    "category": "General purpose",
    "gpuNum": 0,
    "hideHardwareSpecs": false,
    "memoryGiB": 256,
    "name": "ml.m5d.16xlarge",
    "vcpuNum": 64
   },
   {
    "_defaultOrder": 19,
    "_isFastLaunch": false,
    "category": "General purpose",
    "gpuNum": 0,
    "hideHardwareSpecs": false,
    "memoryGiB": 384,
    "name": "ml.m5d.24xlarge",
    "vcpuNum": 96
   },
   {
    "_defaultOrder": 20,
    "_isFastLaunch": false,
    "category": "General purpose",
    "gpuNum": 0,
    "hideHardwareSpecs": true,
    "memoryGiB": 0,
    "name": "ml.geospatial.interactive",
    "supportedImageNames": [
     "sagemaker-geospatial-v1-0"
    ],
    "vcpuNum": 0
   },
   {
    "_defaultOrder": 21,
    "_isFastLaunch": true,
    "category": "Compute optimized",
    "gpuNum": 0,
    "hideHardwareSpecs": false,
    "memoryGiB": 4,
    "name": "ml.c5.large",
    "vcpuNum": 2
   },
   {
    "_defaultOrder": 22,
    "_isFastLaunch": false,
    "category": "Compute optimized",
    "gpuNum": 0,
    "hideHardwareSpecs": false,
    "memoryGiB": 8,
    "name": "ml.c5.xlarge",
    "vcpuNum": 4
   },
   {
    "_defaultOrder": 23,
    "_isFastLaunch": false,
    "category": "Compute optimized",
    "gpuNum": 0,
    "hideHardwareSpecs": false,
    "memoryGiB": 16,
    "name": "ml.c5.2xlarge",
    "vcpuNum": 8
   },
   {
    "_defaultOrder": 24,
    "_isFastLaunch": false,
    "category": "Compute optimized",
    "gpuNum": 0,
    "hideHardwareSpecs": false,
    "memoryGiB": 32,
    "name": "ml.c5.4xlarge",
    "vcpuNum": 16
   },
   {
    "_defaultOrder": 25,
    "_isFastLaunch": false,
    "category": "Compute optimized",
    "gpuNum": 0,
    "hideHardwareSpecs": false,
    "memoryGiB": 72,
    "name": "ml.c5.9xlarge",
    "vcpuNum": 36
   },
   {
    "_defaultOrder": 26,
    "_isFastLaunch": false,
    "category": "Compute optimized",
    "gpuNum": 0,
    "hideHardwareSpecs": false,
    "memoryGiB": 96,
    "name": "ml.c5.12xlarge",
    "vcpuNum": 48
   },
   {
    "_defaultOrder": 27,
    "_isFastLaunch": false,
    "category": "Compute optimized",
    "gpuNum": 0,
    "hideHardwareSpecs": false,
    "memoryGiB": 144,
    "name": "ml.c5.18xlarge",
    "vcpuNum": 72
   },
   {
    "_defaultOrder": 28,
    "_isFastLaunch": false,
    "category": "Compute optimized",
    "gpuNum": 0,
    "hideHardwareSpecs": false,
    "memoryGiB": 192,
    "name": "ml.c5.24xlarge",
    "vcpuNum": 96
   },
   {
    "_defaultOrder": 29,
    "_isFastLaunch": true,
    "category": "Accelerated computing",
    "gpuNum": 1,
    "hideHardwareSpecs": false,
    "memoryGiB": 16,
    "name": "ml.g4dn.xlarge",
    "vcpuNum": 4
   },
   {
    "_defaultOrder": 30,
    "_isFastLaunch": false,
    "category": "Accelerated computing",
    "gpuNum": 1,
    "hideHardwareSpecs": false,
    "memoryGiB": 32,
    "name": "ml.g4dn.2xlarge",
    "vcpuNum": 8
   },
   {
    "_defaultOrder": 31,
    "_isFastLaunch": false,
    "category": "Accelerated computing",
    "gpuNum": 1,
    "hideHardwareSpecs": false,
    "memoryGiB": 64,
    "name": "ml.g4dn.4xlarge",
    "vcpuNum": 16
   },
   {
    "_defaultOrder": 32,
    "_isFastLaunch": false,
    "category": "Accelerated computing",
    "gpuNum": 1,
    "hideHardwareSpecs": false,
    "memoryGiB": 128,
    "name": "ml.g4dn.8xlarge",
    "vcpuNum": 32
   },
   {
    "_defaultOrder": 33,
    "_isFastLaunch": false,
    "category": "Accelerated computing",
    "gpuNum": 4,
    "hideHardwareSpecs": false,
    "memoryGiB": 192,
    "name": "ml.g4dn.12xlarge",
    "vcpuNum": 48
   },
   {
    "_defaultOrder": 34,
    "_isFastLaunch": false,
    "category": "Accelerated computing",
    "gpuNum": 1,
    "hideHardwareSpecs": false,
    "memoryGiB": 256,
    "name": "ml.g4dn.16xlarge",
    "vcpuNum": 64
   },
   {
    "_defaultOrder": 35,
    "_isFastLaunch": false,
    "category": "Accelerated computing",
    "gpuNum": 1,
    "hideHardwareSpecs": false,
    "memoryGiB": 61,
    "name": "ml.p3.2xlarge",
    "vcpuNum": 8
   },
   {
    "_defaultOrder": 36,
    "_isFastLaunch": false,
    "category": "Accelerated computing",
    "gpuNum": 4,
    "hideHardwareSpecs": false,
    "memoryGiB": 244,
    "name": "ml.p3.8xlarge",
    "vcpuNum": 32
   },
   {
    "_defaultOrder": 37,
    "_isFastLaunch": false,
    "category": "Accelerated computing",
    "gpuNum": 8,
    "hideHardwareSpecs": false,
    "memoryGiB": 488,
    "name": "ml.p3.16xlarge",
    "vcpuNum": 64
   },
   {
    "_defaultOrder": 38,
    "_isFastLaunch": false,
    "category": "Accelerated computing",
    "gpuNum": 8,
    "hideHardwareSpecs": false,
    "memoryGiB": 768,
    "name": "ml.p3dn.24xlarge",
    "vcpuNum": 96
   },
   {
    "_defaultOrder": 39,
    "_isFastLaunch": false,
    "category": "Memory Optimized",
    "gpuNum": 0,
    "hideHardwareSpecs": false,
    "memoryGiB": 16,
    "name": "ml.r5.large",
    "vcpuNum": 2
   },
   {
    "_defaultOrder": 40,
    "_isFastLaunch": false,
    "category": "Memory Optimized",
    "gpuNum": 0,
    "hideHardwareSpecs": false,
    "memoryGiB": 32,
    "name": "ml.r5.xlarge",
    "vcpuNum": 4
   },
   {
    "_defaultOrder": 41,
    "_isFastLaunch": false,
    "category": "Memory Optimized",
    "gpuNum": 0,
    "hideHardwareSpecs": false,
    "memoryGiB": 64,
    "name": "ml.r5.2xlarge",
    "vcpuNum": 8
   },
   {
    "_defaultOrder": 42,
    "_isFastLaunch": false,
    "category": "Memory Optimized",
    "gpuNum": 0,
    "hideHardwareSpecs": false,
    "memoryGiB": 128,
    "name": "ml.r5.4xlarge",
    "vcpuNum": 16
   },
   {
    "_defaultOrder": 43,
    "_isFastLaunch": false,
    "category": "Memory Optimized",
    "gpuNum": 0,
    "hideHardwareSpecs": false,
    "memoryGiB": 256,
    "name": "ml.r5.8xlarge",
    "vcpuNum": 32
   },
   {
    "_defaultOrder": 44,
    "_isFastLaunch": false,
    "category": "Memory Optimized",
    "gpuNum": 0,
    "hideHardwareSpecs": false,
    "memoryGiB": 384,
    "name": "ml.r5.12xlarge",
    "vcpuNum": 48
   },
   {
    "_defaultOrder": 45,
    "_isFastLaunch": false,
    "category": "Memory Optimized",
    "gpuNum": 0,
    "hideHardwareSpecs": false,
    "memoryGiB": 512,
    "name": "ml.r5.16xlarge",
    "vcpuNum": 64
   },
   {
    "_defaultOrder": 46,
    "_isFastLaunch": false,
    "category": "Memory Optimized",
    "gpuNum": 0,
    "hideHardwareSpecs": false,
    "memoryGiB": 768,
    "name": "ml.r5.24xlarge",
    "vcpuNum": 96
   },
   {
    "_defaultOrder": 47,
    "_isFastLaunch": false,
    "category": "Accelerated computing",
    "gpuNum": 1,
    "hideHardwareSpecs": false,
    "memoryGiB": 16,
    "name": "ml.g5.xlarge",
    "vcpuNum": 4
   },
   {
    "_defaultOrder": 48,
    "_isFastLaunch": false,
    "category": "Accelerated computing",
    "gpuNum": 1,
    "hideHardwareSpecs": false,
    "memoryGiB": 32,
    "name": "ml.g5.2xlarge",
    "vcpuNum": 8
   },
   {
    "_defaultOrder": 49,
    "_isFastLaunch": false,
    "category": "Accelerated computing",
    "gpuNum": 1,
    "hideHardwareSpecs": false,
    "memoryGiB": 64,
    "name": "ml.g5.4xlarge",
    "vcpuNum": 16
   },
   {
    "_defaultOrder": 50,
    "_isFastLaunch": false,
    "category": "Accelerated computing",
    "gpuNum": 1,
    "hideHardwareSpecs": false,
    "memoryGiB": 128,
    "name": "ml.g5.8xlarge",
    "vcpuNum": 32
   },
   {
    "_defaultOrder": 51,
    "_isFastLaunch": false,
    "category": "Accelerated computing",
    "gpuNum": 1,
    "hideHardwareSpecs": false,
    "memoryGiB": 256,
    "name": "ml.g5.16xlarge",
    "vcpuNum": 64
   },
   {
    "_defaultOrder": 52,
    "_isFastLaunch": false,
    "category": "Accelerated computing",
    "gpuNum": 4,
    "hideHardwareSpecs": false,
    "memoryGiB": 192,
    "name": "ml.g5.12xlarge",
    "vcpuNum": 48
   },
   {
    "_defaultOrder": 53,
    "_isFastLaunch": false,
    "category": "Accelerated computing",
    "gpuNum": 4,
    "hideHardwareSpecs": false,
    "memoryGiB": 384,
    "name": "ml.g5.24xlarge",
    "vcpuNum": 96
   },
   {
    "_defaultOrder": 54,
    "_isFastLaunch": false,
    "category": "Accelerated computing",
    "gpuNum": 8,
    "hideHardwareSpecs": false,
    "memoryGiB": 768,
    "name": "ml.g5.48xlarge",
    "vcpuNum": 192
   },
   {
    "_defaultOrder": 55,
    "_isFastLaunch": false,
    "category": "Accelerated computing",
    "gpuNum": 8,
    "hideHardwareSpecs": false,
    "memoryGiB": 1152,
    "name": "ml.p4d.24xlarge",
    "vcpuNum": 96
   },
   {
    "_defaultOrder": 56,
    "_isFastLaunch": false,
    "category": "Accelerated computing",
    "gpuNum": 8,
    "hideHardwareSpecs": false,
    "memoryGiB": 1152,
    "name": "ml.p4de.24xlarge",
    "vcpuNum": 96
   }
  ],
  "instance_type": "ml.t3.medium",
  "kernelspec": {
   "display_name": "Python 3 (Data Science 3.0)",
   "language": "python",
   "name": "python3__SAGEMAKER_INTERNAL__arn:aws:sagemaker:us-west-2:236514542706:image/sagemaker-data-science-310-v1"
  },
  "language_info": {
   "codemirror_mode": {
    "name": "ipython",
    "version": 3
   },
   "file_extension": ".py",
   "mimetype": "text/x-python",
   "name": "python",
   "nbconvert_exporter": "python",
   "pygments_lexer": "ipython3",
   "version": "3.10.6"
  },
  "lcc_arn": "arn:aws:sagemaker:us-west-2:111039177464:studio-lifecycle-config/gdmlml-studio-new-kernelgateway-default-lifecycle-config"
 },
 "nbformat": 4,
 "nbformat_minor": 5
}
