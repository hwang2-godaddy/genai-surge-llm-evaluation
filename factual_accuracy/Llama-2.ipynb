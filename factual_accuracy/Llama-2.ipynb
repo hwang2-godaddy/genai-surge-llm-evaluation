{
 "cells": [
  {
   "cell_type": "markdown",
   "id": "4f55f452-5dbf-4012-8595-81fd9736a619",
   "metadata": {},
   "source": [
    "## Install and import packages"
   ]
  },
  {
   "cell_type": "code",
   "execution_count": 2,
   "id": "b00abc1a-9d31-41a3-914d-fdbc271d3deb",
   "metadata": {
    "tags": []
   },
   "outputs": [
    {
     "name": "stdout",
     "output_type": "stream",
     "text": [
      "\u001b[33mWARNING: Running pip as the 'root' user can result in broken permissions and conflicting behaviour with the system package manager. It is recommended to use a virtual environment instead: https://pip.pypa.io/warnings/venv\u001b[0m\u001b[33m\n",
      "\u001b[0mNote: you may need to restart the kernel to use updated packages.\n",
      "\u001b[33mWARNING: Running pip as the 'root' user can result in broken permissions and conflicting behaviour with the system package manager. It is recommended to use a virtual environment instead: https://pip.pypa.io/warnings/venv\u001b[0m\u001b[33m\n",
      "\u001b[0mNote: you may need to restart the kernel to use updated packages.\n",
      "\u001b[33mWARNING: Running pip as the 'root' user can result in broken permissions and conflicting behaviour with the system package manager. It is recommended to use a virtual environment instead: https://pip.pypa.io/warnings/venv\u001b[0m\u001b[33m\n",
      "\u001b[0mNote: you may need to restart the kernel to use updated packages.\n"
     ]
    }
   ],
   "source": [
    "%pip install --upgrade --quiet sagemaker\n",
    "%pip install --upgrade --quiet langchain\n",
    "%pip install --upgrade --quiet openai"
   ]
  },
  {
   "cell_type": "code",
   "execution_count": 3,
   "id": "bed54694-5624-4c36-8660-63e7f887dae2",
   "metadata": {
    "tags": []
   },
   "outputs": [
    {
     "name": "stdout",
     "output_type": "stream",
     "text": [
      "\u001b[33mWARNING: Running pip as the 'root' user can result in broken permissions and conflicting behaviour with the system package manager. It is recommended to use a virtual environment instead: https://pip.pypa.io/warnings/venv\u001b[0m\u001b[33m\n",
      "\u001b[0mNote: you may need to restart the kernel to use updated packages.\n",
      "\u001b[31mERROR: pip's dependency resolver does not currently take into account all the packages that are installed. This behaviour is the source of the following dependency conflicts.\n",
      "spyder 5.3.3 requires pyqt5<5.16, which is not installed.\n",
      "spyder 5.3.3 requires pyqtwebengine<5.16, which is not installed.\n",
      "panel 0.13.1 requires bokeh<2.5.0,>=2.4.0, but you have bokeh 3.2.1 which is incompatible.\n",
      "spyder 5.3.3 requires ipython<8.0.0,>=7.31.1, but you have ipython 8.14.0 which is incompatible.\n",
      "spyder 5.3.3 requires pylint<3.0,>=2.5.0, but you have pylint 3.0.0a6 which is incompatible.\u001b[0m\u001b[31m\n",
      "\u001b[0m\u001b[33mWARNING: Running pip as the 'root' user can result in broken permissions and conflicting behaviour with the system package manager. It is recommended to use a virtual environment instead: https://pip.pypa.io/warnings/venv\u001b[0m\u001b[33m\n",
      "\u001b[0mNote: you may need to restart the kernel to use updated packages.\n"
     ]
    }
   ],
   "source": [
    "%pip uninstall --quiet typing_extensions --yes\n",
    "%pip install --upgrade --quiet typing_extensions"
   ]
  },
  {
   "cell_type": "code",
   "execution_count": 4,
   "id": "6c6e6ad4-9a8f-4609-9d5e-5812c421365d",
   "metadata": {},
   "outputs": [],
   "source": [
    "import openai\n",
    "import pandas as pd\n",
    "import time\n",
    "# from dotenv import load_dotenv\n",
    "from langchain.chat_models import ChatAnyscale, ChatOpenAI\n",
    "from langchain.schema import SystemMessage, HumanMessage\n",
    "import os\n",
    "# from multichoice import Multichoice\n",
    "from prompt_mgr import PromptMgr"
   ]
  },
  {
   "cell_type": "code",
   "execution_count": null,
   "id": "464cbf75-5a98-47a9-adbb-1409ad5785e6",
   "metadata": {},
   "outputs": [],
   "source": []
  },
  {
   "cell_type": "markdown",
   "id": "7e693aca-44bf-4cad-82b4-55b246ebe50f",
   "metadata": {
    "tags": []
   },
   "source": [
    "## Read input dataset and create prompt"
   ]
  },
  {
   "cell_type": "code",
   "execution_count": 7,
   "id": "5c5d51c8-768c-47c1-8ba9-e59c05145714",
   "metadata": {
    "tags": []
   },
   "outputs": [
    {
     "data": {
      "text/html": [
       "<div>\n",
       "<style scoped>\n",
       "    .dataframe tbody tr th:only-of-type {\n",
       "        vertical-align: middle;\n",
       "    }\n",
       "\n",
       "    .dataframe tbody tr th {\n",
       "        vertical-align: top;\n",
       "    }\n",
       "\n",
       "    .dataframe thead th {\n",
       "        text-align: right;\n",
       "    }\n",
       "</style>\n",
       "<table border=\"1\" class=\"dataframe\">\n",
       "  <thead>\n",
       "    <tr style=\"text-align: right;\">\n",
       "      <th></th>\n",
       "      <th>article_id</th>\n",
       "      <th>article_sent</th>\n",
       "      <th>correct_sent</th>\n",
       "      <th>correct_sent_id</th>\n",
       "      <th>incorrect_sent</th>\n",
       "      <th>incorrect_sent_id</th>\n",
       "    </tr>\n",
       "  </thead>\n",
       "  <tbody>\n",
       "    <tr>\n",
       "      <th>0</th>\n",
       "      <td>67c3b0a2da09ce32a83c098da1e0aff034e790d0</td>\n",
       "      <td>the abc have reported that those who receive c...</td>\n",
       "      <td>those who receive centrelink payments made up ...</td>\n",
       "      <td>84-0</td>\n",
       "      <td>the abc have reported that those who receive c...</td>\n",
       "      <td>40-0</td>\n",
       "    </tr>\n",
       "    <tr>\n",
       "      <th>1</th>\n",
       "      <td>7c4ae3beb354e0a9f11fa09f8fbb6613a50db5cc</td>\n",
       "      <td>five ambitious clubs are locked in a scramble ...</td>\n",
       "      <td>five ambitious clubs are locked in a scramble ...</td>\n",
       "      <td>44-1</td>\n",
       "      <td>five ambitious clubs are locked in a bid for t...</td>\n",
       "      <td>17-1</td>\n",
       "    </tr>\n",
       "    <tr>\n",
       "      <th>2</th>\n",
       "      <td>7e37b3e3623ae0ab6568e0e73584b16fae0cc00e</td>\n",
       "      <td>but it wasn't until last year that the 25 year...</td>\n",
       "      <td>the 25 year old from pennsylvania went on a le...</td>\n",
       "      <td>45-1</td>\n",
       "      <td>the 25 year old from pennsylvania went viral o...</td>\n",
       "      <td>4-1</td>\n",
       "    </tr>\n",
       "    <tr>\n",
       "      <th>3</th>\n",
       "      <td>cdbfba47929b459daf474a1a3dee37d2351729ea</td>\n",
       "      <td>seven games involving nimes were investigated ...</td>\n",
       "      <td>seven games involving nimes were investigated ...</td>\n",
       "      <td>93-2</td>\n",
       "      <td>seven games involving nimes were arrested last...</td>\n",
       "      <td>83-2</td>\n",
       "    </tr>\n",
       "    <tr>\n",
       "      <th>4</th>\n",
       "      <td>696ac804af5fcab8853c583f5c97e1eda6e2493a</td>\n",
       "      <td>the driver's side of the windscreen immediatel...</td>\n",
       "      <td>driver's side of the windscreen immediately sh...</td>\n",
       "      <td>61-2</td>\n",
       "      <td>driver's side were immediately shatters and fa...</td>\n",
       "      <td>42-2</td>\n",
       "    </tr>\n",
       "  </tbody>\n",
       "</table>\n",
       "</div>"
      ],
      "text/plain": [
       "                                 article_id  \\\n",
       "0  67c3b0a2da09ce32a83c098da1e0aff034e790d0   \n",
       "1  7c4ae3beb354e0a9f11fa09f8fbb6613a50db5cc   \n",
       "2  7e37b3e3623ae0ab6568e0e73584b16fae0cc00e   \n",
       "3  cdbfba47929b459daf474a1a3dee37d2351729ea   \n",
       "4  696ac804af5fcab8853c583f5c97e1eda6e2493a   \n",
       "\n",
       "                                        article_sent  \\\n",
       "0  the abc have reported that those who receive c...   \n",
       "1  five ambitious clubs are locked in a scramble ...   \n",
       "2  but it wasn't until last year that the 25 year...   \n",
       "3  seven games involving nimes were investigated ...   \n",
       "4  the driver's side of the windscreen immediatel...   \n",
       "\n",
       "                                        correct_sent correct_sent_id  \\\n",
       "0  those who receive centrelink payments made up ...            84-0   \n",
       "1  five ambitious clubs are locked in a scramble ...            44-1   \n",
       "2  the 25 year old from pennsylvania went on a le...            45-1   \n",
       "3  seven games involving nimes were investigated ...            93-2   \n",
       "4  driver's side of the windscreen immediately sh...            61-2   \n",
       "\n",
       "                                      incorrect_sent incorrect_sent_id  \n",
       "0  the abc have reported that those who receive c...              40-0  \n",
       "1  five ambitious clubs are locked in a bid for t...              17-1  \n",
       "2  the 25 year old from pennsylvania went viral o...               4-1  \n",
       "3  seven games involving nimes were arrested last...              83-2  \n",
       "4  driver's side were immediately shatters and fa...              42-2  "
      ]
     },
     "execution_count": 7,
     "metadata": {},
     "output_type": "execute_result"
    }
   ],
   "source": [
    "df = pd.read_json('resources/datasets/val_sentence_pairs.json')\n",
    "df.head()"
   ]
  },
  {
   "cell_type": "code",
   "execution_count": 19,
   "id": "ba52ef6e-d07c-4402-a444-1840c3b98a7a",
   "metadata": {
    "tags": []
   },
   "outputs": [],
   "source": [
    "pm = PromptMgr(src_dir = 'resources/environments/answer_first/prompts')"
   ]
  },
  {
   "cell_type": "code",
   "execution_count": 20,
   "id": "5421399e-b2d9-4eda-959d-97dc4568e9d4",
   "metadata": {
    "tags": []
   },
   "outputs": [],
   "source": [
    "def query_model(row, sm_model_predictor, prompt_mgr, swap_answers = False):\n",
    "    if swap_answers: \n",
    "        prompt = prompt_mgr.bind('consistent').render(\n",
    "                    article_sent=row['article_sent'], \n",
    "                    option_a=row['incorrect_sent'],\n",
    "                    option_b=row['correct_sent'])\n",
    "    else: \n",
    "        prompt = prompt_mgr.bind('consistent').render(\n",
    "                    article_sent=row['article_sent'], \n",
    "                    option_a=row['correct_sent'],\n",
    "                    option_b=row['incorrect_sent'])\n",
    "\n",
    "    system_prompt = prompt_mgr.bind('system').render()\n",
    "    \n",
    "    payload = {\n",
    "        \"inputs\": [[\n",
    "            {\"role\": \"user\", \"content\": f\"{system_prompt}\\n{prompt}\"},\n",
    "        ]],\n",
    "        \"parameters\": {\"max_new_tokens\": 512, \"top_p\": 0.9, \"temperature\": 0.6}\n",
    "    }\n",
    "    \n",
    "    model_predictor = sm_model_predictor\n",
    "    \n",
    "    response = predictor.predict(payload, custom_attributes='accept_eula=true')\n",
    "    \n",
    "    output = response\n",
    "    return {'output': output[0]['generation']['content']} "
   ]
  },
  {
   "cell_type": "code",
   "execution_count": null,
   "id": "ce8d83c8-4492-4fe0-b67d-30d57897b4f7",
   "metadata": {},
   "outputs": [],
   "source": []
  },
  {
   "cell_type": "markdown",
   "id": "4b5cd2bb-b8cd-41a0-9010-db498c84b2ab",
   "metadata": {},
   "source": [
    "## Deploy Llama-2 7b, save output and delete SM endpoint"
   ]
  },
  {
   "cell_type": "code",
   "execution_count": 21,
   "id": "ce8d30dc-0e0d-4f0b-8237-822178d9669b",
   "metadata": {
    "tags": []
   },
   "outputs": [],
   "source": [
    "model_id, model_version = \"meta-textgeneration-llama-2-7b-f\", \"*\""
   ]
  },
  {
   "cell_type": "code",
   "execution_count": null,
   "id": "701c7643-e4e2-42a1-b9ed-59301dcbf8e0",
   "metadata": {},
   "outputs": [],
   "source": [
    "from sagemaker.jumpstart.model import JumpStartModel\n",
    "\n",
    "model = JumpStartModel(model_id=model_id)\n",
    "predictor = model.deploy()"
   ]
  },
  {
   "cell_type": "code",
   "execution_count": 10,
   "id": "a7f599b0-119e-41f7-a8cb-ee0b0928b5af",
   "metadata": {
    "tags": []
   },
   "outputs": [],
   "source": [
    "# Create an empty list to store the results\n",
    "results_list = []\n",
    "\n",
    "# Iterate over each row in the DataFrame\n",
    "for i in range(len(df)):\n",
    "    result = query_model(df.loc[i], predictor, pm, swap_answers=True)\n",
    "    results_list.append(result)\n",
    "\n",
    "# Create a new DataFrame from the results list\n",
    "results_df = pd.DataFrame(results_list)"
   ]
  },
  {
   "cell_type": "code",
   "execution_count": 11,
   "id": "b3c7bc73-5f24-4e02-8e86-8442cacee645",
   "metadata": {
    "tags": []
   },
   "outputs": [
    {
     "data": {
      "text/plain": [
       "' Based on the article sentence provided, Summary B is more consistent with the article.\\n\\nThe article sentence states that \"the abc have reported that those who receive centrelink payments made up half of radio rental\\'s income last year.\"\\n\\nSummary B paraphrases this sentence into a more concise form, \"those who receive centrelink payments made up half of radio rental\\'s income last year.\"\\n\\nBoth Summary A and Summary B provide the same information, but Summary B is more concise and easier to read. Therefore, Summary B is the more consistent summary of the article sentence.'"
      ]
     },
     "execution_count": 11,
     "metadata": {},
     "output_type": "execute_result"
    }
   ],
   "source": [
    "results_df.loc[0]['output']"
   ]
  },
  {
   "cell_type": "code",
   "execution_count": 13,
   "id": "aae5001a-e9e0-4316-83b8-a813416e13f2",
   "metadata": {
    "tags": []
   },
   "outputs": [],
   "source": [
    "results_df.to_json('Llama-2-7b-output-swapped.json')"
   ]
  },
  {
   "cell_type": "code",
   "execution_count": 14,
   "id": "8d72dd5b-9932-4ee5-85cf-c58657ce2dfd",
   "metadata": {
    "tags": []
   },
   "outputs": [],
   "source": [
    "# Create an empty list to store the results\n",
    "results_list_no_swap = []\n",
    "\n",
    "# Iterate over each row in the DataFrame\n",
    "for i in range(len(df)):\n",
    "    result = query_model(df.loc[i], predictor, pm, swap_answers=False)\n",
    "    results_list_no_swap.append(result)\n",
    "\n",
    "# Create a new DataFrame from the results list\n",
    "results_df_no_swap = pd.DataFrame(results_list_no_swap)"
   ]
  },
  {
   "cell_type": "code",
   "execution_count": 15,
   "id": "e048fe89-7ccc-4eb0-b13d-5a6e0b7480e0",
   "metadata": {
    "tags": []
   },
   "outputs": [
    {
     "data": {
      "text/plain": [
       "' Based on the article sentence provided, I would say that Summary B is more consistent with the article. The article sentence directly states that \"the abc have reported that those who receive centrelink payments made up half of radio rental\\'s income last year,\" which implies that the ABC news organization reported on the income of Radio Rental and found that centrelink payments made up half of it. Therefore, Summary B is more consistent with the article as it directly quotes the ABC news organization.'"
      ]
     },
     "execution_count": 15,
     "metadata": {},
     "output_type": "execute_result"
    }
   ],
   "source": [
    "results_df_no_swap.loc[0]['output']"
   ]
  },
  {
   "cell_type": "code",
   "execution_count": 16,
   "id": "6fb02bb3-a929-446d-96fa-1189965a47fd",
   "metadata": {
    "tags": []
   },
   "outputs": [],
   "source": [
    "results_df_no_swap.to_json('Llama-2-7b-output-no-swap.json')"
   ]
  },
  {
   "cell_type": "code",
   "execution_count": 17,
   "id": "071933d9-6a21-4ac4-a3c0-7468545870bd",
   "metadata": {
    "tags": []
   },
   "outputs": [],
   "source": [
    "# Delete the SageMaker endpoint\n",
    "predictor.delete_model()\n",
    "predictor.delete_endpoint()"
   ]
  },
  {
   "cell_type": "code",
   "execution_count": null,
   "id": "2bb924e5-abc6-4777-8bab-c22996b30e71",
   "metadata": {},
   "outputs": [],
   "source": []
  },
  {
   "cell_type": "markdown",
   "id": "e641bd89-579b-4900-a8b9-8d33c783097b",
   "metadata": {},
   "source": [
    "## Deploy Llama-2 13b, save output and delete SM endpoint"
   ]
  },
  {
   "cell_type": "code",
   "execution_count": 22,
   "id": "3cd9e26b-e5ca-4128-8ffc-3aac7868ccf6",
   "metadata": {
    "tags": []
   },
   "outputs": [],
   "source": [
    "model_id, model_version = \"meta-textgeneration-llama-2-13b-f\", \"*\""
   ]
  },
  {
   "cell_type": "code",
   "execution_count": 23,
   "id": "b80ee058-cee0-48ad-9b90-cf1277974aad",
   "metadata": {
    "tags": []
   },
   "outputs": [
    {
     "name": "stdout",
     "output_type": "stream",
     "text": [
      "-------------------!"
     ]
    }
   ],
   "source": [
    "from sagemaker.jumpstart.model import JumpStartModel\n",
    "\n",
    "model = JumpStartModel(model_id=model_id)\n",
    "predictor = model.deploy()"
   ]
  },
  {
   "cell_type": "code",
   "execution_count": 24,
   "id": "874ea52b-a3c0-4dd1-a708-3243140766c3",
   "metadata": {
    "tags": []
   },
   "outputs": [],
   "source": [
    "# Create an empty list to store the results\n",
    "results_13b_list = []\n",
    "\n",
    "# Iterate over each row in the DataFrame\n",
    "for i in range(len(df)):\n",
    "    result = query_model(df.loc[i], predictor, pm, swap_answers=True)\n",
    "    results_13b_list.append(result)\n",
    "\n",
    "# Create a new DataFrame from the results list\n",
    "results_13b_df = pd.DataFrame(results_13b_list)"
   ]
  },
  {
   "cell_type": "code",
   "execution_count": 25,
   "id": "2643e20c-c3e4-4d6e-adb4-19117b841480",
   "metadata": {
    "tags": []
   },
   "outputs": [
    {
     "data": {
      "text/plain": [
       "' Based on the information provided in the article sentence, the more consistent summary with the article would be:\\n\\nSummary B: those who receive centrelink payments made up half of radio rental\\'s income last year.\\n\\nExplanation:\\n\\nThe article sentence states that \"those who receive Centrelink payments made up half of radio rental\\'s income last year.\" Therefore, the summary that best reflects this information is Summary B, which states \"those who receive Centrelink payments made up half of radio rental\\'s income last year.\"\\n\\nSummary A, on the other hand, states \"the abc have reported that those who receive Centrelink payments made up radio rental\\'s income last year.\" This summary is not as precise and factual as Summary B, as it does not directly quote the information from the article and instead uses indirect language to convey the same information.'"
      ]
     },
     "execution_count": 25,
     "metadata": {},
     "output_type": "execute_result"
    }
   ],
   "source": [
    "results_13b_df.loc[0]['output']"
   ]
  },
  {
   "cell_type": "code",
   "execution_count": 26,
   "id": "5cdc1250-9223-403f-a0de-55f253e2525c",
   "metadata": {
    "tags": []
   },
   "outputs": [],
   "source": [
    "results_13b_df.to_json('Llama-2-13b-output-swapped.json')"
   ]
  },
  {
   "cell_type": "code",
   "execution_count": 27,
   "id": "ad98502d-0af5-4b99-8577-7b3461c4904e",
   "metadata": {
    "tags": []
   },
   "outputs": [],
   "source": [
    "# Create an empty list to store the results\n",
    "results_13b_list_no_swap = []\n",
    "\n",
    "# Iterate over each row in the DataFrame\n",
    "for i in range(len(df)):\n",
    "    result = query_model(df.loc[i], predictor, pm, swap_answers=False)\n",
    "    results_13b_list_no_swap.append(result)\n",
    "\n",
    "# Create a new DataFrame from the results list\n",
    "results_13b_df_no_swap = pd.DataFrame(results_13b_list_no_swap)"
   ]
  },
  {
   "cell_type": "code",
   "execution_count": 29,
   "id": "baafbc19-fcc8-4084-ae10-a15b614f91f3",
   "metadata": {
    "tags": []
   },
   "outputs": [
    {
     "data": {
      "text/plain": [
       "' Based on the information provided in the article sentence, the more consistent summary is:\\n\\nSummary A: those who receive centrelink payments made up half of radio rental\\'s income last year.\\n\\nExplanation: The article sentence states that the abc have reported that those who receive centrelink payments made up half of radio rental\\'s income last year. Therefore, the summary should be a direct representation of that information, which is: \"those who receive centrelink payments made up half of radio rental\\'s income last year.\" Summary B is not as consistent because it adds the phrase \"the abc have reported\" which is not directly supported by the article sentence.'"
      ]
     },
     "execution_count": 29,
     "metadata": {},
     "output_type": "execute_result"
    }
   ],
   "source": [
    "results_13b_df_no_swap.loc[0]['output']"
   ]
  },
  {
   "cell_type": "code",
   "execution_count": 30,
   "id": "101385c7-4fd6-499c-8944-ecf73f9c0a54",
   "metadata": {
    "tags": []
   },
   "outputs": [],
   "source": [
    "results_13b_df_no_swap.to_json('Llama-2-13b-output-no-swap.json')"
   ]
  },
  {
   "cell_type": "code",
   "execution_count": 31,
   "id": "d71dbcc4-487f-4fdd-967c-e0570116dbc1",
   "metadata": {
    "tags": []
   },
   "outputs": [],
   "source": [
    "# Delete the SageMaker endpoint\n",
    "predictor.delete_model()\n",
    "predictor.delete_endpoint()"
   ]
  },
  {
   "cell_type": "code",
   "execution_count": null,
   "id": "3270430a-d3d2-4b1d-8fba-1872692e03de",
   "metadata": {},
   "outputs": [],
   "source": []
  },
  {
   "cell_type": "markdown",
   "id": "89008583-27e9-4e28-8371-eafd6a501de0",
   "metadata": {
    "tags": []
   },
   "source": [
    "## Deploy Llama-2 70b, save output and delete SM endpoint"
   ]
  },
  {
   "cell_type": "code",
   "execution_count": 33,
   "id": "840e6f67-6859-4a7b-ae3f-8fb2034ca700",
   "metadata": {
    "tags": []
   },
   "outputs": [],
   "source": [
    "model_id, model_version = \"meta-textgeneration-llama-2-70b-f\", \"*\""
   ]
  },
  {
   "cell_type": "code",
   "execution_count": 34,
   "id": "125bfbc9-a1fd-49cb-aa13-aaa3012b2311",
   "metadata": {
    "tags": []
   },
   "outputs": [
    {
     "name": "stdout",
     "output_type": "stream",
     "text": [
      "---------------------------------------!"
     ]
    }
   ],
   "source": [
    "from sagemaker.jumpstart.model import JumpStartModel\n",
    "\n",
    "model = JumpStartModel(model_id=model_id)\n",
    "predictor = model.deploy()"
   ]
  },
  {
   "cell_type": "code",
   "execution_count": 35,
   "id": "7035f2e2-3b0f-4c1a-b8d6-9efb3aa7ae6d",
   "metadata": {
    "tags": []
   },
   "outputs": [],
   "source": [
    "# Create an empty list to store the results\n",
    "results_70b_list = []\n",
    "\n",
    "# Iterate over each row in the DataFrame\n",
    "for i in range(len(df)):\n",
    "    result = query_model(df.loc[i], predictor, pm, swap_answers=True)\n",
    "    results_70b_list.append(result)\n",
    "\n",
    "# Create a new DataFrame from the results list\n",
    "results_70b_df = pd.DataFrame(results_70b_list)"
   ]
  },
  {
   "cell_type": "code",
   "execution_count": 36,
   "id": "27418f89-b16d-48b0-959f-d50ed373bd3e",
   "metadata": {
    "tags": []
   },
   "outputs": [
    {
     "data": {
      "text/plain": [
       "\" The correct answer is (B) those who receive centrelink payments made up half of radio rental's income last year.\\n\\nExplanation:\\n\\nSummary A is not consistent with the article sentence as it implies that the ABC (Australian Broadcasting Corporation) made up radio rental's income, which is not supported by the article.\\n\\nSummary B, on the other hand, accurately summarizes the article sentence by stating that those who receive Centrelink payments (a government benefit) made up half of radio rental's income last year, which is consistent with the information provided in the article.\""
      ]
     },
     "execution_count": 36,
     "metadata": {},
     "output_type": "execute_result"
    }
   ],
   "source": [
    "results_70b_df.loc[0]['output']"
   ]
  },
  {
   "cell_type": "code",
   "execution_count": 37,
   "id": "b0eac329-b603-4359-a3ac-c41a86fd692b",
   "metadata": {
    "tags": []
   },
   "outputs": [],
   "source": [
    "results_70b_df.to_json('Llama-2-70b-output-swapped.json')"
   ]
  },
  {
   "cell_type": "code",
   "execution_count": 45,
   "id": "15550840-4967-4c11-989e-bf2aa4c05ff1",
   "metadata": {
    "tags": []
   },
   "outputs": [],
   "source": [
    "# Create an empty list to store the results\n",
    "results_70b_list_no_swap = []\n",
    "\n",
    "# Iterate over each row in the DataFrame\n",
    "for i in range(len(df)):\n",
    "    result = query_model(df.loc[i], predictor, pm, swap_answers=False)\n",
    "    results_70b_list_no_swap.append(result)\n",
    "\n",
    "# Create a new DataFrame from the results list\n",
    "results_70b_df_no_swap = pd.DataFrame(results_70b_list_no_swap)"
   ]
  },
  {
   "cell_type": "code",
   "execution_count": 46,
   "id": "d225fa48-6e67-41ad-8fe1-e23e4e0b3a6e",
   "metadata": {
    "tags": []
   },
   "outputs": [
    {
     "data": {
      "text/plain": [
       "' The correct answer is (A) those who receive centrelink payments made up half of radio rental\\'s income last year.\\n\\nExplanation:\\n\\nThe article sentence states that \"the abc have reported\" certain information. Summary A accurately reflects this by stating that \"those who receive centrelink payments made up half of radio rental\\'s income last year,\" which is a direct reflection of the information provided in the article sentence.\\n\\nOn the other hand, Summary B, \"the abc have reported that those who receive centrelink payments made up radio rental\\'s income last year,\" is not consistent with the article sentence. The article sentence does not state that the ABC reported that centrelink payments made up radio rental\\'s entire income, only that those who receive centrelink payments made up half of radio rental\\'s income. Therefore, Summary B is not supported by the information provided in the article sentence.'"
      ]
     },
     "execution_count": 46,
     "metadata": {},
     "output_type": "execute_result"
    }
   ],
   "source": [
    "results_70b_df_no_swap.loc[0]['output']"
   ]
  },
  {
   "cell_type": "code",
   "execution_count": 47,
   "id": "35e2ce42-1da2-405e-87b1-05b6c69e9814",
   "metadata": {
    "tags": []
   },
   "outputs": [],
   "source": [
    "results_70b_df_no_swap.to_json('Llama-2-70b-output-no-swap.json')"
   ]
  },
  {
   "cell_type": "code",
   "execution_count": 48,
   "id": "e8811c8f-ee45-480e-a6ce-94034ecad2ba",
   "metadata": {
    "tags": []
   },
   "outputs": [],
   "source": [
    "# Delete the SageMaker endpoint\n",
    "predictor.delete_model()\n",
    "predictor.delete_endpoint()"
   ]
  },
  {
   "cell_type": "code",
   "execution_count": null,
   "id": "99b8cf64-657f-495d-8503-58f58d459c28",
   "metadata": {},
   "outputs": [],
   "source": []
  },
  {
   "cell_type": "markdown",
   "id": "66563387-1a03-468e-8c87-6bc57c36dbbd",
   "metadata": {},
   "source": [
    "## Postprocessing"
   ]
  },
  {
   "cell_type": "code",
   "execution_count": 64,
   "id": "8d157301-4e94-467c-87eb-d05ac290f156",
   "metadata": {
    "tags": []
   },
   "outputs": [
    {
     "name": "stdout",
     "output_type": "stream",
     "text": [
      "---------------------------------------!"
     ]
    }
   ],
   "source": [
    "# deploy llama-2-70b to extract the answer\n",
    "model_id, model_version = \"meta-textgeneration-llama-2-70b-f\", \"*\"\n",
    "\n",
    "from sagemaker.jumpstart.model import JumpStartModel\n",
    "\n",
    "model = JumpStartModel(model_id=model_id)\n",
    "predictor = model.deploy()"
   ]
  },
  {
   "cell_type": "code",
   "execution_count": 49,
   "id": "e0dc28bc-5685-4c96-8bca-3adf35745249",
   "metadata": {
    "tags": []
   },
   "outputs": [],
   "source": [
    "input_df = df"
   ]
  },
  {
   "cell_type": "code",
   "execution_count": 72,
   "id": "b7c4d069-06a3-4f4c-a125-a1f9fcb8b841",
   "metadata": {
    "tags": []
   },
   "outputs": [],
   "source": [
    "llama_2_7b_swapped_df  = pd.read_json('Llama-2-7b-output-swapped.json')\n",
    "llama_2_7b_no_swap_df  = pd.read_json('Llama-2-7b-output-no-swap.json')\n",
    "\n",
    "llama_2_13b_swapped_df = pd.read_json('Llama-2-13b-output-swapped.json')\n",
    "llama_2_13b_no_swap_df = pd.read_json('Llama-2-13b-output-no-swap.json')\n",
    "\n",
    "llama_2_70b_swapped_df = pd.read_json('Llama-2-70b-output-swapped.json')\n",
    "llama_2_70b_no_swap_df = pd.read_json('Llama-2-70b-output-no-swap.json')"
   ]
  },
  {
   "cell_type": "code",
   "execution_count": 74,
   "id": "d1f80902-de03-45a5-86d3-561214f70782",
   "metadata": {
    "tags": []
   },
   "outputs": [],
   "source": [
    "def extract_answer(row, sm_model_predictor, prompt_mgr):\n",
    "    multichoice = prompt_mgr.bind('multichoice_query').render(query=row['output'])\n",
    "    \n",
    "    payload = {\n",
    "        \"inputs\": [[\n",
    "            {\"role\": \"user\", \"content\": f\"{multichoice}\"},\n",
    "        ]],\n",
    "        \"parameters\": {\"max_new_tokens\": 512, \"top_p\": 0.9, \"temperature\": 0.6}\n",
    "    }\n",
    "    \n",
    "    model_predictor = sm_model_predictor\n",
    "    \n",
    "    response = predictor.predict(payload, custom_attributes='accept_eula=true')\n",
    "    \n",
    "    output = response\n",
    "    \n",
    "    return {'output': output[0]['generation']['content']} "
   ]
  },
  {
   "cell_type": "code",
   "execution_count": 77,
   "id": "c5ab5748-9973-4482-86bd-0d6a1b1e6b55",
   "metadata": {
    "tags": []
   },
   "outputs": [],
   "source": [
    "# llama_2_7b_swapped_df\n",
    "temp_df = llama_2_7b_swapped_df\n",
    "\n",
    "# Create an empty list to store the results\n",
    "results_list = []\n",
    "\n",
    "# Iterate over each row in the DataFrame\n",
    "for i in range(len(df)):\n",
    "    result = extract_answer(temp_df.loc[i], predictor, pm)\n",
    "    results_list.append(result)\n",
    "\n",
    "# Create a new DataFrame from the results list\n",
    "llama_2_7b_swapped_df_extracted = pd.DataFrame(results_list)\n",
    "\n",
    "llama_2_7b_swapped_df_extracted.to_json('Llama-2-7b-output-swapped-extracted.json')"
   ]
  },
  {
   "cell_type": "code",
   "execution_count": 81,
   "id": "b19d8da9-dd30-456c-8010-4152d80d7994",
   "metadata": {
    "tags": []
   },
   "outputs": [],
   "source": [
    "# llama_2_7b_no_swap_df\n",
    "temp_df = llama_2_7b_no_swap_df\n",
    "\n",
    "# Create an empty list to store the results\n",
    "results_list = []\n",
    "\n",
    "# Iterate over each row in the DataFrame\n",
    "for i in range(len(df)):\n",
    "    result = extract_answer(temp_df.loc[i], predictor, pm)\n",
    "    results_list.append(result)\n",
    "\n",
    "# Create a new DataFrame from the results list\n",
    "llama_2_7b_no_swap_df_extracted = pd.DataFrame(results_list)\n",
    "\n",
    "llama_2_7b_no_swap_df_extracted.to_json('Llama-2-7b-output-no-swap-extracted.json')"
   ]
  },
  {
   "cell_type": "code",
   "execution_count": 82,
   "id": "7c367db4-c7b0-4026-a6ab-7319b811701a",
   "metadata": {
    "tags": []
   },
   "outputs": [],
   "source": [
    "# llama_2_13b_swapped_df\n",
    "temp_df = llama_2_13b_swapped_df\n",
    "\n",
    "# Create an empty list to store the results\n",
    "results_list = []\n",
    "\n",
    "# Iterate over each row in the DataFrame\n",
    "for i in range(len(df)):\n",
    "    result = extract_answer(temp_df.loc[i], predictor, pm)\n",
    "    results_list.append(result)\n",
    "\n",
    "# Create a new DataFrame from the results list\n",
    "llama_2_13b_swapped_df_extracted = pd.DataFrame(results_list)\n",
    "\n",
    "llama_2_13b_swapped_df_extracted.to_json('Llama-2-13b-output-swapped-extracted.json')"
   ]
  },
  {
   "cell_type": "code",
   "execution_count": 83,
   "id": "81c3b806-90a2-4216-917f-5751343b95d2",
   "metadata": {
    "tags": []
   },
   "outputs": [],
   "source": [
    "# llama_2_13b_no_swap_df\n",
    "temp_df = llama_2_13b_no_swap_df\n",
    "\n",
    "# Create an empty list to store the results\n",
    "results_list = []\n",
    "\n",
    "# Iterate over each row in the DataFrame\n",
    "for i in range(len(df)):\n",
    "    result = extract_answer(temp_df.loc[i], predictor, pm)\n",
    "    results_list.append(result)\n",
    "\n",
    "# Create a new DataFrame from the results list\n",
    "llama_2_13b_no_swap_df_extracted = pd.DataFrame(results_list)\n",
    "\n",
    "llama_2_13b_no_swap_df_extracted.to_json('Llama-2-13b-output-no-swap-extracted.json')"
   ]
  },
  {
   "cell_type": "code",
   "execution_count": 84,
   "id": "80c55f52-f795-4a97-8a4b-c3506373098e",
   "metadata": {
    "tags": []
   },
   "outputs": [],
   "source": [
    "# llama_2_70b_swapped_df\n",
    "temp_df = llama_2_70b_swapped_df\n",
    "\n",
    "# Create an empty list to store the results\n",
    "results_list = []\n",
    "\n",
    "# Iterate over each row in the DataFrame\n",
    "for i in range(len(df)):\n",
    "    result = extract_answer(temp_df.loc[i], predictor, pm)\n",
    "    results_list.append(result)\n",
    "\n",
    "# Create a new DataFrame from the results list\n",
    "llama_2_70b_swapped_df_extracted = pd.DataFrame(results_list)\n",
    "\n",
    "llama_2_70b_swapped_df_extracted.to_json('Llama-2-70b-output-swapped-extracted.json')"
   ]
  },
  {
   "cell_type": "code",
   "execution_count": 85,
   "id": "04c8030c-6cdb-4096-969b-45fa58fb54d6",
   "metadata": {
    "tags": []
   },
   "outputs": [],
   "source": [
    "# llama_2_70b_no_swap_df\n",
    "temp_df = llama_2_70b_no_swap_df\n",
    "\n",
    "# Create an empty list to store the results\n",
    "results_list = []\n",
    "\n",
    "# Iterate over each row in the DataFrame\n",
    "for i in range(len(df)):\n",
    "    result = extract_answer(temp_df.loc[i], predictor, pm)\n",
    "    results_list.append(result)\n",
    "\n",
    "# Create a new DataFrame from the results list\n",
    "llama_2_70b_no_swap_df_extracted = pd.DataFrame(results_list)\n",
    "\n",
    "llama_2_70b_no_swap_df_extracted.to_json('Llama-2-70b-output-no-swap-extracted.json')"
   ]
  },
  {
   "cell_type": "code",
   "execution_count": 87,
   "id": "e1fdb2c9-dde9-4e1b-9570-2810a7f370ec",
   "metadata": {
    "tags": []
   },
   "outputs": [],
   "source": [
    "# Delete the SageMaker endpoint\n",
    "predictor.delete_model()\n",
    "predictor.delete_endpoint()"
   ]
  },
  {
   "cell_type": "code",
   "execution_count": null,
   "id": "c3c499c2-b1d0-4df8-81a1-e626e5e17b4a",
   "metadata": {},
   "outputs": [],
   "source": []
  },
  {
   "cell_type": "markdown",
   "id": "d796fc45-47ab-43b6-ba3f-b50df39ffd50",
   "metadata": {},
   "source": [
    "## Analysis"
   ]
  },
  {
   "cell_type": "code",
   "execution_count": null,
   "id": "7a98c0fc-fb16-426a-a95e-7b411801d2d1",
   "metadata": {},
   "outputs": [],
   "source": [
    "# list of dataframes\n",
    "\n",
    "# llama_2_7b_swapped_df\n",
    "# llama_2_7b_swapped_df_extracted\n",
    "# llama_2_7b_no_swap_df\n",
    "# llama_2_7b_no_swap_df_extracted\n",
    "\n",
    "# llama_2_13b_swapped_df\n",
    "# llama_2_13b_swapped_df_extracted\n",
    "# llama_2_13b_no_swap_df\n",
    "# llama_2_13b_no_swap_df_extracted\n",
    "\n",
    "# llama_2_70b_swapped_df\n",
    "# llama_2_70b_swapped_df_extracted\n",
    "# llama_2_70b_no_swap_df\n",
    "# llama_2_70b_no_swap_df_extracted"
   ]
  },
  {
   "cell_type": "code",
   "execution_count": 88,
   "id": "911c54c0-2bf3-491a-a1df-925dae0b0deb",
   "metadata": {
    "tags": []
   },
   "outputs": [],
   "source": [
    "llama_2_7b_swapped_df.rename(columns={'output': '7b_swapped_output'}, inplace=True)\n",
    "llama_2_7b_no_swap_df.rename(columns={'output': '7b_no_swap_output'}, inplace=True)\n",
    "\n",
    "llama_2_13b_swapped_df.rename(columns={'output': '13b_swapped_output'}, inplace=True)\n",
    "llama_2_13b_no_swap_df.rename(columns={'output': '13b_no_swap_output'}, inplace=True)\n",
    "\n",
    "llama_2_70b_swapped_df.rename(columns={'output': '70b_swapped_output'}, inplace=True)\n",
    "llama_2_70b_no_swap_df.rename(columns={'output': '70b_no_swap_output'}, inplace=True)\n",
    "\n",
    "\n",
    "llama_2_7b_swapped_df_extracted.rename(columns={'output': '7b_swapped_output_extracted'}, inplace=True)\n",
    "llama_2_7b_no_swap_df_extracted.rename(columns={'output': '7b_no_swap_output_extracted'}, inplace=True)\n",
    "\n",
    "llama_2_13b_swapped_df_extracted.rename(columns={'output': '13b_swapped_output_extracted'}, inplace=True)\n",
    "llama_2_13b_no_swap_df_extracted.rename(columns={'output': '13b_no_swap_output_extracted'}, inplace=True)\n",
    "\n",
    "llama_2_70b_swapped_df_extracted.rename(columns={'output': '70b_swapped_output_extracted'}, inplace=True)\n",
    "llama_2_70b_no_swap_df_extracted.rename(columns={'output': '70b_no_swap_output_extracted'}, inplace=True)"
   ]
  },
  {
   "cell_type": "code",
   "execution_count": 105,
   "id": "fda52d46-0e6f-4477-a90f-4a60fabc07eb",
   "metadata": {
    "tags": []
   },
   "outputs": [],
   "source": [
    "combined_df = pd.concat([input_df, \n",
    "                         llama_2_7b_swapped_df, \n",
    "                         llama_2_7b_swapped_df_extracted,\n",
    "                         llama_2_7b_no_swap_df,\n",
    "                         llama_2_7b_no_swap_df_extracted,\n",
    "                         llama_2_13b_swapped_df, \n",
    "                         llama_2_13b_swapped_df_extracted,\n",
    "                         llama_2_13b_no_swap_df,\n",
    "                         llama_2_13b_no_swap_df_extracted,\n",
    "                         llama_2_70b_swapped_df, \n",
    "                         llama_2_70b_swapped_df_extracted,\n",
    "                         llama_2_70b_no_swap_df,\n",
    "                         llama_2_70b_no_swap_df_extracted,], axis=1)"
   ]
  },
  {
   "cell_type": "code",
   "execution_count": 106,
   "id": "5c26e2ba-8ddb-4696-8196-6da5851469e6",
   "metadata": {
    "tags": []
   },
   "outputs": [
    {
     "data": {
      "text/html": [
       "<div>\n",
       "<style scoped>\n",
       "    .dataframe tbody tr th:only-of-type {\n",
       "        vertical-align: middle;\n",
       "    }\n",
       "\n",
       "    .dataframe tbody tr th {\n",
       "        vertical-align: top;\n",
       "    }\n",
       "\n",
       "    .dataframe thead th {\n",
       "        text-align: right;\n",
       "    }\n",
       "</style>\n",
       "<table border=\"1\" class=\"dataframe\">\n",
       "  <thead>\n",
       "    <tr style=\"text-align: right;\">\n",
       "      <th></th>\n",
       "      <th>article_id</th>\n",
       "      <th>article_sent</th>\n",
       "      <th>correct_sent</th>\n",
       "      <th>correct_sent_id</th>\n",
       "      <th>incorrect_sent</th>\n",
       "      <th>incorrect_sent_id</th>\n",
       "      <th>7b_swapped_output</th>\n",
       "      <th>7b_swapped_output_extracted</th>\n",
       "      <th>7b_no_swap_output</th>\n",
       "      <th>7b_no_swap_output_extracted</th>\n",
       "      <th>13b_swapped_output</th>\n",
       "      <th>13b_swapped_output_extracted</th>\n",
       "      <th>13b_no_swap_output</th>\n",
       "      <th>13b_no_swap_output_extracted</th>\n",
       "      <th>70b_swapped_output</th>\n",
       "      <th>70b_swapped_output_extracted</th>\n",
       "      <th>70b_no_swap_output</th>\n",
       "      <th>70b_no_swap_output_extracted</th>\n",
       "    </tr>\n",
       "  </thead>\n",
       "  <tbody>\n",
       "    <tr>\n",
       "      <th>0</th>\n",
       "      <td>67c3b0a2da09ce32a83c098da1e0aff034e790d0</td>\n",
       "      <td>the abc have reported that those who receive c...</td>\n",
       "      <td>those who receive centrelink payments made up ...</td>\n",
       "      <td>84-0</td>\n",
       "      <td>the abc have reported that those who receive c...</td>\n",
       "      <td>40-0</td>\n",
       "      <td>Based on the article sentence provided, Summa...</td>\n",
       "      <td>B</td>\n",
       "      <td>Based on the article sentence provided, I wou...</td>\n",
       "      <td>B</td>\n",
       "      <td>Based on the information provided in the arti...</td>\n",
       "      <td>B</td>\n",
       "      <td>Based on the information provided in the arti...</td>\n",
       "      <td>A</td>\n",
       "      <td>The correct answer is (B) those who receive c...</td>\n",
       "      <td>B</td>\n",
       "      <td>The correct answer is (A) those who receive c...</td>\n",
       "      <td>A</td>\n",
       "    </tr>\n",
       "    <tr>\n",
       "      <th>1</th>\n",
       "      <td>7c4ae3beb354e0a9f11fa09f8fbb6613a50db5cc</td>\n",
       "      <td>five ambitious clubs are locked in a scramble ...</td>\n",
       "      <td>five ambitious clubs are locked in a scramble ...</td>\n",
       "      <td>44-1</td>\n",
       "      <td>five ambitious clubs are locked in a bid for t...</td>\n",
       "      <td>17-1</td>\n",
       "      <td>Based on the article sentence provided, Summa...</td>\n",
       "      <td>B</td>\n",
       "      <td>Based on the article sentence provided, I wou...</td>\n",
       "      <td>B</td>\n",
       "      <td>Based on the article sentence, the more consi...</td>\n",
       "      <td>B</td>\n",
       "      <td>Based on the article sentence, the more consi...</td>\n",
       "      <td>A</td>\n",
       "      <td>The correct answer is (B) five ambitious club...</td>\n",
       "      <td>B</td>\n",
       "      <td>The correct answer is (A) five ambitious club...</td>\n",
       "      <td>A</td>\n",
       "    </tr>\n",
       "    <tr>\n",
       "      <th>2</th>\n",
       "      <td>7e37b3e3623ae0ab6568e0e73584b16fae0cc00e</td>\n",
       "      <td>but it wasn't until last year that the 25 year...</td>\n",
       "      <td>the 25 year old from pennsylvania went on a le...</td>\n",
       "      <td>45-1</td>\n",
       "      <td>the 25 year old from pennsylvania went viral o...</td>\n",
       "      <td>4-1</td>\n",
       "      <td>Based on the article sentence provided, I wou...</td>\n",
       "      <td>B</td>\n",
       "      <td>Based on the information provided in the arti...</td>\n",
       "      <td>B</td>\n",
       "      <td>Based on the information provided in the arti...</td>\n",
       "      <td>B</td>\n",
       "      <td>Based on the information provided in the arti...</td>\n",
       "      <td>A</td>\n",
       "      <td>The correct answer is (B) the 25 year old fro...</td>\n",
       "      <td>B</td>\n",
       "      <td>The correct answer is A: the 25 year old from...</td>\n",
       "      <td>A</td>\n",
       "    </tr>\n",
       "    <tr>\n",
       "      <th>3</th>\n",
       "      <td>cdbfba47929b459daf474a1a3dee37d2351729ea</td>\n",
       "      <td>seven games involving nimes were investigated ...</td>\n",
       "      <td>seven games involving nimes were investigated ...</td>\n",
       "      <td>93-2</td>\n",
       "      <td>seven games involving nimes were arrested last...</td>\n",
       "      <td>83-2</td>\n",
       "      <td>Based on the article sentence provided, the m...</td>\n",
       "      <td>B</td>\n",
       "      <td>Based on the article sentence provided, the m...</td>\n",
       "      <td>B</td>\n",
       "      <td>Based on the information provided in the arti...</td>\n",
       "      <td>B</td>\n",
       "      <td>Based on the information provided in the arti...</td>\n",
       "      <td>A</td>\n",
       "      <td>The correct answer is (B) seven games involvi...</td>\n",
       "      <td>B</td>\n",
       "      <td>The correct answer is (A) seven games involvi...</td>\n",
       "      <td>A</td>\n",
       "    </tr>\n",
       "    <tr>\n",
       "      <th>4</th>\n",
       "      <td>696ac804af5fcab8853c583f5c97e1eda6e2493a</td>\n",
       "      <td>the driver's side of the windscreen immediatel...</td>\n",
       "      <td>driver's side of the windscreen immediately sh...</td>\n",
       "      <td>61-2</td>\n",
       "      <td>driver's side were immediately shatters and fa...</td>\n",
       "      <td>42-2</td>\n",
       "      <td>Based on the article sentence, Summary B is m...</td>\n",
       "      <td>B</td>\n",
       "      <td>Based on the article sentence, Summary B is m...</td>\n",
       "      <td>B</td>\n",
       "      <td>Based on the article sentence, the more consi...</td>\n",
       "      <td>B</td>\n",
       "      <td>Based on the article sentence, the more consi...</td>\n",
       "      <td>A</td>\n",
       "      <td>The correct answer is (B) driver's side of th...</td>\n",
       "      <td>B</td>\n",
       "      <td>The correct answer is A: \"driver's side of th...</td>\n",
       "      <td>A</td>\n",
       "    </tr>\n",
       "  </tbody>\n",
       "</table>\n",
       "</div>"
      ],
      "text/plain": [
       "                                 article_id  \\\n",
       "0  67c3b0a2da09ce32a83c098da1e0aff034e790d0   \n",
       "1  7c4ae3beb354e0a9f11fa09f8fbb6613a50db5cc   \n",
       "2  7e37b3e3623ae0ab6568e0e73584b16fae0cc00e   \n",
       "3  cdbfba47929b459daf474a1a3dee37d2351729ea   \n",
       "4  696ac804af5fcab8853c583f5c97e1eda6e2493a   \n",
       "\n",
       "                                        article_sent  \\\n",
       "0  the abc have reported that those who receive c...   \n",
       "1  five ambitious clubs are locked in a scramble ...   \n",
       "2  but it wasn't until last year that the 25 year...   \n",
       "3  seven games involving nimes were investigated ...   \n",
       "4  the driver's side of the windscreen immediatel...   \n",
       "\n",
       "                                        correct_sent correct_sent_id  \\\n",
       "0  those who receive centrelink payments made up ...            84-0   \n",
       "1  five ambitious clubs are locked in a scramble ...            44-1   \n",
       "2  the 25 year old from pennsylvania went on a le...            45-1   \n",
       "3  seven games involving nimes were investigated ...            93-2   \n",
       "4  driver's side of the windscreen immediately sh...            61-2   \n",
       "\n",
       "                                      incorrect_sent incorrect_sent_id  \\\n",
       "0  the abc have reported that those who receive c...              40-0   \n",
       "1  five ambitious clubs are locked in a bid for t...              17-1   \n",
       "2  the 25 year old from pennsylvania went viral o...               4-1   \n",
       "3  seven games involving nimes were arrested last...              83-2   \n",
       "4  driver's side were immediately shatters and fa...              42-2   \n",
       "\n",
       "                                   7b_swapped_output  \\\n",
       "0   Based on the article sentence provided, Summa...   \n",
       "1   Based on the article sentence provided, Summa...   \n",
       "2   Based on the article sentence provided, I wou...   \n",
       "3   Based on the article sentence provided, the m...   \n",
       "4   Based on the article sentence, Summary B is m...   \n",
       "\n",
       "  7b_swapped_output_extracted  \\\n",
       "0                           B   \n",
       "1                           B   \n",
       "2                           B   \n",
       "3                           B   \n",
       "4                           B   \n",
       "\n",
       "                                   7b_no_swap_output  \\\n",
       "0   Based on the article sentence provided, I wou...   \n",
       "1   Based on the article sentence provided, I wou...   \n",
       "2   Based on the information provided in the arti...   \n",
       "3   Based on the article sentence provided, the m...   \n",
       "4   Based on the article sentence, Summary B is m...   \n",
       "\n",
       "  7b_no_swap_output_extracted  \\\n",
       "0                           B   \n",
       "1                           B   \n",
       "2                           B   \n",
       "3                           B   \n",
       "4                           B   \n",
       "\n",
       "                                  13b_swapped_output  \\\n",
       "0   Based on the information provided in the arti...   \n",
       "1   Based on the article sentence, the more consi...   \n",
       "2   Based on the information provided in the arti...   \n",
       "3   Based on the information provided in the arti...   \n",
       "4   Based on the article sentence, the more consi...   \n",
       "\n",
       "  13b_swapped_output_extracted  \\\n",
       "0                            B   \n",
       "1                            B   \n",
       "2                            B   \n",
       "3                            B   \n",
       "4                            B   \n",
       "\n",
       "                                  13b_no_swap_output  \\\n",
       "0   Based on the information provided in the arti...   \n",
       "1   Based on the article sentence, the more consi...   \n",
       "2   Based on the information provided in the arti...   \n",
       "3   Based on the information provided in the arti...   \n",
       "4   Based on the article sentence, the more consi...   \n",
       "\n",
       "  13b_no_swap_output_extracted  \\\n",
       "0                            A   \n",
       "1                            A   \n",
       "2                            A   \n",
       "3                            A   \n",
       "4                            A   \n",
       "\n",
       "                                  70b_swapped_output  \\\n",
       "0   The correct answer is (B) those who receive c...   \n",
       "1   The correct answer is (B) five ambitious club...   \n",
       "2   The correct answer is (B) the 25 year old fro...   \n",
       "3   The correct answer is (B) seven games involvi...   \n",
       "4   The correct answer is (B) driver's side of th...   \n",
       "\n",
       "  70b_swapped_output_extracted  \\\n",
       "0                            B   \n",
       "1                            B   \n",
       "2                            B   \n",
       "3                            B   \n",
       "4                            B   \n",
       "\n",
       "                                  70b_no_swap_output  \\\n",
       "0   The correct answer is (A) those who receive c...   \n",
       "1   The correct answer is (A) five ambitious club...   \n",
       "2   The correct answer is A: the 25 year old from...   \n",
       "3   The correct answer is (A) seven games involvi...   \n",
       "4   The correct answer is A: \"driver's side of th...   \n",
       "\n",
       "  70b_no_swap_output_extracted  \n",
       "0                            A  \n",
       "1                            A  \n",
       "2                            A  \n",
       "3                            A  \n",
       "4                            A  "
      ]
     },
     "execution_count": 106,
     "metadata": {},
     "output_type": "execute_result"
    }
   ],
   "source": [
    "combined_df.head()"
   ]
  },
  {
   "cell_type": "code",
   "execution_count": 107,
   "id": "5e983bfc-cff0-407d-800b-e6706fa717a4",
   "metadata": {
    "tags": []
   },
   "outputs": [
    {
     "data": {
      "text/html": [
       "<div>\n",
       "<style scoped>\n",
       "    .dataframe tbody tr th:only-of-type {\n",
       "        vertical-align: middle;\n",
       "    }\n",
       "\n",
       "    .dataframe tbody tr th {\n",
       "        vertical-align: top;\n",
       "    }\n",
       "\n",
       "    .dataframe thead th {\n",
       "        text-align: right;\n",
       "    }\n",
       "</style>\n",
       "<table border=\"1\" class=\"dataframe\">\n",
       "  <thead>\n",
       "    <tr style=\"text-align: right;\">\n",
       "      <th></th>\n",
       "      <th>article_id</th>\n",
       "      <th>article_sent</th>\n",
       "      <th>correct_sent</th>\n",
       "      <th>correct_sent_id</th>\n",
       "      <th>incorrect_sent</th>\n",
       "      <th>incorrect_sent_id</th>\n",
       "      <th>7b_swapped_output</th>\n",
       "      <th>7b_swapped_output_extracted</th>\n",
       "      <th>7b_no_swap_output</th>\n",
       "      <th>7b_no_swap_output_extracted</th>\n",
       "      <th>13b_swapped_output</th>\n",
       "      <th>13b_swapped_output_extracted</th>\n",
       "      <th>13b_no_swap_output</th>\n",
       "      <th>13b_no_swap_output_extracted</th>\n",
       "      <th>70b_swapped_output</th>\n",
       "      <th>70b_swapped_output_extracted</th>\n",
       "      <th>70b_no_swap_output</th>\n",
       "      <th>70b_no_swap_output_extracted</th>\n",
       "    </tr>\n",
       "  </thead>\n",
       "  <tbody>\n",
       "    <tr>\n",
       "      <th>368</th>\n",
       "      <td>7682ecf708029ba1328e6b5b1f8fe841efa92495</td>\n",
       "      <td>former manchester city boss roberto mancini ha...</td>\n",
       "      <td>roberto mancini has turned up the heat on succ...</td>\n",
       "      <td>82-4</td>\n",
       "      <td>roberto mancini has turned up the heat for man...</td>\n",
       "      <td>76-4</td>\n",
       "      <td>Based on the article sentence provided, I wou...</td>\n",
       "      <td>B</td>\n",
       "      <td>Based on the article sentence provided, Summa...</td>\n",
       "      <td>B</td>\n",
       "      <td>Based on the information provided in the arti...</td>\n",
       "      <td>B</td>\n",
       "      <td>Based on the information provided in the arti...</td>\n",
       "      <td>A</td>\n",
       "      <td>The correct answer is (B) Summary B: roberto ...</td>\n",
       "      <td>B</td>\n",
       "      <td>The correct answer is A: roberto mancini has ...</td>\n",
       "      <td>A</td>\n",
       "    </tr>\n",
       "    <tr>\n",
       "      <th>369</th>\n",
       "      <td>7c4ae3beb354e0a9f11fa09f8fbb6613a50db5cc</td>\n",
       "      <td>louis van gaal said that he believed wenger's ...</td>\n",
       "      <td>louis van gaal says he believed wenger is esti...</td>\n",
       "      <td>44-2</td>\n",
       "      <td>louis van gaal says wenger's estimation of the...</td>\n",
       "      <td>86-2</td>\n",
       "      <td>Based on the article sentence, the more consi...</td>\n",
       "      <td>B</td>\n",
       "      <td>Based on the article sentence, the more consi...</td>\n",
       "      <td>B</td>\n",
       "      <td>Based on the article sentence, the more consi...</td>\n",
       "      <td>A</td>\n",
       "      <td>Based on the information provided in the arti...</td>\n",
       "      <td>A</td>\n",
       "      <td>The correct answer is A: louis van gaal says ...</td>\n",
       "      <td>A</td>\n",
       "      <td>The correct answer is (B) louis van gaal says...</td>\n",
       "      <td>B</td>\n",
       "    </tr>\n",
       "    <tr>\n",
       "      <th>370</th>\n",
       "      <td>06819c41879edbe99b8612b552afd80b96356ef7</td>\n",
       "      <td>lloris wearing the scarf after defeat by chels...</td>\n",
       "      <td>lloris wearing the scarf after defeat by chels...</td>\n",
       "      <td>19-2</td>\n",
       "      <td>lloris wearing the scarf after defeat by chels...</td>\n",
       "      <td>12-2</td>\n",
       "      <td>Based on the article sentence provided, the m...</td>\n",
       "      <td>B</td>\n",
       "      <td>Based on the article sentence provided, Summa...</td>\n",
       "      <td>A</td>\n",
       "      <td>Based on the information provided in the arti...</td>\n",
       "      <td>A</td>\n",
       "      <td>Based on the information provided in the arti...</td>\n",
       "      <td>A</td>\n",
       "      <td>A</td>\n",
       "      <td>A</td>\n",
       "      <td>The correct answer is (B) lloris wearing the ...</td>\n",
       "      <td>B</td>\n",
       "    </tr>\n",
       "    <tr>\n",
       "      <th>371</th>\n",
       "      <td>85506154c3f291ddd0cc3935dc09215f9c4437ed</td>\n",
       "      <td>in an anonymous confession to australia's gold...</td>\n",
       "      <td>the woman reveals she once had sex with two gu...</td>\n",
       "      <td>22-2</td>\n",
       "      <td>the woman reveals she was supposed to be seein...</td>\n",
       "      <td>60-2</td>\n",
       "      <td>I cannot provide an answer to this question a...</td>\n",
       "      <td>Other</td>\n",
       "      <td>I apologize, but I cannot provide an answer t...</td>\n",
       "      <td>Other</td>\n",
       "      <td>Based on the article sentence, the more consi...</td>\n",
       "      <td>B</td>\n",
       "      <td>Based on the information provided in the arti...</td>\n",
       "      <td>A</td>\n",
       "      <td>The correct answer is (B).\\n\\nThe article sen...</td>\n",
       "      <td>B</td>\n",
       "      <td>The correct answer is (A) The woman reveals s...</td>\n",
       "      <td>A</td>\n",
       "    </tr>\n",
       "    <tr>\n",
       "      <th>372</th>\n",
       "      <td>7378d362db4e1308fc139a9a7b7e156fd3547bf1</td>\n",
       "      <td>he was also ordered to pay $ 167 million in re...</td>\n",
       "      <td>he also ordered to pay $ 167 million in restit...</td>\n",
       "      <td>54-2</td>\n",
       "      <td>he was also ordered to pay $ 167 million in da...</td>\n",
       "      <td>49-2</td>\n",
       "      <td>Based on the article sentence provided, the m...</td>\n",
       "      <td>B</td>\n",
       "      <td>Based on the article sentence, Summary A is m...</td>\n",
       "      <td>A</td>\n",
       "      <td>Based on the information provided in the arti...</td>\n",
       "      <td>B</td>\n",
       "      <td>Based on the article sentence, the more consi...</td>\n",
       "      <td>A</td>\n",
       "      <td>The correct answer is (B) he also ordered to ...</td>\n",
       "      <td>B</td>\n",
       "      <td>The correct answer is A: he also ordered to p...</td>\n",
       "      <td>A</td>\n",
       "    </tr>\n",
       "  </tbody>\n",
       "</table>\n",
       "</div>"
      ],
      "text/plain": [
       "                                   article_id  \\\n",
       "368  7682ecf708029ba1328e6b5b1f8fe841efa92495   \n",
       "369  7c4ae3beb354e0a9f11fa09f8fbb6613a50db5cc   \n",
       "370  06819c41879edbe99b8612b552afd80b96356ef7   \n",
       "371  85506154c3f291ddd0cc3935dc09215f9c4437ed   \n",
       "372  7378d362db4e1308fc139a9a7b7e156fd3547bf1   \n",
       "\n",
       "                                          article_sent  \\\n",
       "368  former manchester city boss roberto mancini ha...   \n",
       "369  louis van gaal said that he believed wenger's ...   \n",
       "370  lloris wearing the scarf after defeat by chels...   \n",
       "371  in an anonymous confession to australia's gold...   \n",
       "372  he was also ordered to pay $ 167 million in re...   \n",
       "\n",
       "                                          correct_sent correct_sent_id  \\\n",
       "368  roberto mancini has turned up the heat on succ...            82-4   \n",
       "369  louis van gaal says he believed wenger is esti...            44-2   \n",
       "370  lloris wearing the scarf after defeat by chels...            19-2   \n",
       "371  the woman reveals she once had sex with two gu...            22-2   \n",
       "372  he also ordered to pay $ 167 million in restit...            54-2   \n",
       "\n",
       "                                        incorrect_sent incorrect_sent_id  \\\n",
       "368  roberto mancini has turned up the heat for man...              76-4   \n",
       "369  louis van gaal says wenger's estimation of the...              86-2   \n",
       "370  lloris wearing the scarf after defeat by chels...              12-2   \n",
       "371  the woman reveals she was supposed to be seein...              60-2   \n",
       "372  he was also ordered to pay $ 167 million in da...              49-2   \n",
       "\n",
       "                                     7b_swapped_output  \\\n",
       "368   Based on the article sentence provided, I wou...   \n",
       "369   Based on the article sentence, the more consi...   \n",
       "370   Based on the article sentence provided, the m...   \n",
       "371   I cannot provide an answer to this question a...   \n",
       "372   Based on the article sentence provided, the m...   \n",
       "\n",
       "    7b_swapped_output_extracted  \\\n",
       "368                           B   \n",
       "369                           B   \n",
       "370                           B   \n",
       "371                       Other   \n",
       "372                           B   \n",
       "\n",
       "                                     7b_no_swap_output  \\\n",
       "368   Based on the article sentence provided, Summa...   \n",
       "369   Based on the article sentence, the more consi...   \n",
       "370   Based on the article sentence provided, Summa...   \n",
       "371   I apologize, but I cannot provide an answer t...   \n",
       "372   Based on the article sentence, Summary A is m...   \n",
       "\n",
       "    7b_no_swap_output_extracted  \\\n",
       "368                           B   \n",
       "369                           B   \n",
       "370                           A   \n",
       "371                       Other   \n",
       "372                           A   \n",
       "\n",
       "                                    13b_swapped_output  \\\n",
       "368   Based on the information provided in the arti...   \n",
       "369   Based on the article sentence, the more consi...   \n",
       "370   Based on the information provided in the arti...   \n",
       "371   Based on the article sentence, the more consi...   \n",
       "372   Based on the information provided in the arti...   \n",
       "\n",
       "    13b_swapped_output_extracted  \\\n",
       "368                            B   \n",
       "369                            A   \n",
       "370                            A   \n",
       "371                            B   \n",
       "372                            B   \n",
       "\n",
       "                                    13b_no_swap_output  \\\n",
       "368   Based on the information provided in the arti...   \n",
       "369   Based on the information provided in the arti...   \n",
       "370   Based on the information provided in the arti...   \n",
       "371   Based on the information provided in the arti...   \n",
       "372   Based on the article sentence, the more consi...   \n",
       "\n",
       "    13b_no_swap_output_extracted  \\\n",
       "368                            A   \n",
       "369                            A   \n",
       "370                            A   \n",
       "371                            A   \n",
       "372                            A   \n",
       "\n",
       "                                    70b_swapped_output  \\\n",
       "368   The correct answer is (B) Summary B: roberto ...   \n",
       "369   The correct answer is A: louis van gaal says ...   \n",
       "370                                                  A   \n",
       "371   The correct answer is (B).\\n\\nThe article sen...   \n",
       "372   The correct answer is (B) he also ordered to ...   \n",
       "\n",
       "    70b_swapped_output_extracted  \\\n",
       "368                            B   \n",
       "369                            A   \n",
       "370                            A   \n",
       "371                            B   \n",
       "372                            B   \n",
       "\n",
       "                                    70b_no_swap_output  \\\n",
       "368   The correct answer is A: roberto mancini has ...   \n",
       "369   The correct answer is (B) louis van gaal says...   \n",
       "370   The correct answer is (B) lloris wearing the ...   \n",
       "371   The correct answer is (A) The woman reveals s...   \n",
       "372   The correct answer is A: he also ordered to p...   \n",
       "\n",
       "    70b_no_swap_output_extracted  \n",
       "368                            A  \n",
       "369                            B  \n",
       "370                            B  \n",
       "371                            A  \n",
       "372                            A  "
      ]
     },
     "execution_count": 107,
     "metadata": {},
     "output_type": "execute_result"
    }
   ],
   "source": [
    "combined_df.tail()"
   ]
  },
  {
   "cell_type": "code",
   "execution_count": 110,
   "id": "4d37504f-97dc-4b59-9cd9-baba779f4975",
   "metadata": {
    "tags": []
   },
   "outputs": [],
   "source": [
    "import re \n",
    "\n",
    "def remove_spaces(text):\n",
    "    return re.sub(r\"\\s+\", \"\", text)"
   ]
  },
  {
   "cell_type": "code",
   "execution_count": 112,
   "id": "0b267f76-4d2c-40d5-bc2b-d4808869d2d0",
   "metadata": {
    "tags": []
   },
   "outputs": [],
   "source": [
    "combined_df['7b_swapped_output_extracted'] = combined_df['7b_swapped_output_extracted'].apply(remove_spaces)\n",
    "combined_df['7b_no_swap_output_extracted'] = combined_df['7b_no_swap_output_extracted'].apply(remove_spaces)\n",
    "\n",
    "combined_df['13b_swapped_output_extracted'] = combined_df['13b_swapped_output_extracted'].apply(remove_spaces)\n",
    "combined_df['13b_no_swap_output_extracted'] = combined_df['13b_no_swap_output_extracted'].apply(remove_spaces)\n",
    "\n",
    "combined_df['70b_swapped_output_extracted'] = combined_df['70b_swapped_output_extracted'].apply(remove_spaces)\n",
    "combined_df['70b_no_swap_output_extracted'] = combined_df['70b_no_swap_output_extracted'].apply(remove_spaces)"
   ]
  },
  {
   "cell_type": "code",
   "execution_count": 117,
   "id": "4a0d9028-2bd4-473e-932a-09cb572ef4e3",
   "metadata": {
    "tags": []
   },
   "outputs": [],
   "source": [
    "def is_correct(row): \n",
    "    if (row[0] == 'B' and row[1] == 'A'):\n",
    "        return 'Y'\n",
    "    if (row[0] == row[1]):\n",
    "        return row[0]*2\n",
    "    return 'N'"
   ]
  },
  {
   "cell_type": "code",
   "execution_count": 118,
   "id": "8d74b041-01d7-4b15-92aa-36c2e6328db6",
   "metadata": {
    "tags": []
   },
   "outputs": [],
   "source": [
    "combined_df['7b_analysis_result'] = combined_df[['7b_swapped_output_extracted', '7b_no_swap_output_extracted']].apply(is_correct, axis=1)\n",
    "combined_df['13b_analysis_result'] = combined_df[['13b_swapped_output_extracted', '13b_no_swap_output_extracted']].apply(is_correct, axis=1)\n",
    "combined_df['70b_analysis_result'] = combined_df[['70b_swapped_output_extracted', '70b_no_swap_output_extracted']].apply(is_correct, axis=1)"
   ]
  },
  {
   "cell_type": "code",
   "execution_count": 120,
   "id": "4afb0033-ffe7-4ec2-8090-3a6d8948ccf8",
   "metadata": {
    "tags": []
   },
   "outputs": [
    {
     "data": {
      "text/html": [
       "<div>\n",
       "<style scoped>\n",
       "    .dataframe tbody tr th:only-of-type {\n",
       "        vertical-align: middle;\n",
       "    }\n",
       "\n",
       "    .dataframe tbody tr th {\n",
       "        vertical-align: top;\n",
       "    }\n",
       "\n",
       "    .dataframe thead th {\n",
       "        text-align: right;\n",
       "    }\n",
       "</style>\n",
       "<table border=\"1\" class=\"dataframe\">\n",
       "  <thead>\n",
       "    <tr style=\"text-align: right;\">\n",
       "      <th></th>\n",
       "      <th>article_id</th>\n",
       "      <th>article_sent</th>\n",
       "      <th>correct_sent</th>\n",
       "      <th>correct_sent_id</th>\n",
       "      <th>incorrect_sent</th>\n",
       "      <th>incorrect_sent_id</th>\n",
       "      <th>7b_swapped_output</th>\n",
       "      <th>7b_swapped_output_extracted</th>\n",
       "      <th>7b_no_swap_output</th>\n",
       "      <th>7b_no_swap_output_extracted</th>\n",
       "      <th>...</th>\n",
       "      <th>13b_swapped_output_extracted</th>\n",
       "      <th>13b_no_swap_output</th>\n",
       "      <th>13b_no_swap_output_extracted</th>\n",
       "      <th>70b_swapped_output</th>\n",
       "      <th>70b_swapped_output_extracted</th>\n",
       "      <th>70b_no_swap_output</th>\n",
       "      <th>70b_no_swap_output_extracted</th>\n",
       "      <th>7b_analysis_result</th>\n",
       "      <th>13b_analysis_result</th>\n",
       "      <th>70b_analysis_result</th>\n",
       "    </tr>\n",
       "  </thead>\n",
       "  <tbody>\n",
       "    <tr>\n",
       "      <th>0</th>\n",
       "      <td>67c3b0a2da09ce32a83c098da1e0aff034e790d0</td>\n",
       "      <td>the abc have reported that those who receive c...</td>\n",
       "      <td>those who receive centrelink payments made up ...</td>\n",
       "      <td>84-0</td>\n",
       "      <td>the abc have reported that those who receive c...</td>\n",
       "      <td>40-0</td>\n",
       "      <td>Based on the article sentence provided, Summa...</td>\n",
       "      <td>B</td>\n",
       "      <td>Based on the article sentence provided, I wou...</td>\n",
       "      <td>B</td>\n",
       "      <td>...</td>\n",
       "      <td>B</td>\n",
       "      <td>Based on the information provided in the arti...</td>\n",
       "      <td>A</td>\n",
       "      <td>The correct answer is (B) those who receive c...</td>\n",
       "      <td>B</td>\n",
       "      <td>The correct answer is (A) those who receive c...</td>\n",
       "      <td>A</td>\n",
       "      <td>BB</td>\n",
       "      <td>Y</td>\n",
       "      <td>Y</td>\n",
       "    </tr>\n",
       "    <tr>\n",
       "      <th>1</th>\n",
       "      <td>7c4ae3beb354e0a9f11fa09f8fbb6613a50db5cc</td>\n",
       "      <td>five ambitious clubs are locked in a scramble ...</td>\n",
       "      <td>five ambitious clubs are locked in a scramble ...</td>\n",
       "      <td>44-1</td>\n",
       "      <td>five ambitious clubs are locked in a bid for t...</td>\n",
       "      <td>17-1</td>\n",
       "      <td>Based on the article sentence provided, Summa...</td>\n",
       "      <td>B</td>\n",
       "      <td>Based on the article sentence provided, I wou...</td>\n",
       "      <td>B</td>\n",
       "      <td>...</td>\n",
       "      <td>B</td>\n",
       "      <td>Based on the article sentence, the more consi...</td>\n",
       "      <td>A</td>\n",
       "      <td>The correct answer is (B) five ambitious club...</td>\n",
       "      <td>B</td>\n",
       "      <td>The correct answer is (A) five ambitious club...</td>\n",
       "      <td>A</td>\n",
       "      <td>BB</td>\n",
       "      <td>Y</td>\n",
       "      <td>Y</td>\n",
       "    </tr>\n",
       "    <tr>\n",
       "      <th>2</th>\n",
       "      <td>7e37b3e3623ae0ab6568e0e73584b16fae0cc00e</td>\n",
       "      <td>but it wasn't until last year that the 25 year...</td>\n",
       "      <td>the 25 year old from pennsylvania went on a le...</td>\n",
       "      <td>45-1</td>\n",
       "      <td>the 25 year old from pennsylvania went viral o...</td>\n",
       "      <td>4-1</td>\n",
       "      <td>Based on the article sentence provided, I wou...</td>\n",
       "      <td>B</td>\n",
       "      <td>Based on the information provided in the arti...</td>\n",
       "      <td>B</td>\n",
       "      <td>...</td>\n",
       "      <td>B</td>\n",
       "      <td>Based on the information provided in the arti...</td>\n",
       "      <td>A</td>\n",
       "      <td>The correct answer is (B) the 25 year old fro...</td>\n",
       "      <td>B</td>\n",
       "      <td>The correct answer is A: the 25 year old from...</td>\n",
       "      <td>A</td>\n",
       "      <td>BB</td>\n",
       "      <td>Y</td>\n",
       "      <td>Y</td>\n",
       "    </tr>\n",
       "    <tr>\n",
       "      <th>3</th>\n",
       "      <td>cdbfba47929b459daf474a1a3dee37d2351729ea</td>\n",
       "      <td>seven games involving nimes were investigated ...</td>\n",
       "      <td>seven games involving nimes were investigated ...</td>\n",
       "      <td>93-2</td>\n",
       "      <td>seven games involving nimes were arrested last...</td>\n",
       "      <td>83-2</td>\n",
       "      <td>Based on the article sentence provided, the m...</td>\n",
       "      <td>B</td>\n",
       "      <td>Based on the article sentence provided, the m...</td>\n",
       "      <td>B</td>\n",
       "      <td>...</td>\n",
       "      <td>B</td>\n",
       "      <td>Based on the information provided in the arti...</td>\n",
       "      <td>A</td>\n",
       "      <td>The correct answer is (B) seven games involvi...</td>\n",
       "      <td>B</td>\n",
       "      <td>The correct answer is (A) seven games involvi...</td>\n",
       "      <td>A</td>\n",
       "      <td>BB</td>\n",
       "      <td>Y</td>\n",
       "      <td>Y</td>\n",
       "    </tr>\n",
       "    <tr>\n",
       "      <th>4</th>\n",
       "      <td>696ac804af5fcab8853c583f5c97e1eda6e2493a</td>\n",
       "      <td>the driver's side of the windscreen immediatel...</td>\n",
       "      <td>driver's side of the windscreen immediately sh...</td>\n",
       "      <td>61-2</td>\n",
       "      <td>driver's side were immediately shatters and fa...</td>\n",
       "      <td>42-2</td>\n",
       "      <td>Based on the article sentence, Summary B is m...</td>\n",
       "      <td>B</td>\n",
       "      <td>Based on the article sentence, Summary B is m...</td>\n",
       "      <td>B</td>\n",
       "      <td>...</td>\n",
       "      <td>B</td>\n",
       "      <td>Based on the article sentence, the more consi...</td>\n",
       "      <td>A</td>\n",
       "      <td>The correct answer is (B) driver's side of th...</td>\n",
       "      <td>B</td>\n",
       "      <td>The correct answer is A: \"driver's side of th...</td>\n",
       "      <td>A</td>\n",
       "      <td>BB</td>\n",
       "      <td>Y</td>\n",
       "      <td>Y</td>\n",
       "    </tr>\n",
       "  </tbody>\n",
       "</table>\n",
       "<p>5 rows × 21 columns</p>\n",
       "</div>"
      ],
      "text/plain": [
       "                                 article_id  \\\n",
       "0  67c3b0a2da09ce32a83c098da1e0aff034e790d0   \n",
       "1  7c4ae3beb354e0a9f11fa09f8fbb6613a50db5cc   \n",
       "2  7e37b3e3623ae0ab6568e0e73584b16fae0cc00e   \n",
       "3  cdbfba47929b459daf474a1a3dee37d2351729ea   \n",
       "4  696ac804af5fcab8853c583f5c97e1eda6e2493a   \n",
       "\n",
       "                                        article_sent  \\\n",
       "0  the abc have reported that those who receive c...   \n",
       "1  five ambitious clubs are locked in a scramble ...   \n",
       "2  but it wasn't until last year that the 25 year...   \n",
       "3  seven games involving nimes were investigated ...   \n",
       "4  the driver's side of the windscreen immediatel...   \n",
       "\n",
       "                                        correct_sent correct_sent_id  \\\n",
       "0  those who receive centrelink payments made up ...            84-0   \n",
       "1  five ambitious clubs are locked in a scramble ...            44-1   \n",
       "2  the 25 year old from pennsylvania went on a le...            45-1   \n",
       "3  seven games involving nimes were investigated ...            93-2   \n",
       "4  driver's side of the windscreen immediately sh...            61-2   \n",
       "\n",
       "                                      incorrect_sent incorrect_sent_id  \\\n",
       "0  the abc have reported that those who receive c...              40-0   \n",
       "1  five ambitious clubs are locked in a bid for t...              17-1   \n",
       "2  the 25 year old from pennsylvania went viral o...               4-1   \n",
       "3  seven games involving nimes were arrested last...              83-2   \n",
       "4  driver's side were immediately shatters and fa...              42-2   \n",
       "\n",
       "                                   7b_swapped_output  \\\n",
       "0   Based on the article sentence provided, Summa...   \n",
       "1   Based on the article sentence provided, Summa...   \n",
       "2   Based on the article sentence provided, I wou...   \n",
       "3   Based on the article sentence provided, the m...   \n",
       "4   Based on the article sentence, Summary B is m...   \n",
       "\n",
       "  7b_swapped_output_extracted  \\\n",
       "0                           B   \n",
       "1                           B   \n",
       "2                           B   \n",
       "3                           B   \n",
       "4                           B   \n",
       "\n",
       "                                   7b_no_swap_output  \\\n",
       "0   Based on the article sentence provided, I wou...   \n",
       "1   Based on the article sentence provided, I wou...   \n",
       "2   Based on the information provided in the arti...   \n",
       "3   Based on the article sentence provided, the m...   \n",
       "4   Based on the article sentence, Summary B is m...   \n",
       "\n",
       "  7b_no_swap_output_extracted  ... 13b_swapped_output_extracted  \\\n",
       "0                           B  ...                            B   \n",
       "1                           B  ...                            B   \n",
       "2                           B  ...                            B   \n",
       "3                           B  ...                            B   \n",
       "4                           B  ...                            B   \n",
       "\n",
       "                                  13b_no_swap_output  \\\n",
       "0   Based on the information provided in the arti...   \n",
       "1   Based on the article sentence, the more consi...   \n",
       "2   Based on the information provided in the arti...   \n",
       "3   Based on the information provided in the arti...   \n",
       "4   Based on the article sentence, the more consi...   \n",
       "\n",
       "  13b_no_swap_output_extracted  \\\n",
       "0                            A   \n",
       "1                            A   \n",
       "2                            A   \n",
       "3                            A   \n",
       "4                            A   \n",
       "\n",
       "                                  70b_swapped_output  \\\n",
       "0   The correct answer is (B) those who receive c...   \n",
       "1   The correct answer is (B) five ambitious club...   \n",
       "2   The correct answer is (B) the 25 year old fro...   \n",
       "3   The correct answer is (B) seven games involvi...   \n",
       "4   The correct answer is (B) driver's side of th...   \n",
       "\n",
       "  70b_swapped_output_extracted  \\\n",
       "0                            B   \n",
       "1                            B   \n",
       "2                            B   \n",
       "3                            B   \n",
       "4                            B   \n",
       "\n",
       "                                  70b_no_swap_output  \\\n",
       "0   The correct answer is (A) those who receive c...   \n",
       "1   The correct answer is (A) five ambitious club...   \n",
       "2   The correct answer is A: the 25 year old from...   \n",
       "3   The correct answer is (A) seven games involvi...   \n",
       "4   The correct answer is A: \"driver's side of th...   \n",
       "\n",
       "  70b_no_swap_output_extracted 7b_analysis_result 13b_analysis_result  \\\n",
       "0                            A                 BB                   Y   \n",
       "1                            A                 BB                   Y   \n",
       "2                            A                 BB                   Y   \n",
       "3                            A                 BB                   Y   \n",
       "4                            A                 BB                   Y   \n",
       "\n",
       "  70b_analysis_result  \n",
       "0                   Y  \n",
       "1                   Y  \n",
       "2                   Y  \n",
       "3                   Y  \n",
       "4                   Y  \n",
       "\n",
       "[5 rows x 21 columns]"
      ]
     },
     "execution_count": 120,
     "metadata": {},
     "output_type": "execute_result"
    }
   ],
   "source": [
    "combined_df.head()"
   ]
  },
  {
   "cell_type": "code",
   "execution_count": 123,
   "id": "6a4b03ca-75e4-4630-9b55-57e8b7141324",
   "metadata": {
    "tags": []
   },
   "outputs": [],
   "source": [
    "def acc_bias(col):\n",
    "    results = combined_df[col].value_counts()/len(combined_df)\n",
    "    acc = results['Y']\n",
    "    if 'AA' not in results:\n",
    "        results['AA'] = 0\n",
    "    if 'BB' not in results: \n",
    "        results['BB'] = 0\n",
    "        \n",
    "    bias = abs(results['AA'] - results['BB'])\n",
    "    aa_ratio = results['AA'] * 100\n",
    "    bb_ratio = results['BB'] * 100\n",
    "    if results['AA'] > results['BB']:\n",
    "        towards = 'A'\n",
    "    else:\n",
    "        towards = 'B'\n",
    "        \n",
    "    return acc, aa_ratio, bb_ratio, bias, towards"
   ]
  },
  {
   "cell_type": "code",
   "execution_count": 125,
   "id": "ec483a0f-f195-42c1-931d-63c37791f951",
   "metadata": {
    "tags": []
   },
   "outputs": [
    {
     "name": "stdout",
     "output_type": "stream",
     "text": [
      "7b:   \tAccuracy: 23.1%  \tAA: 1.1%\tBB: 64.6%\tBias: 63.5% towards B\n",
      "13b:   \tAccuracy: 56.3%  \tAA: 32.4%\tBB: 3.2%\tBias: 29.2% towards A\n",
      "70b:   \tAccuracy: 84.5%  \tAA: 3.5%\tBB: 8.0%\tBias: 4.6% towards B\n"
     ]
    }
   ],
   "source": [
    "for m in ['7b', '13b', '70b']:\n",
    "    acc, aa_ratio, bb_ratio, bias, towards = acc_bias(m+'_analysis_result')\n",
    "    acc = acc*100\n",
    "    bias = bias*100\n",
    "    print(f'{m}:   \\tAccuracy: {acc:.1f}%  \\tAA: {aa_ratio:.1f}%\\tBB: {bb_ratio:.1f}%\\tBias: {bias:.1f}% towards {towards}')"
   ]
  },
  {
   "cell_type": "code",
   "execution_count": null,
   "id": "3beceeb6-6dc6-4a06-9d64-128305db1959",
   "metadata": {},
   "outputs": [],
   "source": []
  },
  {
   "cell_type": "code",
   "execution_count": null,
   "id": "36bccc5d-768f-4fda-b174-4cd19d188810",
   "metadata": {},
   "outputs": [],
   "source": []
  },
  {
   "cell_type": "code",
   "execution_count": null,
   "id": "e05ed558-320f-4efc-8b1d-b8c51b5afe0e",
   "metadata": {},
   "outputs": [],
   "source": []
  },
  {
   "cell_type": "code",
   "execution_count": null,
   "id": "41ed6c62-a439-4c85-8745-94c0a5b5fa04",
   "metadata": {},
   "outputs": [],
   "source": []
  },
  {
   "cell_type": "code",
   "execution_count": null,
   "id": "7b27cfaf-e60d-4219-8625-046966b7f288",
   "metadata": {},
   "outputs": [],
   "source": []
  },
  {
   "cell_type": "code",
   "execution_count": null,
   "id": "cd6701ee-37d4-4e7d-920b-59eba14f4d2e",
   "metadata": {},
   "outputs": [],
   "source": []
  },
  {
   "cell_type": "code",
   "execution_count": null,
   "id": "ee233ac9-689c-4f2e-99c0-d7dba6567fc5",
   "metadata": {},
   "outputs": [],
   "source": []
  }
 ],
 "metadata": {
  "availableInstances": [
   {
    "_defaultOrder": 0,
    "_isFastLaunch": true,
    "category": "General purpose",
    "gpuNum": 0,
    "hideHardwareSpecs": false,
    "memoryGiB": 4,
    "name": "ml.t3.medium",
    "vcpuNum": 2
   },
   {
    "_defaultOrder": 1,
    "_isFastLaunch": false,
    "category": "General purpose",
    "gpuNum": 0,
    "hideHardwareSpecs": false,
    "memoryGiB": 8,
    "name": "ml.t3.large",
    "vcpuNum": 2
   },
   {
    "_defaultOrder": 2,
    "_isFastLaunch": false,
    "category": "General purpose",
    "gpuNum": 0,
    "hideHardwareSpecs": false,
    "memoryGiB": 16,
    "name": "ml.t3.xlarge",
    "vcpuNum": 4
   },
   {
    "_defaultOrder": 3,
    "_isFastLaunch": false,
    "category": "General purpose",
    "gpuNum": 0,
    "hideHardwareSpecs": false,
    "memoryGiB": 32,
    "name": "ml.t3.2xlarge",
    "vcpuNum": 8
   },
   {
    "_defaultOrder": 4,
    "_isFastLaunch": true,
    "category": "General purpose",
    "gpuNum": 0,
    "hideHardwareSpecs": false,
    "memoryGiB": 8,
    "name": "ml.m5.large",
    "vcpuNum": 2
   },
   {
    "_defaultOrder": 5,
    "_isFastLaunch": false,
    "category": "General purpose",
    "gpuNum": 0,
    "hideHardwareSpecs": false,
    "memoryGiB": 16,
    "name": "ml.m5.xlarge",
    "vcpuNum": 4
   },
   {
    "_defaultOrder": 6,
    "_isFastLaunch": false,
    "category": "General purpose",
    "gpuNum": 0,
    "hideHardwareSpecs": false,
    "memoryGiB": 32,
    "name": "ml.m5.2xlarge",
    "vcpuNum": 8
   },
   {
    "_defaultOrder": 7,
    "_isFastLaunch": false,
    "category": "General purpose",
    "gpuNum": 0,
    "hideHardwareSpecs": false,
    "memoryGiB": 64,
    "name": "ml.m5.4xlarge",
    "vcpuNum": 16
   },
   {
    "_defaultOrder": 8,
    "_isFastLaunch": false,
    "category": "General purpose",
    "gpuNum": 0,
    "hideHardwareSpecs": false,
    "memoryGiB": 128,
    "name": "ml.m5.8xlarge",
    "vcpuNum": 32
   },
   {
    "_defaultOrder": 9,
    "_isFastLaunch": false,
    "category": "General purpose",
    "gpuNum": 0,
    "hideHardwareSpecs": false,
    "memoryGiB": 192,
    "name": "ml.m5.12xlarge",
    "vcpuNum": 48
   },
   {
    "_defaultOrder": 10,
    "_isFastLaunch": false,
    "category": "General purpose",
    "gpuNum": 0,
    "hideHardwareSpecs": false,
    "memoryGiB": 256,
    "name": "ml.m5.16xlarge",
    "vcpuNum": 64
   },
   {
    "_defaultOrder": 11,
    "_isFastLaunch": false,
    "category": "General purpose",
    "gpuNum": 0,
    "hideHardwareSpecs": false,
    "memoryGiB": 384,
    "name": "ml.m5.24xlarge",
    "vcpuNum": 96
   },
   {
    "_defaultOrder": 12,
    "_isFastLaunch": false,
    "category": "General purpose",
    "gpuNum": 0,
    "hideHardwareSpecs": false,
    "memoryGiB": 8,
    "name": "ml.m5d.large",
    "vcpuNum": 2
   },
   {
    "_defaultOrder": 13,
    "_isFastLaunch": false,
    "category": "General purpose",
    "gpuNum": 0,
    "hideHardwareSpecs": false,
    "memoryGiB": 16,
    "name": "ml.m5d.xlarge",
    "vcpuNum": 4
   },
   {
    "_defaultOrder": 14,
    "_isFastLaunch": false,
    "category": "General purpose",
    "gpuNum": 0,
    "hideHardwareSpecs": false,
    "memoryGiB": 32,
    "name": "ml.m5d.2xlarge",
    "vcpuNum": 8
   },
   {
    "_defaultOrder": 15,
    "_isFastLaunch": false,
    "category": "General purpose",
    "gpuNum": 0,
    "hideHardwareSpecs": false,
    "memoryGiB": 64,
    "name": "ml.m5d.4xlarge",
    "vcpuNum": 16
   },
   {
    "_defaultOrder": 16,
    "_isFastLaunch": false,
    "category": "General purpose",
    "gpuNum": 0,
    "hideHardwareSpecs": false,
    "memoryGiB": 128,
    "name": "ml.m5d.8xlarge",
    "vcpuNum": 32
   },
   {
    "_defaultOrder": 17,
    "_isFastLaunch": false,
    "category": "General purpose",
    "gpuNum": 0,
    "hideHardwareSpecs": false,
    "memoryGiB": 192,
    "name": "ml.m5d.12xlarge",
    "vcpuNum": 48
   },
   {
    "_defaultOrder": 18,
    "_isFastLaunch": false,
    "category": "General purpose",
    "gpuNum": 0,
    "hideHardwareSpecs": false,
    "memoryGiB": 256,
    "name": "ml.m5d.16xlarge",
    "vcpuNum": 64
   },
   {
    "_defaultOrder": 19,
    "_isFastLaunch": false,
    "category": "General purpose",
    "gpuNum": 0,
    "hideHardwareSpecs": false,
    "memoryGiB": 384,
    "name": "ml.m5d.24xlarge",
    "vcpuNum": 96
   },
   {
    "_defaultOrder": 20,
    "_isFastLaunch": false,
    "category": "General purpose",
    "gpuNum": 0,
    "hideHardwareSpecs": true,
    "memoryGiB": 0,
    "name": "ml.geospatial.interactive",
    "supportedImageNames": [
     "sagemaker-geospatial-v1-0"
    ],
    "vcpuNum": 0
   },
   {
    "_defaultOrder": 21,
    "_isFastLaunch": true,
    "category": "Compute optimized",
    "gpuNum": 0,
    "hideHardwareSpecs": false,
    "memoryGiB": 4,
    "name": "ml.c5.large",
    "vcpuNum": 2
   },
   {
    "_defaultOrder": 22,
    "_isFastLaunch": false,
    "category": "Compute optimized",
    "gpuNum": 0,
    "hideHardwareSpecs": false,
    "memoryGiB": 8,
    "name": "ml.c5.xlarge",
    "vcpuNum": 4
   },
   {
    "_defaultOrder": 23,
    "_isFastLaunch": false,
    "category": "Compute optimized",
    "gpuNum": 0,
    "hideHardwareSpecs": false,
    "memoryGiB": 16,
    "name": "ml.c5.2xlarge",
    "vcpuNum": 8
   },
   {
    "_defaultOrder": 24,
    "_isFastLaunch": false,
    "category": "Compute optimized",
    "gpuNum": 0,
    "hideHardwareSpecs": false,
    "memoryGiB": 32,
    "name": "ml.c5.4xlarge",
    "vcpuNum": 16
   },
   {
    "_defaultOrder": 25,
    "_isFastLaunch": false,
    "category": "Compute optimized",
    "gpuNum": 0,
    "hideHardwareSpecs": false,
    "memoryGiB": 72,
    "name": "ml.c5.9xlarge",
    "vcpuNum": 36
   },
   {
    "_defaultOrder": 26,
    "_isFastLaunch": false,
    "category": "Compute optimized",
    "gpuNum": 0,
    "hideHardwareSpecs": false,
    "memoryGiB": 96,
    "name": "ml.c5.12xlarge",
    "vcpuNum": 48
   },
   {
    "_defaultOrder": 27,
    "_isFastLaunch": false,
    "category": "Compute optimized",
    "gpuNum": 0,
    "hideHardwareSpecs": false,
    "memoryGiB": 144,
    "name": "ml.c5.18xlarge",
    "vcpuNum": 72
   },
   {
    "_defaultOrder": 28,
    "_isFastLaunch": false,
    "category": "Compute optimized",
    "gpuNum": 0,
    "hideHardwareSpecs": false,
    "memoryGiB": 192,
    "name": "ml.c5.24xlarge",
    "vcpuNum": 96
   },
   {
    "_defaultOrder": 29,
    "_isFastLaunch": true,
    "category": "Accelerated computing",
    "gpuNum": 1,
    "hideHardwareSpecs": false,
    "memoryGiB": 16,
    "name": "ml.g4dn.xlarge",
    "vcpuNum": 4
   },
   {
    "_defaultOrder": 30,
    "_isFastLaunch": false,
    "category": "Accelerated computing",
    "gpuNum": 1,
    "hideHardwareSpecs": false,
    "memoryGiB": 32,
    "name": "ml.g4dn.2xlarge",
    "vcpuNum": 8
   },
   {
    "_defaultOrder": 31,
    "_isFastLaunch": false,
    "category": "Accelerated computing",
    "gpuNum": 1,
    "hideHardwareSpecs": false,
    "memoryGiB": 64,
    "name": "ml.g4dn.4xlarge",
    "vcpuNum": 16
   },
   {
    "_defaultOrder": 32,
    "_isFastLaunch": false,
    "category": "Accelerated computing",
    "gpuNum": 1,
    "hideHardwareSpecs": false,
    "memoryGiB": 128,
    "name": "ml.g4dn.8xlarge",
    "vcpuNum": 32
   },
   {
    "_defaultOrder": 33,
    "_isFastLaunch": false,
    "category": "Accelerated computing",
    "gpuNum": 4,
    "hideHardwareSpecs": false,
    "memoryGiB": 192,
    "name": "ml.g4dn.12xlarge",
    "vcpuNum": 48
   },
   {
    "_defaultOrder": 34,
    "_isFastLaunch": false,
    "category": "Accelerated computing",
    "gpuNum": 1,
    "hideHardwareSpecs": false,
    "memoryGiB": 256,
    "name": "ml.g4dn.16xlarge",
    "vcpuNum": 64
   },
   {
    "_defaultOrder": 35,
    "_isFastLaunch": false,
    "category": "Accelerated computing",
    "gpuNum": 1,
    "hideHardwareSpecs": false,
    "memoryGiB": 61,
    "name": "ml.p3.2xlarge",
    "vcpuNum": 8
   },
   {
    "_defaultOrder": 36,
    "_isFastLaunch": false,
    "category": "Accelerated computing",
    "gpuNum": 4,
    "hideHardwareSpecs": false,
    "memoryGiB": 244,
    "name": "ml.p3.8xlarge",
    "vcpuNum": 32
   },
   {
    "_defaultOrder": 37,
    "_isFastLaunch": false,
    "category": "Accelerated computing",
    "gpuNum": 8,
    "hideHardwareSpecs": false,
    "memoryGiB": 488,
    "name": "ml.p3.16xlarge",
    "vcpuNum": 64
   },
   {
    "_defaultOrder": 38,
    "_isFastLaunch": false,
    "category": "Accelerated computing",
    "gpuNum": 8,
    "hideHardwareSpecs": false,
    "memoryGiB": 768,
    "name": "ml.p3dn.24xlarge",
    "vcpuNum": 96
   },
   {
    "_defaultOrder": 39,
    "_isFastLaunch": false,
    "category": "Memory Optimized",
    "gpuNum": 0,
    "hideHardwareSpecs": false,
    "memoryGiB": 16,
    "name": "ml.r5.large",
    "vcpuNum": 2
   },
   {
    "_defaultOrder": 40,
    "_isFastLaunch": false,
    "category": "Memory Optimized",
    "gpuNum": 0,
    "hideHardwareSpecs": false,
    "memoryGiB": 32,
    "name": "ml.r5.xlarge",
    "vcpuNum": 4
   },
   {
    "_defaultOrder": 41,
    "_isFastLaunch": false,
    "category": "Memory Optimized",
    "gpuNum": 0,
    "hideHardwareSpecs": false,
    "memoryGiB": 64,
    "name": "ml.r5.2xlarge",
    "vcpuNum": 8
   },
   {
    "_defaultOrder": 42,
    "_isFastLaunch": false,
    "category": "Memory Optimized",
    "gpuNum": 0,
    "hideHardwareSpecs": false,
    "memoryGiB": 128,
    "name": "ml.r5.4xlarge",
    "vcpuNum": 16
   },
   {
    "_defaultOrder": 43,
    "_isFastLaunch": false,
    "category": "Memory Optimized",
    "gpuNum": 0,
    "hideHardwareSpecs": false,
    "memoryGiB": 256,
    "name": "ml.r5.8xlarge",
    "vcpuNum": 32
   },
   {
    "_defaultOrder": 44,
    "_isFastLaunch": false,
    "category": "Memory Optimized",
    "gpuNum": 0,
    "hideHardwareSpecs": false,
    "memoryGiB": 384,
    "name": "ml.r5.12xlarge",
    "vcpuNum": 48
   },
   {
    "_defaultOrder": 45,
    "_isFastLaunch": false,
    "category": "Memory Optimized",
    "gpuNum": 0,
    "hideHardwareSpecs": false,
    "memoryGiB": 512,
    "name": "ml.r5.16xlarge",
    "vcpuNum": 64
   },
   {
    "_defaultOrder": 46,
    "_isFastLaunch": false,
    "category": "Memory Optimized",
    "gpuNum": 0,
    "hideHardwareSpecs": false,
    "memoryGiB": 768,
    "name": "ml.r5.24xlarge",
    "vcpuNum": 96
   },
   {
    "_defaultOrder": 47,
    "_isFastLaunch": false,
    "category": "Accelerated computing",
    "gpuNum": 1,
    "hideHardwareSpecs": false,
    "memoryGiB": 16,
    "name": "ml.g5.xlarge",
    "vcpuNum": 4
   },
   {
    "_defaultOrder": 48,
    "_isFastLaunch": false,
    "category": "Accelerated computing",
    "gpuNum": 1,
    "hideHardwareSpecs": false,
    "memoryGiB": 32,
    "name": "ml.g5.2xlarge",
    "vcpuNum": 8
   },
   {
    "_defaultOrder": 49,
    "_isFastLaunch": false,
    "category": "Accelerated computing",
    "gpuNum": 1,
    "hideHardwareSpecs": false,
    "memoryGiB": 64,
    "name": "ml.g5.4xlarge",
    "vcpuNum": 16
   },
   {
    "_defaultOrder": 50,
    "_isFastLaunch": false,
    "category": "Accelerated computing",
    "gpuNum": 1,
    "hideHardwareSpecs": false,
    "memoryGiB": 128,
    "name": "ml.g5.8xlarge",
    "vcpuNum": 32
   },
   {
    "_defaultOrder": 51,
    "_isFastLaunch": false,
    "category": "Accelerated computing",
    "gpuNum": 1,
    "hideHardwareSpecs": false,
    "memoryGiB": 256,
    "name": "ml.g5.16xlarge",
    "vcpuNum": 64
   },
   {
    "_defaultOrder": 52,
    "_isFastLaunch": false,
    "category": "Accelerated computing",
    "gpuNum": 4,
    "hideHardwareSpecs": false,
    "memoryGiB": 192,
    "name": "ml.g5.12xlarge",
    "vcpuNum": 48
   },
   {
    "_defaultOrder": 53,
    "_isFastLaunch": false,
    "category": "Accelerated computing",
    "gpuNum": 4,
    "hideHardwareSpecs": false,
    "memoryGiB": 384,
    "name": "ml.g5.24xlarge",
    "vcpuNum": 96
   },
   {
    "_defaultOrder": 54,
    "_isFastLaunch": false,
    "category": "Accelerated computing",
    "gpuNum": 8,
    "hideHardwareSpecs": false,
    "memoryGiB": 768,
    "name": "ml.g5.48xlarge",
    "vcpuNum": 192
   },
   {
    "_defaultOrder": 55,
    "_isFastLaunch": false,
    "category": "Accelerated computing",
    "gpuNum": 8,
    "hideHardwareSpecs": false,
    "memoryGiB": 1152,
    "name": "ml.p4d.24xlarge",
    "vcpuNum": 96
   },
   {
    "_defaultOrder": 56,
    "_isFastLaunch": false,
    "category": "Accelerated computing",
    "gpuNum": 8,
    "hideHardwareSpecs": false,
    "memoryGiB": 1152,
    "name": "ml.p4de.24xlarge",
    "vcpuNum": 96
   }
  ],
  "instance_type": "ml.t3.medium",
  "kernelspec": {
   "display_name": "Python 3 (Data Science 3.0)",
   "language": "python",
   "name": "python3__SAGEMAKER_INTERNAL__arn:aws:sagemaker:us-west-2:236514542706:image/sagemaker-data-science-310-v1"
  },
  "language_info": {
   "codemirror_mode": {
    "name": "ipython",
    "version": 3
   },
   "file_extension": ".py",
   "mimetype": "text/x-python",
   "name": "python",
   "nbconvert_exporter": "python",
   "pygments_lexer": "ipython3",
   "version": "3.10.6"
  },
  "lcc_arn": "arn:aws:sagemaker:us-west-2:111039177464:studio-lifecycle-config/gdmlml-studio-new-kernelgateway-default-lifecycle-config"
 },
 "nbformat": 4,
 "nbformat_minor": 5
}
