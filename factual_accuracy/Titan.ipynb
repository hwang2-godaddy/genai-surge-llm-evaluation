{
 "cells": [
  {
   "cell_type": "markdown",
   "id": "4fb4ec93-5f65-4eca-9289-c76aaa76d31c",
   "metadata": {},
   "source": [
    "## Set up Titan model on Bedrock"
   ]
  },
  {
   "cell_type": "code",
   "execution_count": 2,
   "id": "44037837-b380-48d9-b6c9-080064d19f75",
   "metadata": {
    "tags": []
   },
   "outputs": [
    {
     "name": "stdout",
     "output_type": "stream",
     "text": [
      "\u001b[31mERROR: pip's dependency resolver does not currently take into account all the packages that are installed. This behaviour is the source of the following dependency conflicts.\n",
      "spyder 5.3.3 requires pyqt5<5.16, which is not installed.\n",
      "spyder 5.3.3 requires pyqtwebengine<5.16, which is not installed.\n",
      "distributed 2022.7.0 requires tornado<6.2,>=6.0.3, but you have tornado 6.3.2 which is incompatible.\n",
      "jupyterlab 3.4.4 requires jupyter-server~=1.16, but you have jupyter-server 2.7.0 which is incompatible.\n",
      "jupyterlab-server 2.10.3 requires jupyter-server~=1.4, but you have jupyter-server 2.7.0 which is incompatible.\n",
      "notebook 6.5.5 requires jupyter-client<8,>=5.3.4, but you have jupyter-client 8.3.0 which is incompatible.\n",
      "notebook 6.5.5 requires pyzmq<25,>=17, but you have pyzmq 25.1.0 which is incompatible.\n",
      "panel 0.13.1 requires bokeh<2.5.0,>=2.4.0, but you have bokeh 3.2.1 which is incompatible.\n",
      "pyasn1-modules 0.2.8 requires pyasn1<0.5.0,>=0.4.6, but you have pyasn1 0.5.0 which is incompatible.\n",
      "sagemaker-datawrangler 0.4.3 requires sagemaker-data-insights==0.4.0, but you have sagemaker-data-insights 0.3.3 which is incompatible.\n",
      "spyder 5.3.3 requires ipython<8.0.0,>=7.31.1, but you have ipython 8.14.0 which is incompatible.\n",
      "spyder 5.3.3 requires pylint<3.0,>=2.5.0, but you have pylint 3.0.0a6 which is incompatible.\n",
      "spyder-kernels 2.3.3 requires ipython<8,>=7.31.1; python_version >= \"3\", but you have ipython 8.14.0 which is incompatible.\n",
      "spyder-kernels 2.3.3 requires jupyter-client<8,>=7.3.4; python_version >= \"3\", but you have jupyter-client 8.3.0 which is incompatible.\u001b[0m\u001b[31m\n",
      "\u001b[0m\u001b[33mWARNING: Running pip as the 'root' user can result in broken permissions and conflicting behaviour with the system package manager. It is recommended to use a virtual environment instead: https://pip.pypa.io/warnings/venv\u001b[0m\u001b[33m\n",
      "\u001b[0mNote: you may need to restart the kernel to use updated packages.\n",
      "\u001b[33mWARNING: Running pip as the 'root' user can result in broken permissions and conflicting behaviour with the system package manager. It is recommended to use a virtual environment instead: https://pip.pypa.io/warnings/venv\u001b[0m\u001b[33m\n",
      "\u001b[0mNote: you may need to restart the kernel to use updated packages.\n"
     ]
    }
   ],
   "source": [
    "# Make sure you ran `download-dependencies.sh` from the root of the repository first!\n",
    "%pip install --quiet --no-build-isolation --force-reinstall \\\n",
    "    ../dependencies/awscli-*-py3-none-any.whl \\\n",
    "    ../dependencies/boto3-*-py3-none-any.whl \\\n",
    "    ../dependencies/botocore-*-py3-none-any.whl\n",
    "\n",
    "%pip install --quiet langchain==0.0.249"
   ]
  },
  {
   "cell_type": "code",
   "execution_count": 3,
   "id": "5c65b38d-bb60-46c5-b2f9-592f3d8d5ea3",
   "metadata": {
    "tags": []
   },
   "outputs": [
    {
     "name": "stdout",
     "output_type": "stream",
     "text": [
      "Create new client\n",
      "  Using region: us-west-2\n",
      "boto3 Bedrock client successfully created!\n",
      "bedrock(https://bedrock.us-west-2.amazonaws.com)\n"
     ]
    }
   ],
   "source": [
    "import json\n",
    "import os\n",
    "import sys\n",
    "\n",
    "import boto3\n",
    "\n",
    "module_path = \"..\"\n",
    "sys.path.append(os.path.abspath(module_path))\n",
    "from utils import bedrock, print_ww\n",
    "\n",
    "\n",
    "# ---- ⚠️ Un-comment and edit the below lines as needed for your AWS setup ⚠️ ----\n",
    "\n",
    "# os.environ[\"AWS_DEFAULT_REGION\"] = \"<REGION_NAME>\"  # E.g. \"us-east-1\"\n",
    "# os.environ[\"AWS_PROFILE\"] = \"<YOUR_PROFILE>\"\n",
    "# os.environ[\"BEDROCK_ASSUME_ROLE\"] = \"<YOUR_ROLE_ARN>\"  # E.g. \"arn:aws:...\"\n",
    "# os.environ[\"BEDROCK_ENDPOINT_URL\"] = \"<YOUR_ENDPOINT_URL>\"  # E.g. \"https://...\"\n",
    "\n",
    "\n",
    "boto3_bedrock = bedrock.get_bedrock_client(\n",
    "    assumed_role=os.environ.get(\"BEDROCK_ASSUME_ROLE\", None),\n",
    "    endpoint_url=os.environ.get(\"BEDROCK_ENDPOINT_URL\", None),\n",
    "    region=os.environ.get(\"AWS_DEFAULT_REGION\", None),\n",
    ")"
   ]
  },
  {
   "cell_type": "code",
   "execution_count": 4,
   "id": "7736e9c5-8789-47ef-a80b-2a74e7176200",
   "metadata": {
    "tags": []
   },
   "outputs": [
    {
     "data": {
      "text/plain": [
       "{'ResponseMetadata': {'RequestId': '80af66a8-0109-4102-b4bb-4d1e01671104',\n",
       "  'HTTPStatusCode': 200,\n",
       "  'HTTPHeaders': {'date': 'Mon, 28 Aug 2023 17:32:46 GMT',\n",
       "   'content-type': 'application/json',\n",
       "   'content-length': '1166',\n",
       "   'connection': 'keep-alive',\n",
       "   'x-amzn-requestid': '80af66a8-0109-4102-b4bb-4d1e01671104'},\n",
       "  'RetryAttempts': 0},\n",
       " 'modelSummaries': [{'modelArn': 'arn:aws:bedrock:us-west-2::foundation-model/amazon.titan-tg1-large',\n",
       "   'modelId': 'amazon.titan-tg1-large'},\n",
       "  {'modelArn': 'arn:aws:bedrock:us-west-2::foundation-model/amazon.titan-e1t-medium',\n",
       "   'modelId': 'amazon.titan-e1t-medium'},\n",
       "  {'modelArn': 'arn:aws:bedrock:us-west-2::foundation-model/stability.stable-diffusion-xl',\n",
       "   'modelId': 'stability.stable-diffusion-xl'},\n",
       "  {'modelArn': 'arn:aws:bedrock:us-west-2::foundation-model/ai21.j2-grande-instruct',\n",
       "   'modelId': 'ai21.j2-grande-instruct'},\n",
       "  {'modelArn': 'arn:aws:bedrock:us-west-2::foundation-model/ai21.j2-jumbo-instruct',\n",
       "   'modelId': 'ai21.j2-jumbo-instruct'},\n",
       "  {'modelArn': 'arn:aws:bedrock:us-west-2::foundation-model/ai21.j2-mid',\n",
       "   'modelId': 'ai21.j2-mid'},\n",
       "  {'modelArn': 'arn:aws:bedrock:us-west-2::foundation-model/ai21.j2-ultra',\n",
       "   'modelId': 'ai21.j2-ultra'},\n",
       "  {'modelArn': 'arn:aws:bedrock:us-west-2::foundation-model/anthropic.claude-instant-v1',\n",
       "   'modelId': 'anthropic.claude-instant-v1'},\n",
       "  {'modelArn': 'arn:aws:bedrock:us-west-2::foundation-model/anthropic.claude-v1',\n",
       "   'modelId': 'anthropic.claude-v1'},\n",
       "  {'modelArn': 'arn:aws:bedrock:us-west-2::foundation-model/anthropic.claude-v2',\n",
       "   'modelId': 'anthropic.claude-v2'}]}"
      ]
     },
     "execution_count": 4,
     "metadata": {},
     "output_type": "execute_result"
    }
   ],
   "source": [
    "boto3_bedrock.list_foundation_models()"
   ]
  },
  {
   "cell_type": "code",
   "execution_count": null,
   "id": "fa898ede-d34a-420f-8040-6bfd65da3f08",
   "metadata": {},
   "outputs": [],
   "source": []
  },
  {
   "cell_type": "markdown",
   "id": "236ebde1-5433-48f0-aa70-1317f08e603e",
   "metadata": {},
   "source": [
    "## Install and import packages"
   ]
  },
  {
   "cell_type": "code",
   "execution_count": 5,
   "id": "b77e166b-7c3f-4f76-9816-1c6299ec2793",
   "metadata": {
    "tags": []
   },
   "outputs": [
    {
     "name": "stdout",
     "output_type": "stream",
     "text": [
      "\u001b[33mWARNING: Running pip as the 'root' user can result in broken permissions and conflicting behaviour with the system package manager. It is recommended to use a virtual environment instead: https://pip.pypa.io/warnings/venv\u001b[0m\u001b[33m\n",
      "\u001b[0mNote: you may need to restart the kernel to use updated packages.\n",
      "\u001b[33mWARNING: Running pip as the 'root' user can result in broken permissions and conflicting behaviour with the system package manager. It is recommended to use a virtual environment instead: https://pip.pypa.io/warnings/venv\u001b[0m\u001b[33m\n",
      "\u001b[0mNote: you may need to restart the kernel to use updated packages.\n",
      "\u001b[33mWARNING: Running pip as the 'root' user can result in broken permissions and conflicting behaviour with the system package manager. It is recommended to use a virtual environment instead: https://pip.pypa.io/warnings/venv\u001b[0m\u001b[33m\n",
      "\u001b[0mNote: you may need to restart the kernel to use updated packages.\n"
     ]
    }
   ],
   "source": [
    "%pip install --upgrade --quiet sagemaker\n",
    "%pip install --upgrade --quiet langchain\n",
    "%pip install --upgrade --quiet openai"
   ]
  },
  {
   "cell_type": "code",
   "execution_count": 6,
   "id": "fbe20bce-3ccb-4439-8604-724e9d0115e8",
   "metadata": {
    "tags": []
   },
   "outputs": [
    {
     "name": "stdout",
     "output_type": "stream",
     "text": [
      "\u001b[33mWARNING: Running pip as the 'root' user can result in broken permissions and conflicting behaviour with the system package manager. It is recommended to use a virtual environment instead: https://pip.pypa.io/warnings/venv\u001b[0m\u001b[33m\n",
      "\u001b[0mNote: you may need to restart the kernel to use updated packages.\n",
      "\u001b[31mERROR: pip's dependency resolver does not currently take into account all the packages that are installed. This behaviour is the source of the following dependency conflicts.\n",
      "spyder 5.3.3 requires pyqt5<5.16, which is not installed.\n",
      "spyder 5.3.3 requires pyqtwebengine<5.16, which is not installed.\n",
      "panel 0.13.1 requires bokeh<2.5.0,>=2.4.0, but you have bokeh 3.2.1 which is incompatible.\n",
      "spyder 5.3.3 requires ipython<8.0.0,>=7.31.1, but you have ipython 8.14.0 which is incompatible.\n",
      "spyder 5.3.3 requires pylint<3.0,>=2.5.0, but you have pylint 3.0.0a6 which is incompatible.\u001b[0m\u001b[31m\n",
      "\u001b[0m\u001b[33mWARNING: Running pip as the 'root' user can result in broken permissions and conflicting behaviour with the system package manager. It is recommended to use a virtual environment instead: https://pip.pypa.io/warnings/venv\u001b[0m\u001b[33m\n",
      "\u001b[0mNote: you may need to restart the kernel to use updated packages.\n"
     ]
    }
   ],
   "source": [
    "%pip uninstall --quiet typing_extensions --yes\n",
    "%pip install --upgrade --quiet typing_extensions"
   ]
  },
  {
   "cell_type": "code",
   "execution_count": 7,
   "id": "1e33a3b0-f6d7-440c-ab1d-01739a0cfe20",
   "metadata": {
    "tags": []
   },
   "outputs": [],
   "source": [
    "import openai\n",
    "import pandas as pd\n",
    "import time\n",
    "# from dotenv import load_dotenv\n",
    "from langchain.chat_models import ChatAnyscale, ChatOpenAI\n",
    "from langchain.schema import SystemMessage, HumanMessage\n",
    "import os\n",
    "# from multichoice import Multichoice\n",
    "from prompt_mgr import PromptMgr"
   ]
  },
  {
   "cell_type": "code",
   "execution_count": null,
   "id": "21522304-f63c-4872-b5d1-beed833defb3",
   "metadata": {},
   "outputs": [],
   "source": []
  },
  {
   "cell_type": "markdown",
   "id": "cb2e324f-ce3e-41ae-b3df-7ffac3bffa95",
   "metadata": {},
   "source": [
    "## Read input dataset and create prompt"
   ]
  },
  {
   "cell_type": "code",
   "execution_count": 8,
   "id": "5a83cc24-c0f2-43e4-83ee-99b455e20cd4",
   "metadata": {
    "tags": []
   },
   "outputs": [
    {
     "data": {
      "text/html": [
       "<div>\n",
       "<style scoped>\n",
       "    .dataframe tbody tr th:only-of-type {\n",
       "        vertical-align: middle;\n",
       "    }\n",
       "\n",
       "    .dataframe tbody tr th {\n",
       "        vertical-align: top;\n",
       "    }\n",
       "\n",
       "    .dataframe thead th {\n",
       "        text-align: right;\n",
       "    }\n",
       "</style>\n",
       "<table border=\"1\" class=\"dataframe\">\n",
       "  <thead>\n",
       "    <tr style=\"text-align: right;\">\n",
       "      <th></th>\n",
       "      <th>article_id</th>\n",
       "      <th>article_sent</th>\n",
       "      <th>correct_sent</th>\n",
       "      <th>correct_sent_id</th>\n",
       "      <th>incorrect_sent</th>\n",
       "      <th>incorrect_sent_id</th>\n",
       "    </tr>\n",
       "  </thead>\n",
       "  <tbody>\n",
       "    <tr>\n",
       "      <th>0</th>\n",
       "      <td>67c3b0a2da09ce32a83c098da1e0aff034e790d0</td>\n",
       "      <td>the abc have reported that those who receive c...</td>\n",
       "      <td>those who receive centrelink payments made up ...</td>\n",
       "      <td>84-0</td>\n",
       "      <td>the abc have reported that those who receive c...</td>\n",
       "      <td>40-0</td>\n",
       "    </tr>\n",
       "    <tr>\n",
       "      <th>1</th>\n",
       "      <td>7c4ae3beb354e0a9f11fa09f8fbb6613a50db5cc</td>\n",
       "      <td>five ambitious clubs are locked in a scramble ...</td>\n",
       "      <td>five ambitious clubs are locked in a scramble ...</td>\n",
       "      <td>44-1</td>\n",
       "      <td>five ambitious clubs are locked in a bid for t...</td>\n",
       "      <td>17-1</td>\n",
       "    </tr>\n",
       "    <tr>\n",
       "      <th>2</th>\n",
       "      <td>7e37b3e3623ae0ab6568e0e73584b16fae0cc00e</td>\n",
       "      <td>but it wasn't until last year that the 25 year...</td>\n",
       "      <td>the 25 year old from pennsylvania went on a le...</td>\n",
       "      <td>45-1</td>\n",
       "      <td>the 25 year old from pennsylvania went viral o...</td>\n",
       "      <td>4-1</td>\n",
       "    </tr>\n",
       "    <tr>\n",
       "      <th>3</th>\n",
       "      <td>cdbfba47929b459daf474a1a3dee37d2351729ea</td>\n",
       "      <td>seven games involving nimes were investigated ...</td>\n",
       "      <td>seven games involving nimes were investigated ...</td>\n",
       "      <td>93-2</td>\n",
       "      <td>seven games involving nimes were arrested last...</td>\n",
       "      <td>83-2</td>\n",
       "    </tr>\n",
       "    <tr>\n",
       "      <th>4</th>\n",
       "      <td>696ac804af5fcab8853c583f5c97e1eda6e2493a</td>\n",
       "      <td>the driver's side of the windscreen immediatel...</td>\n",
       "      <td>driver's side of the windscreen immediately sh...</td>\n",
       "      <td>61-2</td>\n",
       "      <td>driver's side were immediately shatters and fa...</td>\n",
       "      <td>42-2</td>\n",
       "    </tr>\n",
       "  </tbody>\n",
       "</table>\n",
       "</div>"
      ],
      "text/plain": [
       "                                 article_id  \\\n",
       "0  67c3b0a2da09ce32a83c098da1e0aff034e790d0   \n",
       "1  7c4ae3beb354e0a9f11fa09f8fbb6613a50db5cc   \n",
       "2  7e37b3e3623ae0ab6568e0e73584b16fae0cc00e   \n",
       "3  cdbfba47929b459daf474a1a3dee37d2351729ea   \n",
       "4  696ac804af5fcab8853c583f5c97e1eda6e2493a   \n",
       "\n",
       "                                        article_sent  \\\n",
       "0  the abc have reported that those who receive c...   \n",
       "1  five ambitious clubs are locked in a scramble ...   \n",
       "2  but it wasn't until last year that the 25 year...   \n",
       "3  seven games involving nimes were investigated ...   \n",
       "4  the driver's side of the windscreen immediatel...   \n",
       "\n",
       "                                        correct_sent correct_sent_id  \\\n",
       "0  those who receive centrelink payments made up ...            84-0   \n",
       "1  five ambitious clubs are locked in a scramble ...            44-1   \n",
       "2  the 25 year old from pennsylvania went on a le...            45-1   \n",
       "3  seven games involving nimes were investigated ...            93-2   \n",
       "4  driver's side of the windscreen immediately sh...            61-2   \n",
       "\n",
       "                                      incorrect_sent incorrect_sent_id  \n",
       "0  the abc have reported that those who receive c...              40-0  \n",
       "1  five ambitious clubs are locked in a bid for t...              17-1  \n",
       "2  the 25 year old from pennsylvania went viral o...               4-1  \n",
       "3  seven games involving nimes were arrested last...              83-2  \n",
       "4  driver's side were immediately shatters and fa...              42-2  "
      ]
     },
     "execution_count": 8,
     "metadata": {},
     "output_type": "execute_result"
    }
   ],
   "source": [
    "df = pd.read_json('resources/datasets/val_sentence_pairs.json')\n",
    "df.head()"
   ]
  },
  {
   "cell_type": "code",
   "execution_count": 9,
   "id": "cc435110-c0a9-41c3-be68-a9c7217e2d67",
   "metadata": {
    "tags": []
   },
   "outputs": [],
   "source": [
    "pm = PromptMgr(src_dir = 'resources/environments/answer_first/prompts')"
   ]
  },
  {
   "cell_type": "code",
   "execution_count": 10,
   "id": "edb0c9b6-2490-4cba-bb0e-2312a4aed0fd",
   "metadata": {
    "tags": []
   },
   "outputs": [],
   "source": [
    "def query_model(row, prompt_mgr, swap_answers = False, bedrock_model_id = 'amazon.titan-tg1-large'):\n",
    "    if swap_answers: \n",
    "        prompt = prompt_mgr.bind('consistent').render(\n",
    "                    article_sent=row['article_sent'], \n",
    "                    option_a=row['incorrect_sent'],\n",
    "                    option_b=row['correct_sent'])\n",
    "    else: \n",
    "        prompt = prompt_mgr.bind('consistent').render(\n",
    "                    article_sent=row['article_sent'], \n",
    "                    option_a=row['correct_sent'],\n",
    "                    option_b=row['incorrect_sent'])\n",
    "    system_prompt = prompt_mgr.bind('system').render()\n",
    "    prompt_data = f\"{system_prompt}\\n{prompt}\"\n",
    "    \n",
    "    \n",
    "    body = json.dumps({\n",
    "        \"inputText\": prompt_data, \n",
    "        \"textGenerationConfig\":{\n",
    "            \"maxTokenCount\":4096,\n",
    "            \"stopSequences\":[],\n",
    "            \"temperature\":0,\n",
    "            \"topP\":0.9\n",
    "            }\n",
    "    }) \n",
    "    modelId = bedrock_model_id\n",
    "    accept = 'application/json'\n",
    "    contentType = 'application/json'\n",
    "    \n",
    "    response = boto3_bedrock.invoke_model(body=body, modelId=modelId, accept=accept, contentType=contentType)\n",
    "    response_body = json.loads(response.get('body').read())\n",
    "    outputText = response_body.get('results')[0].get('outputText')\n",
    "    \n",
    "    return {'output': outputText} "
   ]
  },
  {
   "cell_type": "code",
   "execution_count": null,
   "id": "8e25920d-63f1-4b68-97b6-516128e3de3b",
   "metadata": {},
   "outputs": [],
   "source": []
  },
  {
   "cell_type": "markdown",
   "id": "3667d664-5050-402e-9208-3973cc023520",
   "metadata": {},
   "source": [
    "## Call Titan model"
   ]
  },
  {
   "cell_type": "code",
   "execution_count": 11,
   "id": "e5f268b3-c7d0-4733-924c-e79b3ef2e7ed",
   "metadata": {
    "tags": []
   },
   "outputs": [],
   "source": [
    "# Create an empty list to store the results\n",
    "results_list = []\n",
    "\n",
    "# Iterate over each row in the DataFrame\n",
    "for i in range(len(df)):\n",
    "    result = query_model(df.loc[i], pm, swap_answers=True)\n",
    "    results_list.append(result)\n",
    "\n",
    "# Create a new DataFrame from the results list\n",
    "results_df = pd.DataFrame(results_list)"
   ]
  },
  {
   "cell_type": "code",
   "execution_count": 12,
   "id": "4f952168-d8d9-43ce-bafc-c060356e0ae2",
   "metadata": {
    "tags": []
   },
   "outputs": [
    {
     "data": {
      "text/plain": [
       "'B'"
      ]
     },
     "execution_count": 12,
     "metadata": {},
     "output_type": "execute_result"
    }
   ],
   "source": [
    "results_df.loc[0]['output']"
   ]
  },
  {
   "cell_type": "code",
   "execution_count": 13,
   "id": "93737ca3-7ad2-45eb-ab65-311e5d07bba1",
   "metadata": {
    "tags": []
   },
   "outputs": [],
   "source": [
    "results_df.to_json('Titan-model-output-swapped.json')"
   ]
  },
  {
   "cell_type": "code",
   "execution_count": 14,
   "id": "2d07ef1b-bda0-4a99-97c9-7ea15e0079a2",
   "metadata": {},
   "outputs": [],
   "source": [
    "# Create an empty list to store the results\n",
    "results_list_no_swap = []\n",
    "\n",
    "# Iterate over each row in the DataFrame\n",
    "for i in range(len(df)):\n",
    "    result = query_model(df.loc[i], pm, swap_answers=False)\n",
    "    results_list_no_swap.append(result)\n",
    "\n",
    "# Create a new DataFrame from the results list\n",
    "results_df_no_swap = pd.DataFrame(results_list_no_swap)"
   ]
  },
  {
   "cell_type": "code",
   "execution_count": 15,
   "id": "e3bfee18-0c9a-4332-9b65-b113b24bcb3b",
   "metadata": {
    "tags": []
   },
   "outputs": [
    {
     "data": {
      "text/plain": [
       "'B'"
      ]
     },
     "execution_count": 15,
     "metadata": {},
     "output_type": "execute_result"
    }
   ],
   "source": [
    "results_df_no_swap.loc[0]['output']"
   ]
  },
  {
   "cell_type": "code",
   "execution_count": 16,
   "id": "e3e729b6-3d0c-4dbc-af04-b4d99fea10f7",
   "metadata": {
    "tags": []
   },
   "outputs": [],
   "source": [
    "results_df_no_swap.to_json('Titan-model-output-no-swap.json')"
   ]
  },
  {
   "cell_type": "code",
   "execution_count": null,
   "id": "a3fa63a9-c988-47cf-ad5a-f4610367ad33",
   "metadata": {},
   "outputs": [],
   "source": []
  },
  {
   "cell_type": "markdown",
   "id": "8e194598-494e-4f0e-9d3c-632fcd54a9bb",
   "metadata": {
    "tags": []
   },
   "source": [
    "## Postprocessing and analysis"
   ]
  },
  {
   "cell_type": "code",
   "execution_count": 19,
   "id": "47387940-7607-4b0f-a800-587ff60c850c",
   "metadata": {
    "tags": []
   },
   "outputs": [],
   "source": [
    "titan_swapped_df  = pd.read_json('Titan-model-output-swapped.json')\n",
    "titan_no_swap_df  = pd.read_json('Titan-model-output-no-swap.json')"
   ]
  },
  {
   "cell_type": "code",
   "execution_count": 20,
   "id": "a61ebb12-b9de-4a11-96d0-9f3dc3d6e2e0",
   "metadata": {
    "tags": []
   },
   "outputs": [
    {
     "data": {
      "text/html": [
       "<div>\n",
       "<style scoped>\n",
       "    .dataframe tbody tr th:only-of-type {\n",
       "        vertical-align: middle;\n",
       "    }\n",
       "\n",
       "    .dataframe tbody tr th {\n",
       "        vertical-align: top;\n",
       "    }\n",
       "\n",
       "    .dataframe thead th {\n",
       "        text-align: right;\n",
       "    }\n",
       "</style>\n",
       "<table border=\"1\" class=\"dataframe\">\n",
       "  <thead>\n",
       "    <tr style=\"text-align: right;\">\n",
       "      <th></th>\n",
       "      <th>output</th>\n",
       "    </tr>\n",
       "  </thead>\n",
       "  <tbody>\n",
       "    <tr>\n",
       "      <th>0</th>\n",
       "      <td>B</td>\n",
       "    </tr>\n",
       "    <tr>\n",
       "      <th>1</th>\n",
       "      <td>B</td>\n",
       "    </tr>\n",
       "    <tr>\n",
       "      <th>10</th>\n",
       "      <td>B</td>\n",
       "    </tr>\n",
       "    <tr>\n",
       "      <th>100</th>\n",
       "      <td>B</td>\n",
       "    </tr>\n",
       "    <tr>\n",
       "      <th>101</th>\n",
       "      <td>B</td>\n",
       "    </tr>\n",
       "  </tbody>\n",
       "</table>\n",
       "</div>"
      ],
      "text/plain": [
       "    output\n",
       "0        B\n",
       "1        B\n",
       "10       B\n",
       "100      B\n",
       "101      B"
      ]
     },
     "execution_count": 20,
     "metadata": {},
     "output_type": "execute_result"
    }
   ],
   "source": [
    "titan_swapped_df.head()"
   ]
  },
  {
   "cell_type": "code",
   "execution_count": 21,
   "id": "a43b91a6-02f3-4b01-879c-7f982b17b405",
   "metadata": {
    "tags": []
   },
   "outputs": [
    {
     "data": {
      "text/plain": [
       "(373, 1)"
      ]
     },
     "execution_count": 21,
     "metadata": {},
     "output_type": "execute_result"
    }
   ],
   "source": [
    "titan_swapped_df.shape"
   ]
  },
  {
   "cell_type": "code",
   "execution_count": 22,
   "id": "d1b30f13-ae91-4537-a37f-f2e147f5c0d0",
   "metadata": {
    "tags": []
   },
   "outputs": [],
   "source": [
    "titan_swapped_df.rename(columns={'output': 'titan_swapped_output'}, inplace=True)\n",
    "titan_no_swap_df.rename(columns={'output': 'titan_no_swap_output'}, inplace=True)"
   ]
  },
  {
   "cell_type": "code",
   "execution_count": 24,
   "id": "df786116-cade-4757-9217-ec541ab659fb",
   "metadata": {
    "tags": []
   },
   "outputs": [
    {
     "data": {
      "text/html": [
       "<div>\n",
       "<style scoped>\n",
       "    .dataframe tbody tr th:only-of-type {\n",
       "        vertical-align: middle;\n",
       "    }\n",
       "\n",
       "    .dataframe tbody tr th {\n",
       "        vertical-align: top;\n",
       "    }\n",
       "\n",
       "    .dataframe thead th {\n",
       "        text-align: right;\n",
       "    }\n",
       "</style>\n",
       "<table border=\"1\" class=\"dataframe\">\n",
       "  <thead>\n",
       "    <tr style=\"text-align: right;\">\n",
       "      <th></th>\n",
       "      <th>article_id</th>\n",
       "      <th>article_sent</th>\n",
       "      <th>correct_sent</th>\n",
       "      <th>correct_sent_id</th>\n",
       "      <th>incorrect_sent</th>\n",
       "      <th>incorrect_sent_id</th>\n",
       "      <th>titan_swapped_output</th>\n",
       "      <th>titan_no_swap_output</th>\n",
       "    </tr>\n",
       "  </thead>\n",
       "  <tbody>\n",
       "    <tr>\n",
       "      <th>0</th>\n",
       "      <td>67c3b0a2da09ce32a83c098da1e0aff034e790d0</td>\n",
       "      <td>the abc have reported that those who receive c...</td>\n",
       "      <td>those who receive centrelink payments made up ...</td>\n",
       "      <td>84-0</td>\n",
       "      <td>the abc have reported that those who receive c...</td>\n",
       "      <td>40-0</td>\n",
       "      <td>B</td>\n",
       "      <td>B</td>\n",
       "    </tr>\n",
       "    <tr>\n",
       "      <th>1</th>\n",
       "      <td>7c4ae3beb354e0a9f11fa09f8fbb6613a50db5cc</td>\n",
       "      <td>five ambitious clubs are locked in a scramble ...</td>\n",
       "      <td>five ambitious clubs are locked in a scramble ...</td>\n",
       "      <td>44-1</td>\n",
       "      <td>five ambitious clubs are locked in a bid for t...</td>\n",
       "      <td>17-1</td>\n",
       "      <td>B</td>\n",
       "      <td>B</td>\n",
       "    </tr>\n",
       "    <tr>\n",
       "      <th>2</th>\n",
       "      <td>7e37b3e3623ae0ab6568e0e73584b16fae0cc00e</td>\n",
       "      <td>but it wasn't until last year that the 25 year...</td>\n",
       "      <td>the 25 year old from pennsylvania went on a le...</td>\n",
       "      <td>45-1</td>\n",
       "      <td>the 25 year old from pennsylvania went viral o...</td>\n",
       "      <td>4-1</td>\n",
       "      <td>B</td>\n",
       "      <td>A</td>\n",
       "    </tr>\n",
       "    <tr>\n",
       "      <th>3</th>\n",
       "      <td>cdbfba47929b459daf474a1a3dee37d2351729ea</td>\n",
       "      <td>seven games involving nimes were investigated ...</td>\n",
       "      <td>seven games involving nimes were investigated ...</td>\n",
       "      <td>93-2</td>\n",
       "      <td>seven games involving nimes were arrested last...</td>\n",
       "      <td>83-2</td>\n",
       "      <td>B</td>\n",
       "      <td>A</td>\n",
       "    </tr>\n",
       "    <tr>\n",
       "      <th>4</th>\n",
       "      <td>696ac804af5fcab8853c583f5c97e1eda6e2493a</td>\n",
       "      <td>the driver's side of the windscreen immediatel...</td>\n",
       "      <td>driver's side of the windscreen immediately sh...</td>\n",
       "      <td>61-2</td>\n",
       "      <td>driver's side were immediately shatters and fa...</td>\n",
       "      <td>42-2</td>\n",
       "      <td>B</td>\n",
       "      <td>A</td>\n",
       "    </tr>\n",
       "  </tbody>\n",
       "</table>\n",
       "</div>"
      ],
      "text/plain": [
       "                                 article_id  \\\n",
       "0  67c3b0a2da09ce32a83c098da1e0aff034e790d0   \n",
       "1  7c4ae3beb354e0a9f11fa09f8fbb6613a50db5cc   \n",
       "2  7e37b3e3623ae0ab6568e0e73584b16fae0cc00e   \n",
       "3  cdbfba47929b459daf474a1a3dee37d2351729ea   \n",
       "4  696ac804af5fcab8853c583f5c97e1eda6e2493a   \n",
       "\n",
       "                                        article_sent  \\\n",
       "0  the abc have reported that those who receive c...   \n",
       "1  five ambitious clubs are locked in a scramble ...   \n",
       "2  but it wasn't until last year that the 25 year...   \n",
       "3  seven games involving nimes were investigated ...   \n",
       "4  the driver's side of the windscreen immediatel...   \n",
       "\n",
       "                                        correct_sent correct_sent_id  \\\n",
       "0  those who receive centrelink payments made up ...            84-0   \n",
       "1  five ambitious clubs are locked in a scramble ...            44-1   \n",
       "2  the 25 year old from pennsylvania went on a le...            45-1   \n",
       "3  seven games involving nimes were investigated ...            93-2   \n",
       "4  driver's side of the windscreen immediately sh...            61-2   \n",
       "\n",
       "                                      incorrect_sent incorrect_sent_id  \\\n",
       "0  the abc have reported that those who receive c...              40-0   \n",
       "1  five ambitious clubs are locked in a bid for t...              17-1   \n",
       "2  the 25 year old from pennsylvania went viral o...               4-1   \n",
       "3  seven games involving nimes were arrested last...              83-2   \n",
       "4  driver's side were immediately shatters and fa...              42-2   \n",
       "\n",
       "  titan_swapped_output titan_no_swap_output  \n",
       "0                    B                    B  \n",
       "1                    B                    B  \n",
       "2                    B                    A  \n",
       "3                    B                    A  \n",
       "4                    B                    A  "
      ]
     },
     "execution_count": 24,
     "metadata": {},
     "output_type": "execute_result"
    }
   ],
   "source": [
    "input_df = df\n",
    "\n",
    "combined_df = pd.concat([input_df, \n",
    "                         titan_swapped_df, \n",
    "                         titan_no_swap_df,], axis=1)\n",
    "combined_df.head()"
   ]
  },
  {
   "cell_type": "code",
   "execution_count": 25,
   "id": "51c3f3ee-d70e-428e-87a0-ed4d5360fa93",
   "metadata": {
    "tags": []
   },
   "outputs": [],
   "source": [
    "def is_correct(row): \n",
    "    if (row[0] == 'B' and row[1] == 'A'):\n",
    "        return 'Y'\n",
    "    if (row[0] == row[1]):\n",
    "        return row[0]*2\n",
    "    return 'N'"
   ]
  },
  {
   "cell_type": "code",
   "execution_count": 26,
   "id": "43529aa3-eb6c-4c57-aef8-d90c21c739c1",
   "metadata": {
    "tags": []
   },
   "outputs": [],
   "source": [
    "combined_df['titan_analysis_result'] = combined_df[['titan_swapped_output', 'titan_no_swap_output']].apply(is_correct, axis=1)"
   ]
  },
  {
   "cell_type": "code",
   "execution_count": 27,
   "id": "b8badb63-ccd8-4ef5-9ebe-9faf1bbb563d",
   "metadata": {
    "tags": []
   },
   "outputs": [],
   "source": [
    "def acc_bias(col):\n",
    "    results = combined_df[col].value_counts()/len(combined_df)\n",
    "    acc = results['Y']\n",
    "    if 'AA' not in results:\n",
    "        results['AA'] = 0\n",
    "    if 'BB' not in results: \n",
    "        results['BB'] = 0\n",
    "        \n",
    "    bias = abs(results['AA'] - results['BB'])\n",
    "    aa_ratio = results['AA'] * 100\n",
    "    bb_ratio = results['BB'] * 100\n",
    "    if results['AA'] > results['BB']:\n",
    "        towards = 'A'\n",
    "    else:\n",
    "        towards = 'B'\n",
    "        \n",
    "    return acc, aa_ratio, bb_ratio, bias, towards"
   ]
  },
  {
   "cell_type": "code",
   "execution_count": 28,
   "id": "2d92c8fd-5cf4-46da-b85e-ee32d3216352",
   "metadata": {
    "tags": []
   },
   "outputs": [
    {
     "name": "stdout",
     "output_type": "stream",
     "text": [
      "titan:   \tAccuracy: 65.4%  \tAA: 2.1%\tBB: 28.2%\tBias: 26.0% towards B\n"
     ]
    }
   ],
   "source": [
    "for m in ['titan']:\n",
    "    acc, aa_ratio, bb_ratio, bias, towards = acc_bias(m+'_analysis_result')\n",
    "    acc = acc*100\n",
    "    bias = bias*100\n",
    "    print(f'{m}:   \\tAccuracy: {acc:.1f}%  \\tAA: {aa_ratio:.1f}%\\tBB: {bb_ratio:.1f}%\\tBias: {bias:.1f}% towards {towards}')"
   ]
  },
  {
   "cell_type": "code",
   "execution_count": null,
   "id": "87e9bbfc-b917-48a4-a1a8-f33943f81ab4",
   "metadata": {},
   "outputs": [],
   "source": []
  }
 ],
 "metadata": {
  "availableInstances": [
   {
    "_defaultOrder": 0,
    "_isFastLaunch": true,
    "category": "General purpose",
    "gpuNum": 0,
    "hideHardwareSpecs": false,
    "memoryGiB": 4,
    "name": "ml.t3.medium",
    "vcpuNum": 2
   },
   {
    "_defaultOrder": 1,
    "_isFastLaunch": false,
    "category": "General purpose",
    "gpuNum": 0,
    "hideHardwareSpecs": false,
    "memoryGiB": 8,
    "name": "ml.t3.large",
    "vcpuNum": 2
   },
   {
    "_defaultOrder": 2,
    "_isFastLaunch": false,
    "category": "General purpose",
    "gpuNum": 0,
    "hideHardwareSpecs": false,
    "memoryGiB": 16,
    "name": "ml.t3.xlarge",
    "vcpuNum": 4
   },
   {
    "_defaultOrder": 3,
    "_isFastLaunch": false,
    "category": "General purpose",
    "gpuNum": 0,
    "hideHardwareSpecs": false,
    "memoryGiB": 32,
    "name": "ml.t3.2xlarge",
    "vcpuNum": 8
   },
   {
    "_defaultOrder": 4,
    "_isFastLaunch": true,
    "category": "General purpose",
    "gpuNum": 0,
    "hideHardwareSpecs": false,
    "memoryGiB": 8,
    "name": "ml.m5.large",
    "vcpuNum": 2
   },
   {
    "_defaultOrder": 5,
    "_isFastLaunch": false,
    "category": "General purpose",
    "gpuNum": 0,
    "hideHardwareSpecs": false,
    "memoryGiB": 16,
    "name": "ml.m5.xlarge",
    "vcpuNum": 4
   },
   {
    "_defaultOrder": 6,
    "_isFastLaunch": false,
    "category": "General purpose",
    "gpuNum": 0,
    "hideHardwareSpecs": false,
    "memoryGiB": 32,
    "name": "ml.m5.2xlarge",
    "vcpuNum": 8
   },
   {
    "_defaultOrder": 7,
    "_isFastLaunch": false,
    "category": "General purpose",
    "gpuNum": 0,
    "hideHardwareSpecs": false,
    "memoryGiB": 64,
    "name": "ml.m5.4xlarge",
    "vcpuNum": 16
   },
   {
    "_defaultOrder": 8,
    "_isFastLaunch": false,
    "category": "General purpose",
    "gpuNum": 0,
    "hideHardwareSpecs": false,
    "memoryGiB": 128,
    "name": "ml.m5.8xlarge",
    "vcpuNum": 32
   },
   {
    "_defaultOrder": 9,
    "_isFastLaunch": false,
    "category": "General purpose",
    "gpuNum": 0,
    "hideHardwareSpecs": false,
    "memoryGiB": 192,
    "name": "ml.m5.12xlarge",
    "vcpuNum": 48
   },
   {
    "_defaultOrder": 10,
    "_isFastLaunch": false,
    "category": "General purpose",
    "gpuNum": 0,
    "hideHardwareSpecs": false,
    "memoryGiB": 256,
    "name": "ml.m5.16xlarge",
    "vcpuNum": 64
   },
   {
    "_defaultOrder": 11,
    "_isFastLaunch": false,
    "category": "General purpose",
    "gpuNum": 0,
    "hideHardwareSpecs": false,
    "memoryGiB": 384,
    "name": "ml.m5.24xlarge",
    "vcpuNum": 96
   },
   {
    "_defaultOrder": 12,
    "_isFastLaunch": false,
    "category": "General purpose",
    "gpuNum": 0,
    "hideHardwareSpecs": false,
    "memoryGiB": 8,
    "name": "ml.m5d.large",
    "vcpuNum": 2
   },
   {
    "_defaultOrder": 13,
    "_isFastLaunch": false,
    "category": "General purpose",
    "gpuNum": 0,
    "hideHardwareSpecs": false,
    "memoryGiB": 16,
    "name": "ml.m5d.xlarge",
    "vcpuNum": 4
   },
   {
    "_defaultOrder": 14,
    "_isFastLaunch": false,
    "category": "General purpose",
    "gpuNum": 0,
    "hideHardwareSpecs": false,
    "memoryGiB": 32,
    "name": "ml.m5d.2xlarge",
    "vcpuNum": 8
   },
   {
    "_defaultOrder": 15,
    "_isFastLaunch": false,
    "category": "General purpose",
    "gpuNum": 0,
    "hideHardwareSpecs": false,
    "memoryGiB": 64,
    "name": "ml.m5d.4xlarge",
    "vcpuNum": 16
   },
   {
    "_defaultOrder": 16,
    "_isFastLaunch": false,
    "category": "General purpose",
    "gpuNum": 0,
    "hideHardwareSpecs": false,
    "memoryGiB": 128,
    "name": "ml.m5d.8xlarge",
    "vcpuNum": 32
   },
   {
    "_defaultOrder": 17,
    "_isFastLaunch": false,
    "category": "General purpose",
    "gpuNum": 0,
    "hideHardwareSpecs": false,
    "memoryGiB": 192,
    "name": "ml.m5d.12xlarge",
    "vcpuNum": 48
   },
   {
    "_defaultOrder": 18,
    "_isFastLaunch": false,
    "category": "General purpose",
    "gpuNum": 0,
    "hideHardwareSpecs": false,
    "memoryGiB": 256,
    "name": "ml.m5d.16xlarge",
    "vcpuNum": 64
   },
   {
    "_defaultOrder": 19,
    "_isFastLaunch": false,
    "category": "General purpose",
    "gpuNum": 0,
    "hideHardwareSpecs": false,
    "memoryGiB": 384,
    "name": "ml.m5d.24xlarge",
    "vcpuNum": 96
   },
   {
    "_defaultOrder": 20,
    "_isFastLaunch": false,
    "category": "General purpose",
    "gpuNum": 0,
    "hideHardwareSpecs": true,
    "memoryGiB": 0,
    "name": "ml.geospatial.interactive",
    "supportedImageNames": [
     "sagemaker-geospatial-v1-0"
    ],
    "vcpuNum": 0
   },
   {
    "_defaultOrder": 21,
    "_isFastLaunch": true,
    "category": "Compute optimized",
    "gpuNum": 0,
    "hideHardwareSpecs": false,
    "memoryGiB": 4,
    "name": "ml.c5.large",
    "vcpuNum": 2
   },
   {
    "_defaultOrder": 22,
    "_isFastLaunch": false,
    "category": "Compute optimized",
    "gpuNum": 0,
    "hideHardwareSpecs": false,
    "memoryGiB": 8,
    "name": "ml.c5.xlarge",
    "vcpuNum": 4
   },
   {
    "_defaultOrder": 23,
    "_isFastLaunch": false,
    "category": "Compute optimized",
    "gpuNum": 0,
    "hideHardwareSpecs": false,
    "memoryGiB": 16,
    "name": "ml.c5.2xlarge",
    "vcpuNum": 8
   },
   {
    "_defaultOrder": 24,
    "_isFastLaunch": false,
    "category": "Compute optimized",
    "gpuNum": 0,
    "hideHardwareSpecs": false,
    "memoryGiB": 32,
    "name": "ml.c5.4xlarge",
    "vcpuNum": 16
   },
   {
    "_defaultOrder": 25,
    "_isFastLaunch": false,
    "category": "Compute optimized",
    "gpuNum": 0,
    "hideHardwareSpecs": false,
    "memoryGiB": 72,
    "name": "ml.c5.9xlarge",
    "vcpuNum": 36
   },
   {
    "_defaultOrder": 26,
    "_isFastLaunch": false,
    "category": "Compute optimized",
    "gpuNum": 0,
    "hideHardwareSpecs": false,
    "memoryGiB": 96,
    "name": "ml.c5.12xlarge",
    "vcpuNum": 48
   },
   {
    "_defaultOrder": 27,
    "_isFastLaunch": false,
    "category": "Compute optimized",
    "gpuNum": 0,
    "hideHardwareSpecs": false,
    "memoryGiB": 144,
    "name": "ml.c5.18xlarge",
    "vcpuNum": 72
   },
   {
    "_defaultOrder": 28,
    "_isFastLaunch": false,
    "category": "Compute optimized",
    "gpuNum": 0,
    "hideHardwareSpecs": false,
    "memoryGiB": 192,
    "name": "ml.c5.24xlarge",
    "vcpuNum": 96
   },
   {
    "_defaultOrder": 29,
    "_isFastLaunch": true,
    "category": "Accelerated computing",
    "gpuNum": 1,
    "hideHardwareSpecs": false,
    "memoryGiB": 16,
    "name": "ml.g4dn.xlarge",
    "vcpuNum": 4
   },
   {
    "_defaultOrder": 30,
    "_isFastLaunch": false,
    "category": "Accelerated computing",
    "gpuNum": 1,
    "hideHardwareSpecs": false,
    "memoryGiB": 32,
    "name": "ml.g4dn.2xlarge",
    "vcpuNum": 8
   },
   {
    "_defaultOrder": 31,
    "_isFastLaunch": false,
    "category": "Accelerated computing",
    "gpuNum": 1,
    "hideHardwareSpecs": false,
    "memoryGiB": 64,
    "name": "ml.g4dn.4xlarge",
    "vcpuNum": 16
   },
   {
    "_defaultOrder": 32,
    "_isFastLaunch": false,
    "category": "Accelerated computing",
    "gpuNum": 1,
    "hideHardwareSpecs": false,
    "memoryGiB": 128,
    "name": "ml.g4dn.8xlarge",
    "vcpuNum": 32
   },
   {
    "_defaultOrder": 33,
    "_isFastLaunch": false,
    "category": "Accelerated computing",
    "gpuNum": 4,
    "hideHardwareSpecs": false,
    "memoryGiB": 192,
    "name": "ml.g4dn.12xlarge",
    "vcpuNum": 48
   },
   {
    "_defaultOrder": 34,
    "_isFastLaunch": false,
    "category": "Accelerated computing",
    "gpuNum": 1,
    "hideHardwareSpecs": false,
    "memoryGiB": 256,
    "name": "ml.g4dn.16xlarge",
    "vcpuNum": 64
   },
   {
    "_defaultOrder": 35,
    "_isFastLaunch": false,
    "category": "Accelerated computing",
    "gpuNum": 1,
    "hideHardwareSpecs": false,
    "memoryGiB": 61,
    "name": "ml.p3.2xlarge",
    "vcpuNum": 8
   },
   {
    "_defaultOrder": 36,
    "_isFastLaunch": false,
    "category": "Accelerated computing",
    "gpuNum": 4,
    "hideHardwareSpecs": false,
    "memoryGiB": 244,
    "name": "ml.p3.8xlarge",
    "vcpuNum": 32
   },
   {
    "_defaultOrder": 37,
    "_isFastLaunch": false,
    "category": "Accelerated computing",
    "gpuNum": 8,
    "hideHardwareSpecs": false,
    "memoryGiB": 488,
    "name": "ml.p3.16xlarge",
    "vcpuNum": 64
   },
   {
    "_defaultOrder": 38,
    "_isFastLaunch": false,
    "category": "Accelerated computing",
    "gpuNum": 8,
    "hideHardwareSpecs": false,
    "memoryGiB": 768,
    "name": "ml.p3dn.24xlarge",
    "vcpuNum": 96
   },
   {
    "_defaultOrder": 39,
    "_isFastLaunch": false,
    "category": "Memory Optimized",
    "gpuNum": 0,
    "hideHardwareSpecs": false,
    "memoryGiB": 16,
    "name": "ml.r5.large",
    "vcpuNum": 2
   },
   {
    "_defaultOrder": 40,
    "_isFastLaunch": false,
    "category": "Memory Optimized",
    "gpuNum": 0,
    "hideHardwareSpecs": false,
    "memoryGiB": 32,
    "name": "ml.r5.xlarge",
    "vcpuNum": 4
   },
   {
    "_defaultOrder": 41,
    "_isFastLaunch": false,
    "category": "Memory Optimized",
    "gpuNum": 0,
    "hideHardwareSpecs": false,
    "memoryGiB": 64,
    "name": "ml.r5.2xlarge",
    "vcpuNum": 8
   },
   {
    "_defaultOrder": 42,
    "_isFastLaunch": false,
    "category": "Memory Optimized",
    "gpuNum": 0,
    "hideHardwareSpecs": false,
    "memoryGiB": 128,
    "name": "ml.r5.4xlarge",
    "vcpuNum": 16
   },
   {
    "_defaultOrder": 43,
    "_isFastLaunch": false,
    "category": "Memory Optimized",
    "gpuNum": 0,
    "hideHardwareSpecs": false,
    "memoryGiB": 256,
    "name": "ml.r5.8xlarge",
    "vcpuNum": 32
   },
   {
    "_defaultOrder": 44,
    "_isFastLaunch": false,
    "category": "Memory Optimized",
    "gpuNum": 0,
    "hideHardwareSpecs": false,
    "memoryGiB": 384,
    "name": "ml.r5.12xlarge",
    "vcpuNum": 48
   },
   {
    "_defaultOrder": 45,
    "_isFastLaunch": false,
    "category": "Memory Optimized",
    "gpuNum": 0,
    "hideHardwareSpecs": false,
    "memoryGiB": 512,
    "name": "ml.r5.16xlarge",
    "vcpuNum": 64
   },
   {
    "_defaultOrder": 46,
    "_isFastLaunch": false,
    "category": "Memory Optimized",
    "gpuNum": 0,
    "hideHardwareSpecs": false,
    "memoryGiB": 768,
    "name": "ml.r5.24xlarge",
    "vcpuNum": 96
   },
   {
    "_defaultOrder": 47,
    "_isFastLaunch": false,
    "category": "Accelerated computing",
    "gpuNum": 1,
    "hideHardwareSpecs": false,
    "memoryGiB": 16,
    "name": "ml.g5.xlarge",
    "vcpuNum": 4
   },
   {
    "_defaultOrder": 48,
    "_isFastLaunch": false,
    "category": "Accelerated computing",
    "gpuNum": 1,
    "hideHardwareSpecs": false,
    "memoryGiB": 32,
    "name": "ml.g5.2xlarge",
    "vcpuNum": 8
   },
   {
    "_defaultOrder": 49,
    "_isFastLaunch": false,
    "category": "Accelerated computing",
    "gpuNum": 1,
    "hideHardwareSpecs": false,
    "memoryGiB": 64,
    "name": "ml.g5.4xlarge",
    "vcpuNum": 16
   },
   {
    "_defaultOrder": 50,
    "_isFastLaunch": false,
    "category": "Accelerated computing",
    "gpuNum": 1,
    "hideHardwareSpecs": false,
    "memoryGiB": 128,
    "name": "ml.g5.8xlarge",
    "vcpuNum": 32
   },
   {
    "_defaultOrder": 51,
    "_isFastLaunch": false,
    "category": "Accelerated computing",
    "gpuNum": 1,
    "hideHardwareSpecs": false,
    "memoryGiB": 256,
    "name": "ml.g5.16xlarge",
    "vcpuNum": 64
   },
   {
    "_defaultOrder": 52,
    "_isFastLaunch": false,
    "category": "Accelerated computing",
    "gpuNum": 4,
    "hideHardwareSpecs": false,
    "memoryGiB": 192,
    "name": "ml.g5.12xlarge",
    "vcpuNum": 48
   },
   {
    "_defaultOrder": 53,
    "_isFastLaunch": false,
    "category": "Accelerated computing",
    "gpuNum": 4,
    "hideHardwareSpecs": false,
    "memoryGiB": 384,
    "name": "ml.g5.24xlarge",
    "vcpuNum": 96
   },
   {
    "_defaultOrder": 54,
    "_isFastLaunch": false,
    "category": "Accelerated computing",
    "gpuNum": 8,
    "hideHardwareSpecs": false,
    "memoryGiB": 768,
    "name": "ml.g5.48xlarge",
    "vcpuNum": 192
   },
   {
    "_defaultOrder": 55,
    "_isFastLaunch": false,
    "category": "Accelerated computing",
    "gpuNum": 8,
    "hideHardwareSpecs": false,
    "memoryGiB": 1152,
    "name": "ml.p4d.24xlarge",
    "vcpuNum": 96
   },
   {
    "_defaultOrder": 56,
    "_isFastLaunch": false,
    "category": "Accelerated computing",
    "gpuNum": 8,
    "hideHardwareSpecs": false,
    "memoryGiB": 1152,
    "name": "ml.p4de.24xlarge",
    "vcpuNum": 96
   }
  ],
  "instance_type": "ml.t3.medium",
  "kernelspec": {
   "display_name": "Python 3 (Data Science 3.0)",
   "language": "python",
   "name": "python3__SAGEMAKER_INTERNAL__arn:aws:sagemaker:us-west-2:236514542706:image/sagemaker-data-science-310-v1"
  },
  "language_info": {
   "codemirror_mode": {
    "name": "ipython",
    "version": 3
   },
   "file_extension": ".py",
   "mimetype": "text/x-python",
   "name": "python",
   "nbconvert_exporter": "python",
   "pygments_lexer": "ipython3",
   "version": "3.10.6"
  },
  "lcc_arn": "arn:aws:sagemaker:us-west-2:488726636572:studio-lifecycle-config/gen-ai-studio-kernelgateway-default-lifecycle-config"
 },
 "nbformat": 4,
 "nbformat_minor": 5
}
